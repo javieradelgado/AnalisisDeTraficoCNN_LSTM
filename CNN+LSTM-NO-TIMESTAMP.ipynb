{
 "cells": [
  {
   "cell_type": "code",
   "execution_count": 1,
   "metadata": {
    "scrolled": false
   },
   "outputs": [
    {
     "name": "stderr",
     "output_type": "stream",
     "text": [
      "Using TensorFlow backend.\n"
     ]
    }
   ],
   "source": [
    "from __future__ import print_function\n",
    "import numpy as np # Biblioteca de funciones matematicas de alto nivel\n",
    "np.random.seed(1337)  # for reproducibility\n",
    "import tensorflow as tf\n",
    "import keras\n",
    "import pandas"
   ]
  },
  {
   "cell_type": "code",
   "execution_count": 2,
   "metadata": {},
   "outputs": [],
   "source": [
    "from keras.preprocessing import sequence\n",
    "from keras.models import Sequential # necesario para poder generar la red neuronal\n",
    "from keras.layers import Dense, Dropout, Activation, Lambda # Tipos de capa, hacen lo siguiente:\n",
    "from keras.layers import Embedding\n",
    "from keras.layers import Convolution1D,MaxPooling1D, Flatten, LSTM\n",
    "from keras.callbacks import CSVLogger # para guardar los datos en un excel\n",
    "from keras.callbacks import ModelCheckpoint, EarlyStopping, ReduceLROnPlateau, CSVLogger"
   ]
  },
  {
   "cell_type": "markdown",
   "metadata": {},
   "source": [
    "### ESTAS SON LAS CAPAS MAS IMPORTANTES\n",
    "* **Dense**: La capa que mas se utiliza, de la siguiente manera ::  output = activation(dot(input, kernel)+bias) dot representa la operacion punto a punto de todos los inputs y sus correspondientes pesos\n",
    "* **Dropout**: Se usa para resolver el problema de over-fitting, se intenta eliminar el ruido en esta capa\n",
    "* **Activation**: capa de activacion\n",
    "* **Lambda**: sirve para transformar los datos de entrada usando una expresión o una función\n",
    "* **Embedding**: esta capa sirve para convertir a vectores de tamaño fijo\n",
    "* **Convolution1D**: capa donde se realiza la convolucion\n",
    "* **MaxPooling1D**: capa donde se realiza la operacion de pooling\n",
    "* **Flatten**: capa donde se realiza la operacion de flatten (se puede usar para poner los datos en 1 sola dimension)"
   ]
  },
  {
   "cell_type": "code",
   "execution_count": 3,
   "metadata": {},
   "outputs": [],
   "source": [
    "from keras.datasets import imdb # un dataset incluido en keras\n",
    "from keras import backend as K # importas el backend (Tensorflow, Theano, etc)\n",
    "import pandas as pd # pandas es una libreria extension de numpy usada para manipulacion y analisis de datos, para manipular tablas numericas y series temporales"
   ]
  },
  {
   "cell_type": "code",
   "execution_count": 4,
   "metadata": {},
   "outputs": [],
   "source": [
    "from keras.utils.np_utils import to_categorical # sirve para convertir vectores de enteros a una matriz de clases binaria, por ejemplo:"
   ]
  },
  {
   "cell_type": "markdown",
   "metadata": {},
   "source": [
    " a = tf.keras.utils.to_categorical([0, 1, 2, 3], num_classes=4)\n",
    " \n",
    "                     [1, 0, 0, 0]\n",
    "                     [0, 1, 0, 0]\n",
    "                     [0, 0, 1, 0]\n",
    "                     [0, 0, 0, 1]"
   ]
  },
  {
   "cell_type": "code",
   "execution_count": 5,
   "metadata": {},
   "outputs": [],
   "source": [
    "import h5py # para almacenar un monton de datos numericos y dar facilidades de manipulacion para datos de Numpy"
   ]
  },
  {
   "cell_type": "code",
   "execution_count": 6,
   "metadata": {},
   "outputs": [],
   "source": [
    "from sklearn.preprocessing import Normalizer # Para normalizar los datos\n",
    "from sklearn.model_selection import train_test_split #para hacer la separacion entre datos de test y train\n",
    "from sklearn.preprocessing import OneHotEncoder #para convertir los datos de entrada"
   ]
  },
  {
   "cell_type": "code",
   "execution_count": 7,
   "metadata": {
    "scrolled": true
   },
   "outputs": [
    {
     "name": "stderr",
     "output_type": "stream",
     "text": [
      "D:\\Program Files\\anaconda3\\envs\\NN\\lib\\site-packages\\IPython\\core\\interactiveshell.py:3072: DtypeWarning: Columns (0,1,3,4,5,6,7,8,9,10,11,12,13,14,15,16,17,18,19,20,21,22,23,24,25,26,27,28,29,30,31,32,33,34,35,36,37,38,39,40,41,42,43,44,45,46,47,48,49,50,51,52,53,54,55,56,57,58,59,60,61,62,63,64,65,66,67,68,69,70,71,72,73,74,75,76,77,78) have mixed types.Specify dtype option on import or set low_memory=False.\n",
      "  interactivity=interactivity, compiler=compiler, result=result)\n"
     ]
    }
   ],
   "source": [
    "dataset = pd.read_csv('dataset/All/All_notsorted.csv') # lectura de datos"
   ]
  },
  {
   "cell_type": "code",
   "execution_count": 8,
   "metadata": {
    "scrolled": true
   },
   "outputs": [
    {
     "data": {
      "text/plain": [
       "(6187104, 80)"
      ]
     },
     "execution_count": 8,
     "metadata": {},
     "output_type": "execute_result"
    }
   ],
   "source": [
    "dataset.shape #comprobamos el tamaño"
   ]
  },
  {
   "cell_type": "code",
   "execution_count": 9,
   "metadata": {},
   "outputs": [],
   "source": [
    "#Eliminamos los datos mal introducidos\n",
    "dataset = dataset.drop(dataset[dataset['Dst Port']=='Dst Port'].index)"
   ]
  },
  {
   "cell_type": "markdown",
   "metadata": {},
   "source": [
    "## Eliminamos la columnaTimestamp"
   ]
  },
  {
   "cell_type": "code",
   "execution_count": 10,
   "metadata": {},
   "outputs": [],
   "source": [
    "#Eliminamos la columna\n",
    "dataset = dataset.drop(['Timestamp'], axis=1)"
   ]
  },
  {
   "cell_type": "code",
   "execution_count": 11,
   "metadata": {
    "scrolled": true
   },
   "outputs": [
    {
     "name": "stdout",
     "output_type": "stream",
     "text": [
      "<class 'pandas.core.frame.DataFrame'>\n",
      "Int64Index: 6187045 entries, 0 to 6187103\n",
      "Data columns (total 79 columns):\n",
      " #   Column             Dtype \n",
      "---  ------             ----- \n",
      " 0   Dst Port           object\n",
      " 1   Protocol           object\n",
      " 2   Flow Duration      object\n",
      " 3   Tot Fwd Pkts       object\n",
      " 4   Tot Bwd Pkts       object\n",
      " 5   TotLen Fwd Pkts    object\n",
      " 6   TotLen Bwd Pkts    object\n",
      " 7   Fwd Pkt Len Max    object\n",
      " 8   Fwd Pkt Len Min    object\n",
      " 9   Fwd Pkt Len Mean   object\n",
      " 10  Fwd Pkt Len Std    object\n",
      " 11  Bwd Pkt Len Max    object\n",
      " 12  Bwd Pkt Len Min    object\n",
      " 13  Bwd Pkt Len Mean   object\n",
      " 14  Bwd Pkt Len Std    object\n",
      " 15  Flow Byts/s        object\n",
      " 16  Flow Pkts/s        object\n",
      " 17  Flow IAT Mean      object\n",
      " 18  Flow IAT Std       object\n",
      " 19  Flow IAT Max       object\n",
      " 20  Flow IAT Min       object\n",
      " 21  Fwd IAT Tot        object\n",
      " 22  Fwd IAT Mean       object\n",
      " 23  Fwd IAT Std        object\n",
      " 24  Fwd IAT Max        object\n",
      " 25  Fwd IAT Min        object\n",
      " 26  Bwd IAT Tot        object\n",
      " 27  Bwd IAT Mean       object\n",
      " 28  Bwd IAT Std        object\n",
      " 29  Bwd IAT Max        object\n",
      " 30  Bwd IAT Min        object\n",
      " 31  Fwd PSH Flags      object\n",
      " 32  Bwd PSH Flags      object\n",
      " 33  Fwd URG Flags      object\n",
      " 34  Bwd URG Flags      object\n",
      " 35  Fwd Header Len     object\n",
      " 36  Bwd Header Len     object\n",
      " 37  Fwd Pkts/s         object\n",
      " 38  Bwd Pkts/s         object\n",
      " 39  Pkt Len Min        object\n",
      " 40  Pkt Len Max        object\n",
      " 41  Pkt Len Mean       object\n",
      " 42  Pkt Len Std        object\n",
      " 43  Pkt Len Var        object\n",
      " 44  FIN Flag Cnt       object\n",
      " 45  SYN Flag Cnt       object\n",
      " 46  RST Flag Cnt       object\n",
      " 47  PSH Flag Cnt       object\n",
      " 48  ACK Flag Cnt       object\n",
      " 49  URG Flag Cnt       object\n",
      " 50  CWE Flag Count     object\n",
      " 51  ECE Flag Cnt       object\n",
      " 52  Down/Up Ratio      object\n",
      " 53  Pkt Size Avg       object\n",
      " 54  Fwd Seg Size Avg   object\n",
      " 55  Bwd Seg Size Avg   object\n",
      " 56  Fwd Byts/b Avg     object\n",
      " 57  Fwd Pkts/b Avg     object\n",
      " 58  Fwd Blk Rate Avg   object\n",
      " 59  Bwd Byts/b Avg     object\n",
      " 60  Bwd Pkts/b Avg     object\n",
      " 61  Bwd Blk Rate Avg   object\n",
      " 62  Subflow Fwd Pkts   object\n",
      " 63  Subflow Fwd Byts   object\n",
      " 64  Subflow Bwd Pkts   object\n",
      " 65  Subflow Bwd Byts   object\n",
      " 66  Init Fwd Win Byts  object\n",
      " 67  Init Bwd Win Byts  object\n",
      " 68  Fwd Act Data Pkts  object\n",
      " 69  Fwd Seg Size Min   object\n",
      " 70  Active Mean        object\n",
      " 71  Active Std         object\n",
      " 72  Active Max         object\n",
      " 73  Active Min         object\n",
      " 74  Idle Mean          object\n",
      " 75  Idle Std           object\n",
      " 76  Idle Max           object\n",
      " 77  Idle Min           object\n",
      " 78  Label              object\n",
      "dtypes: object(79)\n",
      "memory usage: 3.7+ GB\n"
     ]
    }
   ],
   "source": [
    "dataset.info(verbose=True)"
   ]
  },
  {
   "cell_type": "code",
   "execution_count": 12,
   "metadata": {
    "scrolled": true
   },
   "outputs": [],
   "source": [
    "n=0\n",
    "for column in dataset:\n",
    "    column\n",
    "    if column != 'Label':\n",
    "        dataset[column] = dataset[column].astype(float)"
   ]
  },
  {
   "cell_type": "code",
   "execution_count": 13,
   "metadata": {
    "scrolled": true
   },
   "outputs": [
    {
     "name": "stdout",
     "output_type": "stream",
     "text": [
      "<class 'pandas.core.frame.DataFrame'>\n",
      "Int64Index: 6187045 entries, 0 to 6187103\n",
      "Data columns (total 79 columns):\n",
      " #   Column             Dtype  \n",
      "---  ------             -----  \n",
      " 0   Dst Port           float64\n",
      " 1   Protocol           float64\n",
      " 2   Flow Duration      float64\n",
      " 3   Tot Fwd Pkts       float64\n",
      " 4   Tot Bwd Pkts       float64\n",
      " 5   TotLen Fwd Pkts    float64\n",
      " 6   TotLen Bwd Pkts    float64\n",
      " 7   Fwd Pkt Len Max    float64\n",
      " 8   Fwd Pkt Len Min    float64\n",
      " 9   Fwd Pkt Len Mean   float64\n",
      " 10  Fwd Pkt Len Std    float64\n",
      " 11  Bwd Pkt Len Max    float64\n",
      " 12  Bwd Pkt Len Min    float64\n",
      " 13  Bwd Pkt Len Mean   float64\n",
      " 14  Bwd Pkt Len Std    float64\n",
      " 15  Flow Byts/s        float64\n",
      " 16  Flow Pkts/s        float64\n",
      " 17  Flow IAT Mean      float64\n",
      " 18  Flow IAT Std       float64\n",
      " 19  Flow IAT Max       float64\n",
      " 20  Flow IAT Min       float64\n",
      " 21  Fwd IAT Tot        float64\n",
      " 22  Fwd IAT Mean       float64\n",
      " 23  Fwd IAT Std        float64\n",
      " 24  Fwd IAT Max        float64\n",
      " 25  Fwd IAT Min        float64\n",
      " 26  Bwd IAT Tot        float64\n",
      " 27  Bwd IAT Mean       float64\n",
      " 28  Bwd IAT Std        float64\n",
      " 29  Bwd IAT Max        float64\n",
      " 30  Bwd IAT Min        float64\n",
      " 31  Fwd PSH Flags      float64\n",
      " 32  Bwd PSH Flags      float64\n",
      " 33  Fwd URG Flags      float64\n",
      " 34  Bwd URG Flags      float64\n",
      " 35  Fwd Header Len     float64\n",
      " 36  Bwd Header Len     float64\n",
      " 37  Fwd Pkts/s         float64\n",
      " 38  Bwd Pkts/s         float64\n",
      " 39  Pkt Len Min        float64\n",
      " 40  Pkt Len Max        float64\n",
      " 41  Pkt Len Mean       float64\n",
      " 42  Pkt Len Std        float64\n",
      " 43  Pkt Len Var        float64\n",
      " 44  FIN Flag Cnt       float64\n",
      " 45  SYN Flag Cnt       float64\n",
      " 46  RST Flag Cnt       float64\n",
      " 47  PSH Flag Cnt       float64\n",
      " 48  ACK Flag Cnt       float64\n",
      " 49  URG Flag Cnt       float64\n",
      " 50  CWE Flag Count     float64\n",
      " 51  ECE Flag Cnt       float64\n",
      " 52  Down/Up Ratio      float64\n",
      " 53  Pkt Size Avg       float64\n",
      " 54  Fwd Seg Size Avg   float64\n",
      " 55  Bwd Seg Size Avg   float64\n",
      " 56  Fwd Byts/b Avg     float64\n",
      " 57  Fwd Pkts/b Avg     float64\n",
      " 58  Fwd Blk Rate Avg   float64\n",
      " 59  Bwd Byts/b Avg     float64\n",
      " 60  Bwd Pkts/b Avg     float64\n",
      " 61  Bwd Blk Rate Avg   float64\n",
      " 62  Subflow Fwd Pkts   float64\n",
      " 63  Subflow Fwd Byts   float64\n",
      " 64  Subflow Bwd Pkts   float64\n",
      " 65  Subflow Bwd Byts   float64\n",
      " 66  Init Fwd Win Byts  float64\n",
      " 67  Init Bwd Win Byts  float64\n",
      " 68  Fwd Act Data Pkts  float64\n",
      " 69  Fwd Seg Size Min   float64\n",
      " 70  Active Mean        float64\n",
      " 71  Active Std         float64\n",
      " 72  Active Max         float64\n",
      " 73  Active Min         float64\n",
      " 74  Idle Mean          float64\n",
      " 75  Idle Std           float64\n",
      " 76  Idle Max           float64\n",
      " 77  Idle Min           float64\n",
      " 78  Label              object \n",
      "dtypes: float64(78), object(1)\n",
      "memory usage: 3.7+ GB\n"
     ]
    }
   ],
   "source": [
    "dataset.info(verbose=True)"
   ]
  },
  {
   "cell_type": "code",
   "execution_count": 14,
   "metadata": {},
   "outputs": [
    {
     "data": {
      "text/plain": [
       "array(['Benign', 'Brute Force -Web', 'Brute Force -XSS', 'SQL Injection',\n",
       "       'FTP-BruteForce', 'SSH-Bruteforce', 'Infilteration',\n",
       "       'DoS attacks-SlowHTTPTest', 'DoS attacks-Hulk',\n",
       "       'DoS attacks-GoldenEye', 'DoS attacks-Slowloris',\n",
       "       'DDOS attack-LOIC-UDP', 'DDOS attack-HOIC'], dtype=object)"
      ]
     },
     "execution_count": 14,
     "metadata": {},
     "output_type": "execute_result"
    }
   ],
   "source": [
    "#revisamos cuantos valores puede tener la ultima columna, osea, los tipos de flujo\n",
    "Labels = dataset['Label'].unique()\n",
    "Labels #para asignar nombres a las diferentes metricas en un futuro"
   ]
  },
  {
   "cell_type": "code",
   "execution_count": 15,
   "metadata": {},
   "outputs": [],
   "source": [
    "Y = dataset[\"Label\"]"
   ]
  },
  {
   "cell_type": "code",
   "execution_count": 16,
   "metadata": {},
   "outputs": [
    {
     "data": {
      "text/plain": [
       "Benign                      4301758\n",
       "DDOS attack-HOIC             686012\n",
       "DoS attacks-Hulk             461912\n",
       "FTP-BruteForce               193360\n",
       "SSH-Bruteforce               187589\n",
       "Infilteration                161934\n",
       "DoS attacks-SlowHTTPTest     139890\n",
       "DoS attacks-GoldenEye         41508\n",
       "DoS attacks-Slowloris         10990\n",
       "DDOS attack-LOIC-UDP           1730\n",
       "Brute Force -Web                249\n",
       "Brute Force -XSS                 79\n",
       "SQL Injection                    34\n",
       "Name: Label, dtype: int64"
      ]
     },
     "execution_count": 16,
     "metadata": {},
     "output_type": "execute_result"
    }
   ],
   "source": [
    "dataset[\"Label\"].value_counts()"
   ]
  },
  {
   "cell_type": "code",
   "execution_count": 17,
   "metadata": {
    "scrolled": true
   },
   "outputs": [
    {
     "data": {
      "text/html": [
       "<div>\n",
       "<style scoped>\n",
       "    .dataframe tbody tr th:only-of-type {\n",
       "        vertical-align: middle;\n",
       "    }\n",
       "\n",
       "    .dataframe tbody tr th {\n",
       "        vertical-align: top;\n",
       "    }\n",
       "\n",
       "    .dataframe thead th {\n",
       "        text-align: right;\n",
       "    }\n",
       "</style>\n",
       "<table border=\"1\" class=\"dataframe\">\n",
       "  <thead>\n",
       "    <tr style=\"text-align: right;\">\n",
       "      <th></th>\n",
       "      <th>Dst Port</th>\n",
       "      <th>Protocol</th>\n",
       "      <th>Flow Duration</th>\n",
       "      <th>Tot Fwd Pkts</th>\n",
       "      <th>Tot Bwd Pkts</th>\n",
       "      <th>TotLen Fwd Pkts</th>\n",
       "      <th>TotLen Bwd Pkts</th>\n",
       "      <th>Fwd Pkt Len Max</th>\n",
       "      <th>Fwd Pkt Len Min</th>\n",
       "      <th>Fwd Pkt Len Mean</th>\n",
       "      <th>...</th>\n",
       "      <th>Fwd Seg Size Min</th>\n",
       "      <th>Active Mean</th>\n",
       "      <th>Active Std</th>\n",
       "      <th>Active Max</th>\n",
       "      <th>Active Min</th>\n",
       "      <th>Idle Mean</th>\n",
       "      <th>Idle Std</th>\n",
       "      <th>Idle Max</th>\n",
       "      <th>Idle Min</th>\n",
       "      <th>Label</th>\n",
       "    </tr>\n",
       "  </thead>\n",
       "  <tbody>\n",
       "    <tr>\n",
       "      <th>0</th>\n",
       "      <td>22.0</td>\n",
       "      <td>6.0</td>\n",
       "      <td>20553406.0</td>\n",
       "      <td>10.0</td>\n",
       "      <td>7.0</td>\n",
       "      <td>1063.0</td>\n",
       "      <td>1297.0</td>\n",
       "      <td>744.0</td>\n",
       "      <td>0.0</td>\n",
       "      <td>106.3</td>\n",
       "      <td>...</td>\n",
       "      <td>20.0</td>\n",
       "      <td>1027304.0</td>\n",
       "      <td>0.0</td>\n",
       "      <td>1027304.0</td>\n",
       "      <td>1027304.0</td>\n",
       "      <td>1.952608e+07</td>\n",
       "      <td>0.000000e+00</td>\n",
       "      <td>19526080.0</td>\n",
       "      <td>19526080.0</td>\n",
       "      <td>Benign</td>\n",
       "    </tr>\n",
       "    <tr>\n",
       "      <th>1</th>\n",
       "      <td>34989.0</td>\n",
       "      <td>6.0</td>\n",
       "      <td>790.0</td>\n",
       "      <td>2.0</td>\n",
       "      <td>0.0</td>\n",
       "      <td>848.0</td>\n",
       "      <td>0.0</td>\n",
       "      <td>848.0</td>\n",
       "      <td>0.0</td>\n",
       "      <td>424.0</td>\n",
       "      <td>...</td>\n",
       "      <td>20.0</td>\n",
       "      <td>0.0</td>\n",
       "      <td>0.0</td>\n",
       "      <td>0.0</td>\n",
       "      <td>0.0</td>\n",
       "      <td>0.000000e+00</td>\n",
       "      <td>0.000000e+00</td>\n",
       "      <td>0.0</td>\n",
       "      <td>0.0</td>\n",
       "      <td>Benign</td>\n",
       "    </tr>\n",
       "    <tr>\n",
       "      <th>2</th>\n",
       "      <td>500.0</td>\n",
       "      <td>17.0</td>\n",
       "      <td>99745913.0</td>\n",
       "      <td>5.0</td>\n",
       "      <td>0.0</td>\n",
       "      <td>2500.0</td>\n",
       "      <td>0.0</td>\n",
       "      <td>500.0</td>\n",
       "      <td>500.0</td>\n",
       "      <td>500.0</td>\n",
       "      <td>...</td>\n",
       "      <td>8.0</td>\n",
       "      <td>4000203.0</td>\n",
       "      <td>0.0</td>\n",
       "      <td>4000203.0</td>\n",
       "      <td>4000203.0</td>\n",
       "      <td>3.191524e+07</td>\n",
       "      <td>3.792787e+07</td>\n",
       "      <td>75584115.0</td>\n",
       "      <td>7200679.0</td>\n",
       "      <td>Benign</td>\n",
       "    </tr>\n",
       "    <tr>\n",
       "      <th>3</th>\n",
       "      <td>500.0</td>\n",
       "      <td>17.0</td>\n",
       "      <td>99745913.0</td>\n",
       "      <td>5.0</td>\n",
       "      <td>0.0</td>\n",
       "      <td>2500.0</td>\n",
       "      <td>0.0</td>\n",
       "      <td>500.0</td>\n",
       "      <td>500.0</td>\n",
       "      <td>500.0</td>\n",
       "      <td>...</td>\n",
       "      <td>8.0</td>\n",
       "      <td>4000189.0</td>\n",
       "      <td>0.0</td>\n",
       "      <td>4000189.0</td>\n",
       "      <td>4000189.0</td>\n",
       "      <td>3.191524e+07</td>\n",
       "      <td>3.792788e+07</td>\n",
       "      <td>75584130.0</td>\n",
       "      <td>7200693.0</td>\n",
       "      <td>Benign</td>\n",
       "    </tr>\n",
       "    <tr>\n",
       "      <th>4</th>\n",
       "      <td>500.0</td>\n",
       "      <td>17.0</td>\n",
       "      <td>89481361.0</td>\n",
       "      <td>6.0</td>\n",
       "      <td>0.0</td>\n",
       "      <td>3000.0</td>\n",
       "      <td>0.0</td>\n",
       "      <td>500.0</td>\n",
       "      <td>500.0</td>\n",
       "      <td>500.0</td>\n",
       "      <td>...</td>\n",
       "      <td>8.0</td>\n",
       "      <td>4000554.0</td>\n",
       "      <td>0.0</td>\n",
       "      <td>4000554.0</td>\n",
       "      <td>4000554.0</td>\n",
       "      <td>2.137020e+07</td>\n",
       "      <td>1.528109e+07</td>\n",
       "      <td>41990741.0</td>\n",
       "      <td>7200848.0</td>\n",
       "      <td>Benign</td>\n",
       "    </tr>\n",
       "  </tbody>\n",
       "</table>\n",
       "<p>5 rows × 79 columns</p>\n",
       "</div>"
      ],
      "text/plain": [
       "   Dst Port  Protocol  Flow Duration  Tot Fwd Pkts  Tot Bwd Pkts  \\\n",
       "0      22.0       6.0     20553406.0          10.0           7.0   \n",
       "1   34989.0       6.0          790.0           2.0           0.0   \n",
       "2     500.0      17.0     99745913.0           5.0           0.0   \n",
       "3     500.0      17.0     99745913.0           5.0           0.0   \n",
       "4     500.0      17.0     89481361.0           6.0           0.0   \n",
       "\n",
       "   TotLen Fwd Pkts  TotLen Bwd Pkts  Fwd Pkt Len Max  Fwd Pkt Len Min  \\\n",
       "0           1063.0           1297.0            744.0              0.0   \n",
       "1            848.0              0.0            848.0              0.0   \n",
       "2           2500.0              0.0            500.0            500.0   \n",
       "3           2500.0              0.0            500.0            500.0   \n",
       "4           3000.0              0.0            500.0            500.0   \n",
       "\n",
       "   Fwd Pkt Len Mean  ...  Fwd Seg Size Min  Active Mean  Active Std  \\\n",
       "0             106.3  ...              20.0    1027304.0         0.0   \n",
       "1             424.0  ...              20.0          0.0         0.0   \n",
       "2             500.0  ...               8.0    4000203.0         0.0   \n",
       "3             500.0  ...               8.0    4000189.0         0.0   \n",
       "4             500.0  ...               8.0    4000554.0         0.0   \n",
       "\n",
       "   Active Max  Active Min     Idle Mean      Idle Std    Idle Max    Idle Min  \\\n",
       "0   1027304.0   1027304.0  1.952608e+07  0.000000e+00  19526080.0  19526080.0   \n",
       "1         0.0         0.0  0.000000e+00  0.000000e+00         0.0         0.0   \n",
       "2   4000203.0   4000203.0  3.191524e+07  3.792787e+07  75584115.0   7200679.0   \n",
       "3   4000189.0   4000189.0  3.191524e+07  3.792788e+07  75584130.0   7200693.0   \n",
       "4   4000554.0   4000554.0  2.137020e+07  1.528109e+07  41990741.0   7200848.0   \n",
       "\n",
       "    Label  \n",
       "0  Benign  \n",
       "1  Benign  \n",
       "2  Benign  \n",
       "3  Benign  \n",
       "4  Benign  \n",
       "\n",
       "[5 rows x 79 columns]"
      ]
     },
     "execution_count": 17,
     "metadata": {},
     "output_type": "execute_result"
    }
   ],
   "source": [
    "# Replacing infinite and nan \n",
    "dataset.replace([np.inf, -np.inf], -1, inplace=True) \n",
    "dataset.replace([np.nan, -np.nan], -1, inplace=True)\n",
    "\n",
    "# Printing df \n",
    "dataset.head()"
   ]
  },
  {
   "cell_type": "code",
   "execution_count": 18,
   "metadata": {},
   "outputs": [
    {
     "data": {
      "text/plain": [
       "Benign                      4301758\n",
       "DDOS attack-HOIC             686012\n",
       "DoS attacks-Hulk             461912\n",
       "FTP-BruteForce               193360\n",
       "SSH-Bruteforce               187589\n",
       "Infilteration                161934\n",
       "DoS attacks-SlowHTTPTest     139890\n",
       "DoS attacks-GoldenEye         41508\n",
       "DoS attacks-Slowloris         10990\n",
       "DDOS attack-LOIC-UDP           1730\n",
       "Brute Force -Web                249\n",
       "Brute Force -XSS                 79\n",
       "SQL Injection                    34\n",
       "Name: Label, dtype: int64"
      ]
     },
     "execution_count": 18,
     "metadata": {},
     "output_type": "execute_result"
    }
   ],
   "source": [
    "dataset[\"Label\"].value_counts()"
   ]
  },
  {
   "cell_type": "code",
   "execution_count": 19,
   "metadata": {
    "scrolled": true
   },
   "outputs": [
    {
     "data": {
      "text/plain": [
       "<bound method NDFrame.head of          Dst Port  Protocol  Flow Duration  Tot Fwd Pkts  Tot Bwd Pkts  \\\n",
       "0            22.0       6.0     20553406.0          10.0           7.0   \n",
       "1         34989.0       6.0          790.0           2.0           0.0   \n",
       "2           500.0      17.0     99745913.0           5.0           0.0   \n",
       "3           500.0      17.0     99745913.0           5.0           0.0   \n",
       "4           500.0      17.0     89481361.0           6.0           0.0   \n",
       "...           ...       ...            ...           ...           ...   \n",
       "6187099   55484.0       6.0         1252.0           5.0           2.0   \n",
       "6187100   57624.0       6.0        19055.0           5.0           2.0   \n",
       "6187101   57623.0       6.0        36677.0           5.0           2.0   \n",
       "6187102   57625.0       6.0         1849.0           5.0           2.0   \n",
       "6187103   58120.0       6.0        20580.0           5.0           2.0   \n",
       "\n",
       "         TotLen Fwd Pkts  TotLen Bwd Pkts  Fwd Pkt Len Max  Fwd Pkt Len Min  \\\n",
       "0                 1063.0           1297.0            744.0              0.0   \n",
       "1                  848.0              0.0            848.0              0.0   \n",
       "2                 2500.0              0.0            500.0            500.0   \n",
       "3                 2500.0              0.0            500.0            500.0   \n",
       "4                 3000.0              0.0            500.0            500.0   \n",
       "...                  ...              ...              ...              ...   \n",
       "6187099            935.0            274.0            935.0              0.0   \n",
       "6187100            935.0            341.0            935.0              0.0   \n",
       "6187101            935.0            341.0            935.0              0.0   \n",
       "6187102            935.0            341.0            935.0              0.0   \n",
       "6187103            935.0            299.0            935.0              0.0   \n",
       "\n",
       "         Fwd Pkt Len Mean  ...  Fwd Seg Size Min  Active Mean  Active Std  \\\n",
       "0                   106.3  ...              20.0    1027304.0         0.0   \n",
       "1                   424.0  ...              20.0          0.0         0.0   \n",
       "2                   500.0  ...               8.0    4000203.0         0.0   \n",
       "3                   500.0  ...               8.0    4000189.0         0.0   \n",
       "4                   500.0  ...               8.0    4000554.0         0.0   \n",
       "...                   ...  ...               ...          ...         ...   \n",
       "6187099             187.0  ...              20.0          0.0         0.0   \n",
       "6187100             187.0  ...              20.0          0.0         0.0   \n",
       "6187101             187.0  ...              20.0          0.0         0.0   \n",
       "6187102             187.0  ...              20.0          0.0         0.0   \n",
       "6187103             187.0  ...              20.0          0.0         0.0   \n",
       "\n",
       "         Active Max  Active Min     Idle Mean      Idle Std    Idle Max  \\\n",
       "0         1027304.0   1027304.0  1.952608e+07  0.000000e+00  19526080.0   \n",
       "1               0.0         0.0  0.000000e+00  0.000000e+00         0.0   \n",
       "2         4000203.0   4000203.0  3.191524e+07  3.792787e+07  75584115.0   \n",
       "3         4000189.0   4000189.0  3.191524e+07  3.792788e+07  75584130.0   \n",
       "4         4000554.0   4000554.0  2.137020e+07  1.528109e+07  41990741.0   \n",
       "...             ...         ...           ...           ...         ...   \n",
       "6187099         0.0         0.0  0.000000e+00  0.000000e+00         0.0   \n",
       "6187100         0.0         0.0  0.000000e+00  0.000000e+00         0.0   \n",
       "6187101         0.0         0.0  0.000000e+00  0.000000e+00         0.0   \n",
       "6187102         0.0         0.0  0.000000e+00  0.000000e+00         0.0   \n",
       "6187103         0.0         0.0  0.000000e+00  0.000000e+00         0.0   \n",
       "\n",
       "           Idle Min   Label  \n",
       "0        19526080.0  Benign  \n",
       "1               0.0  Benign  \n",
       "2         7200679.0  Benign  \n",
       "3         7200693.0  Benign  \n",
       "4         7200848.0  Benign  \n",
       "...             ...     ...  \n",
       "6187099         0.0  Benign  \n",
       "6187100         0.0  Benign  \n",
       "6187101         0.0  Benign  \n",
       "6187102         0.0  Benign  \n",
       "6187103         0.0  Benign  \n",
       "\n",
       "[6187045 rows x 79 columns]>"
      ]
     },
     "execution_count": 19,
     "metadata": {},
     "output_type": "execute_result"
    }
   ],
   "source": [
    "dataset.head"
   ]
  },
  {
   "cell_type": "code",
   "execution_count": 20,
   "metadata": {
    "scrolled": false
   },
   "outputs": [
    {
     "data": {
      "text/html": [
       "<div>\n",
       "<style scoped>\n",
       "    .dataframe tbody tr th:only-of-type {\n",
       "        vertical-align: middle;\n",
       "    }\n",
       "\n",
       "    .dataframe tbody tr th {\n",
       "        vertical-align: top;\n",
       "    }\n",
       "\n",
       "    .dataframe thead th {\n",
       "        text-align: right;\n",
       "    }\n",
       "</style>\n",
       "<table border=\"1\" class=\"dataframe\">\n",
       "  <thead>\n",
       "    <tr style=\"text-align: right;\">\n",
       "      <th></th>\n",
       "      <th>Dst Port</th>\n",
       "      <th>Protocol</th>\n",
       "      <th>Flow Duration</th>\n",
       "      <th>Tot Fwd Pkts</th>\n",
       "      <th>Tot Bwd Pkts</th>\n",
       "      <th>TotLen Fwd Pkts</th>\n",
       "      <th>TotLen Bwd Pkts</th>\n",
       "      <th>Fwd Pkt Len Max</th>\n",
       "      <th>Fwd Pkt Len Min</th>\n",
       "      <th>Fwd Pkt Len Mean</th>\n",
       "      <th>...</th>\n",
       "      <th>Fwd Act Data Pkts</th>\n",
       "      <th>Fwd Seg Size Min</th>\n",
       "      <th>Active Mean</th>\n",
       "      <th>Active Std</th>\n",
       "      <th>Active Max</th>\n",
       "      <th>Active Min</th>\n",
       "      <th>Idle Mean</th>\n",
       "      <th>Idle Std</th>\n",
       "      <th>Idle Max</th>\n",
       "      <th>Idle Min</th>\n",
       "    </tr>\n",
       "  </thead>\n",
       "  <tbody>\n",
       "    <tr>\n",
       "      <th>0</th>\n",
       "      <td>22.0</td>\n",
       "      <td>6.0</td>\n",
       "      <td>20553406.0</td>\n",
       "      <td>10.0</td>\n",
       "      <td>7.0</td>\n",
       "      <td>1063.0</td>\n",
       "      <td>1297.0</td>\n",
       "      <td>744.0</td>\n",
       "      <td>0.0</td>\n",
       "      <td>106.3</td>\n",
       "      <td>...</td>\n",
       "      <td>4.0</td>\n",
       "      <td>20.0</td>\n",
       "      <td>1027304.0</td>\n",
       "      <td>0.0</td>\n",
       "      <td>1027304.0</td>\n",
       "      <td>1027304.0</td>\n",
       "      <td>1.952608e+07</td>\n",
       "      <td>0.000000e+00</td>\n",
       "      <td>19526080.0</td>\n",
       "      <td>19526080.0</td>\n",
       "    </tr>\n",
       "    <tr>\n",
       "      <th>1</th>\n",
       "      <td>34989.0</td>\n",
       "      <td>6.0</td>\n",
       "      <td>790.0</td>\n",
       "      <td>2.0</td>\n",
       "      <td>0.0</td>\n",
       "      <td>848.0</td>\n",
       "      <td>0.0</td>\n",
       "      <td>848.0</td>\n",
       "      <td>0.0</td>\n",
       "      <td>424.0</td>\n",
       "      <td>...</td>\n",
       "      <td>0.0</td>\n",
       "      <td>20.0</td>\n",
       "      <td>0.0</td>\n",
       "      <td>0.0</td>\n",
       "      <td>0.0</td>\n",
       "      <td>0.0</td>\n",
       "      <td>0.000000e+00</td>\n",
       "      <td>0.000000e+00</td>\n",
       "      <td>0.0</td>\n",
       "      <td>0.0</td>\n",
       "    </tr>\n",
       "    <tr>\n",
       "      <th>2</th>\n",
       "      <td>500.0</td>\n",
       "      <td>17.0</td>\n",
       "      <td>99745913.0</td>\n",
       "      <td>5.0</td>\n",
       "      <td>0.0</td>\n",
       "      <td>2500.0</td>\n",
       "      <td>0.0</td>\n",
       "      <td>500.0</td>\n",
       "      <td>500.0</td>\n",
       "      <td>500.0</td>\n",
       "      <td>...</td>\n",
       "      <td>4.0</td>\n",
       "      <td>8.0</td>\n",
       "      <td>4000203.0</td>\n",
       "      <td>0.0</td>\n",
       "      <td>4000203.0</td>\n",
       "      <td>4000203.0</td>\n",
       "      <td>3.191524e+07</td>\n",
       "      <td>3.792787e+07</td>\n",
       "      <td>75584115.0</td>\n",
       "      <td>7200679.0</td>\n",
       "    </tr>\n",
       "    <tr>\n",
       "      <th>3</th>\n",
       "      <td>500.0</td>\n",
       "      <td>17.0</td>\n",
       "      <td>99745913.0</td>\n",
       "      <td>5.0</td>\n",
       "      <td>0.0</td>\n",
       "      <td>2500.0</td>\n",
       "      <td>0.0</td>\n",
       "      <td>500.0</td>\n",
       "      <td>500.0</td>\n",
       "      <td>500.0</td>\n",
       "      <td>...</td>\n",
       "      <td>4.0</td>\n",
       "      <td>8.0</td>\n",
       "      <td>4000189.0</td>\n",
       "      <td>0.0</td>\n",
       "      <td>4000189.0</td>\n",
       "      <td>4000189.0</td>\n",
       "      <td>3.191524e+07</td>\n",
       "      <td>3.792788e+07</td>\n",
       "      <td>75584130.0</td>\n",
       "      <td>7200693.0</td>\n",
       "    </tr>\n",
       "    <tr>\n",
       "      <th>4</th>\n",
       "      <td>500.0</td>\n",
       "      <td>17.0</td>\n",
       "      <td>89481361.0</td>\n",
       "      <td>6.0</td>\n",
       "      <td>0.0</td>\n",
       "      <td>3000.0</td>\n",
       "      <td>0.0</td>\n",
       "      <td>500.0</td>\n",
       "      <td>500.0</td>\n",
       "      <td>500.0</td>\n",
       "      <td>...</td>\n",
       "      <td>5.0</td>\n",
       "      <td>8.0</td>\n",
       "      <td>4000554.0</td>\n",
       "      <td>0.0</td>\n",
       "      <td>4000554.0</td>\n",
       "      <td>4000554.0</td>\n",
       "      <td>2.137020e+07</td>\n",
       "      <td>1.528109e+07</td>\n",
       "      <td>41990741.0</td>\n",
       "      <td>7200848.0</td>\n",
       "    </tr>\n",
       "  </tbody>\n",
       "</table>\n",
       "<p>5 rows × 78 columns</p>\n",
       "</div>"
      ],
      "text/plain": [
       "   Dst Port  Protocol  Flow Duration  Tot Fwd Pkts  Tot Bwd Pkts  \\\n",
       "0      22.0       6.0     20553406.0          10.0           7.0   \n",
       "1   34989.0       6.0          790.0           2.0           0.0   \n",
       "2     500.0      17.0     99745913.0           5.0           0.0   \n",
       "3     500.0      17.0     99745913.0           5.0           0.0   \n",
       "4     500.0      17.0     89481361.0           6.0           0.0   \n",
       "\n",
       "   TotLen Fwd Pkts  TotLen Bwd Pkts  Fwd Pkt Len Max  Fwd Pkt Len Min  \\\n",
       "0           1063.0           1297.0            744.0              0.0   \n",
       "1            848.0              0.0            848.0              0.0   \n",
       "2           2500.0              0.0            500.0            500.0   \n",
       "3           2500.0              0.0            500.0            500.0   \n",
       "4           3000.0              0.0            500.0            500.0   \n",
       "\n",
       "   Fwd Pkt Len Mean  ...  Fwd Act Data Pkts  Fwd Seg Size Min  Active Mean  \\\n",
       "0             106.3  ...                4.0              20.0    1027304.0   \n",
       "1             424.0  ...                0.0              20.0          0.0   \n",
       "2             500.0  ...                4.0               8.0    4000203.0   \n",
       "3             500.0  ...                4.0               8.0    4000189.0   \n",
       "4             500.0  ...                5.0               8.0    4000554.0   \n",
       "\n",
       "   Active Std  Active Max  Active Min     Idle Mean      Idle Std    Idle Max  \\\n",
       "0         0.0   1027304.0   1027304.0  1.952608e+07  0.000000e+00  19526080.0   \n",
       "1         0.0         0.0         0.0  0.000000e+00  0.000000e+00         0.0   \n",
       "2         0.0   4000203.0   4000203.0  3.191524e+07  3.792787e+07  75584115.0   \n",
       "3         0.0   4000189.0   4000189.0  3.191524e+07  3.792788e+07  75584130.0   \n",
       "4         0.0   4000554.0   4000554.0  2.137020e+07  1.528109e+07  41990741.0   \n",
       "\n",
       "     Idle Min  \n",
       "0  19526080.0  \n",
       "1         0.0  \n",
       "2   7200679.0  \n",
       "3   7200693.0  \n",
       "4   7200848.0  \n",
       "\n",
       "[5 rows x 78 columns]"
      ]
     },
     "execution_count": 20,
     "metadata": {},
     "output_type": "execute_result"
    }
   ],
   "source": [
    "#ahora que hemos conseguido transformar estas columnas a numeros, podemos empezar con la red neuronal\n",
    "#necesitamos un grupo de train y otro de test para la red neuronal, los crearemos con train_test_split\n",
    "X=dataset.iloc[:, 0:78]\n",
    "X.head()"
   ]
  },
  {
   "cell_type": "code",
   "execution_count": 21,
   "metadata": {},
   "outputs": [
    {
     "data": {
      "text/plain": [
       "array([0, 0, 0, ..., 0, 0, 0])"
      ]
     },
     "execution_count": 21,
     "metadata": {},
     "output_type": "execute_result"
    }
   ],
   "source": [
    "from sklearn.preprocessing import LabelEncoder #para pasar a numeros\n",
    "lb_make = LabelEncoder()\n",
    "\n",
    "Y = lb_make.fit_transform(Y)\n",
    "Y"
   ]
  },
  {
   "cell_type": "code",
   "execution_count": 22,
   "metadata": {},
   "outputs": [
    {
     "data": {
      "text/plain": [
       "['Benign',\n",
       " 'Brute Force -Web',\n",
       " 'Brute Force -XSS',\n",
       " 'DDOS attack-HOIC',\n",
       " 'DDOS attack-LOIC-UDP',\n",
       " 'DoS attacks-GoldenEye',\n",
       " 'DoS attacks-Hulk',\n",
       " 'DoS attacks-SlowHTTPTest',\n",
       " 'DoS attacks-Slowloris',\n",
       " 'FTP-BruteForce',\n",
       " 'Infilteration',\n",
       " 'SQL Injection',\n",
       " 'SSH-Bruteforce']"
      ]
     },
     "execution_count": 22,
     "metadata": {},
     "output_type": "execute_result"
    }
   ],
   "source": [
    "Labels = lb_make.inverse_transform(Y)\n",
    "Labels = list(lb_make.classes_)\n",
    "Labels"
   ]
  },
  {
   "cell_type": "code",
   "execution_count": 23,
   "metadata": {},
   "outputs": [],
   "source": [
    "X_train, X_test, Y_train, Y_test = train_test_split(X, Y)"
   ]
  },
  {
   "cell_type": "code",
   "execution_count": 24,
   "metadata": {},
   "outputs": [],
   "source": [
    "#volvemos a copiar su codigo:\n",
    "scaler = Normalizer().fit(X_train) # Normalizamos los datos\n",
    "trainX = scaler.transform(X_train) # Asi se representan los datos\n",
    "\n",
    "scaler = Normalizer().fit(X_test)\n",
    "testT = scaler.transform(X_test)\n",
    "\n",
    "y_train1 = np.array(Y_train) # sirve para crear un array en numpy\n",
    "y_test1 = np.array(Y_test)\n",
    "\n",
    "\n",
    "y_train= to_categorical(y_train1) # para convertir los datos a clase binaria\n",
    "y_test= to_categorical(y_test1)"
   ]
  },
  {
   "cell_type": "code",
   "execution_count": 25,
   "metadata": {},
   "outputs": [],
   "source": [
    "# reshape input to be [samples, time steps, features]\n",
    "X_train = np.reshape(trainX, (trainX.shape[0],trainX.shape[1],1)) # cambias la forma de X_train para que sea del mismo tamaño que trainX\n",
    "X_test = np.reshape(testT, (testT.shape[0],testT.shape[1],1))"
   ]
  },
  {
   "cell_type": "code",
   "execution_count": 26,
   "metadata": {},
   "outputs": [],
   "source": [
    "#creamos la red neuronal\n",
    "lstm_output_size = 70\n",
    "\n",
    "model = Sequential()\n",
    "model.add(Convolution1D(64, 3, activation=\"relu\",input_shape=(78, 1), padding = 'same'))\n",
    "#######\n",
    "#   Añadimos la primera capa de Convolution1D, los diferentes parametros indican lo siguiente:\n",
    "#       64 --> numero de filtros\n",
    "#       3 --> tamaño del filtro (3,1)\n",
    "#       border_mode = \"same\" --> este parametro sirve para que el output sea del mismo tamaño que elinput\n",
    "#       activation = \"relu\" --> Tipo de funcion de activacion de neuronas que vamos a usar\n",
    "#       input_shape = (79, 1) --> tamaño de la entrada, hay 79 features\n",
    "#######\n",
    "model.add(Convolution1D(64, 3, activation=\"relu\", padding = 'same'))\n",
    "model.add(MaxPooling1D(pool_size=(2))) # capa donde se lleva a cabo el pooling, se queda con el maximo de cada 2\n",
    "model.add(Convolution1D(128, 3,  activation=\"relu\", padding = 'same'))\n",
    "model.add(Convolution1D(128, 3,  activation=\"relu\", padding = 'same'))\n",
    "model.add(MaxPooling1D(pool_size=(2)))\n",
    "model.add(LSTM(lstm_output_size)) # Se añade una LSTM como segunda red\n",
    "model.add(Dropout(0.1)) #\n",
    "model.add(Dense(len(Labels), activation=\"softmax\")) # capa fully conected para decision final, usamos softmax porque con ella los valores finales tienen mas relacion con los valores\n",
    "# anteriores y no solo con 1"
   ]
  },
  {
   "cell_type": "code",
   "execution_count": 27,
   "metadata": {},
   "outputs": [
    {
     "name": "stdout",
     "output_type": "stream",
     "text": [
      "Model: \"sequential_1\"\n",
      "_________________________________________________________________\n",
      "Layer (type)                 Output Shape              Param #   \n",
      "=================================================================\n",
      "conv1d_1 (Conv1D)            (None, 78, 64)            256       \n",
      "_________________________________________________________________\n",
      "conv1d_2 (Conv1D)            (None, 78, 64)            12352     \n",
      "_________________________________________________________________\n",
      "max_pooling1d_1 (MaxPooling1 (None, 39, 64)            0         \n",
      "_________________________________________________________________\n",
      "conv1d_3 (Conv1D)            (None, 39, 128)           24704     \n",
      "_________________________________________________________________\n",
      "conv1d_4 (Conv1D)            (None, 39, 128)           49280     \n",
      "_________________________________________________________________\n",
      "max_pooling1d_2 (MaxPooling1 (None, 19, 128)           0         \n",
      "_________________________________________________________________\n",
      "lstm_1 (LSTM)                (None, 70)                55720     \n",
      "_________________________________________________________________\n",
      "dropout_1 (Dropout)          (None, 70)                0         \n",
      "_________________________________________________________________\n",
      "dense_1 (Dense)              (None, 13)                923       \n",
      "=================================================================\n",
      "Total params: 143,235\n",
      "Trainable params: 143,235\n",
      "Non-trainable params: 0\n",
      "_________________________________________________________________\n"
     ]
    }
   ],
   "source": [
    "model.summary()"
   ]
  },
  {
   "cell_type": "code",
   "execution_count": 28,
   "metadata": {},
   "outputs": [
    {
     "data": {
      "image/png": "[encoded data removed]",
      "text/plain": [
       "<PIL.Image.Image image mode=RGBA size=1856x816 at 0x283FFFCEA20>"
      ]
     },
     "execution_count": 28,
     "metadata": {},
     "output_type": "execute_result"
    }
   ],
   "source": [
    "import visualkeras\n",
    "\n",
    "visualkeras.layered_view(model,legend=True, spacing=200)"
   ]
  },
  {
   "cell_type": "code",
   "execution_count": 29,
   "metadata": {},
   "outputs": [],
   "source": [
    "# define optimizer and objective, compile cnn\n",
    "model.compile(loss=\"categorical_crossentropy\", optimizer=\"adam\",metrics=['accuracy']) # se compila la red neuronal con los siguientes parametros:\n",
    "######\n",
    "#   PARAMETROS:\n",
    "#       loss = \"categorical_crossentropy\" --> esta relacionado con la funcion softmax, se usa para dar una probabilidad sobre unas clases\n",
    "#       optimizer = \"adam\" --> Stochastic gradient descent\n",
    "#       metrics = 'accuracy' --> compara los resultados finales con los reales y de ahi saca las estadisticas\n",
    "######"
   ]
  },
  {
   "cell_type": "markdown",
   "metadata": {},
   "source": [
    "# TRAIN"
   ]
  },
  {
   "cell_type": "code",
   "execution_count": 30,
   "metadata": {},
   "outputs": [],
   "source": [
    "from keras.callbacks import ModelCheckpoint\n",
    "checkpointer = ModelCheckpoint(filepath=\"resultados/All/not_sorted/global/no_timestamp/checkpoints/checkpoint-{epoch:02d}.hdf5\", verbose=1, save_best_only=True, monitor='accuracy',mode='max')\n",
    "######\n",
    "#   ModelCheckpoint se usa para guardar datos o pesos en algun momento de forma que estos puedan ser cargados o examinados en un futuro\n",
    "#   PARAMETROS:\n",
    "#       filepath --> direccion donde se va a guardar el archivo\n",
    "#       verbose = 1 --> para ver una barra de progreso de la operacion\n",
    "#       save_best_only = True --> se guarda solo si los datos son mejores que los anteriores, en este caso como la metrica de evaluacion de la red es accuracy se mide con eso\n",
    "#       monitor --> lo que hay que monitorear\n",
    "#       mode --> segun este parametro se tomara la decision de cuando sobreescribir y cuando no, en este caso como esta indicado max, se sobreescribe cuando el valor de monitor es mayor\n",
    "######"
   ]
  },
  {
   "cell_type": "code",
   "execution_count": 31,
   "metadata": {},
   "outputs": [],
   "source": [
    "csv_logger = CSVLogger('resultados/All/not_sorted/global/no_timestamp/modeltrainanalysis15epochs.csv',separator=',', append=False)\n",
    "######\n",
    "#   CSVLogger sirve para guardar los datos en un fichero CSV\n",
    "#   PARAMETROS:\n",
    "#       filename --> nombre y direccion del archivo\n",
    "#       separator --> como se separan los resultados en el csv\n",
    "#       append = false --> con esta opcion se sobreescribe lo que hubiese en el archivo destino, si fuese \"True\" se concatenaria\n",
    "######"
   ]
  },
  {
   "cell_type": "code",
   "execution_count": 33,
   "metadata": {
    "scrolled": true
   },
   "outputs": [
    {
     "name": "stdout",
     "output_type": "stream",
     "text": [
      "Epoch 1/15\n",
      "2359293/2359293 [==============================] - 1311s 556us/step - loss: 0.0340 - accuracy: 0.9892\n",
      "\n",
      "Epoch 00001: accuracy improved from -inf to 0.98924, saving model to resultados/cuarto_entrenamiento/DoS/checkpoints/checkpoint-01.hdf5\n",
      "Epoch 2/15\n",
      "2359293/2359293 [==============================] - 1309s 555us/step - loss: 0.0149 - accuracy: 0.9951\n",
      "\n",
      "Epoch 00002: accuracy improved from 0.98924 to 0.99510, saving model to resultados/cuarto_entrenamiento/DoS/checkpoints/checkpoint-02.hdf5\n",
      "Epoch 3/15\n",
      "2359293/2359293 [==============================] - 1325s 561us/step - loss: 0.0081 - accuracy: 0.9975\n",
      "\n",
      "Epoch 00003: accuracy improved from 0.99510 to 0.99750, saving model to resultados/cuarto_entrenamiento/DoS/checkpoints/checkpoint-03.hdf5\n",
      "Epoch 4/15\n",
      "2359293/2359293 [==============================] - 1314s 557us/step - loss: 0.0077 - accuracy: 0.9976\n",
      "\n",
      "Epoch 00004: accuracy improved from 0.99750 to 0.99759, saving model to resultados/cuarto_entrenamiento/DoS/checkpoints/checkpoint-04.hdf5\n",
      "Epoch 5/15\n",
      "2359293/2359293 [==============================] - 1301s 551us/step - loss: 0.0073 - accuracy: 0.9978\n",
      "\n",
      "Epoch 00005: accuracy improved from 0.99759 to 0.99778, saving model to resultados/cuarto_entrenamiento/DoS/checkpoints/checkpoint-05.hdf5\n",
      "Epoch 6/15\n",
      "2359293/2359293 [==============================] - 1296s 549us/step - loss: 0.0070 - accuracy: 0.9979\n",
      "\n",
      "Epoch 00006: accuracy improved from 0.99778 to 0.99787, saving model to resultados/cuarto_entrenamiento/DoS/checkpoints/checkpoint-06.hdf5\n",
      "Epoch 7/15\n",
      "2359293/2359293 [==============================] - 1301s 551us/step - loss: 0.0071 - accuracy: 0.9978\n",
      "\n",
      "Epoch 00007: accuracy did not improve from 0.99787\n",
      "Epoch 8/15\n",
      "2359293/2359293 [==============================] - 1305s 553us/step - loss: 0.0070 - accuracy: 0.9979\n",
      "\n",
      "Epoch 00008: accuracy did not improve from 0.99787\n",
      "Epoch 9/15\n",
      "2359293/2359293 [==============================] - 1300s 551us/step - loss: 0.0069 - accuracy: 0.9979\n",
      "\n",
      "Epoch 00009: accuracy improved from 0.99787 to 0.99792, saving model to resultados/cuarto_entrenamiento/DoS/checkpoints/checkpoint-09.hdf5\n",
      "Epoch 10/15\n",
      "2359293/2359293 [==============================] - 1312s 556us/step - loss: 0.0063 - accuracy: 0.9981\n",
      "\n",
      "Epoch 00010: accuracy improved from 0.99792 to 0.99812, saving model to resultados/cuarto_entrenamiento/DoS/checkpoints/checkpoint-10.hdf5\n",
      "Epoch 11/15\n",
      "2359293/2359293 [==============================] - 1303s 552us/step - loss: 0.0062 - accuracy: 0.9982\n",
      "\n",
      "Epoch 00011: accuracy improved from 0.99812 to 0.99822, saving model to resultados/cuarto_entrenamiento/DoS/checkpoints/checkpoint-11.hdf5\n",
      "Epoch 12/15\n",
      "2359293/2359293 [==============================] - 1313s 557us/step - loss: 0.0063 - accuracy: 0.9982\n",
      "\n",
      "Epoch 00012: accuracy did not improve from 0.99822\n",
      "Epoch 13/15\n",
      "1458720/2359293 [=================>............] - ETA: 8:21 - loss: 0.0058 - accuracy: 0.9984"
     ]
    },
    {
     "ename": "ResourceExhaustedError",
     "evalue": " OOM when allocating tensor with shape[244,78,192] and type float on /job:localhost/replica:0/task:0/device:CPU:0 by allocator cpu\n\t [[node gradients/conv1d_2/convolution_grad/Conv2DBackpropInput (defined at D:\\Program Files\\anaconda3\\envs\\NN\\lib\\site-packages\\keras\\backend\\tensorflow_backend.py:3009) ]]\nHint: If you want to see a list of allocated tensors when OOM happens, add report_tensor_allocations_upon_oom to RunOptions for current allocation info.\n [Op:__inference_keras_scratch_graph_2697]\n\nFunction call stack:\nkeras_scratch_graph\n",
     "output_type": "error",
     "traceback": [
      "\u001b[1;31m---------------------------------------------------------------------------\u001b[0m",
      "\u001b[1;31mResourceExhaustedError\u001b[0m                    Traceback (most recent call last)",
      "\u001b[1;32m<ipython-input-33-354fb7dd86dd>\u001b[0m in \u001b[0;36m<module>\u001b[1;34m\u001b[0m\n\u001b[1;32m----> 1\u001b[1;33m \u001b[0mmodel\u001b[0m\u001b[1;33m.\u001b[0m\u001b[0mfit\u001b[0m\u001b[1;33m(\u001b[0m\u001b[0mX_train\u001b[0m\u001b[1;33m,\u001b[0m \u001b[0my_train\u001b[0m\u001b[1;33m,\u001b[0m \u001b[0mepochs\u001b[0m\u001b[1;33m=\u001b[0m\u001b[1;36m15\u001b[0m\u001b[1;33m,\u001b[0m\u001b[0mcallbacks\u001b[0m\u001b[1;33m=\u001b[0m\u001b[1;33m[\u001b[0m\u001b[0mcheckpointer\u001b[0m\u001b[1;33m,\u001b[0m\u001b[0mcsv_logger\u001b[0m\u001b[1;33m]\u001b[0m\u001b[1;33m)\u001b[0m\u001b[1;33m\u001b[0m\u001b[1;33m\u001b[0m\u001b[0m\n\u001b[0m\u001b[0;32m      2\u001b[0m \u001b[1;31m######\u001b[0m\u001b[1;33m\u001b[0m\u001b[1;33m\u001b[0m\u001b[1;33m\u001b[0m\u001b[0m\n\u001b[0;32m      3\u001b[0m \u001b[1;31m#   cnn.fit es la  instruccion con la que se entrena la red neuronal\u001b[0m\u001b[1;33m\u001b[0m\u001b[1;33m\u001b[0m\u001b[1;33m\u001b[0m\u001b[0m\n\u001b[0;32m      4\u001b[0m \u001b[1;31m######\u001b[0m\u001b[1;33m\u001b[0m\u001b[1;33m\u001b[0m\u001b[1;33m\u001b[0m\u001b[0m\n\u001b[0;32m      5\u001b[0m \u001b[0mmodel\u001b[0m\u001b[1;33m.\u001b[0m\u001b[0msave\u001b[0m\u001b[1;33m(\u001b[0m\u001b[1;34m\"resultados/cuarto_entrenamiento/DoS/saved_model.hdf5\"\u001b[0m\u001b[1;33m)\u001b[0m\u001b[1;33m\u001b[0m\u001b[1;33m\u001b[0m\u001b[0m\n",
      "\u001b[1;32mD:\\Program Files\\anaconda3\\envs\\NN\\lib\\site-packages\\keras\\engine\\training.py\u001b[0m in \u001b[0;36mfit\u001b[1;34m(self, x, y, batch_size, epochs, verbose, callbacks, validation_split, validation_data, shuffle, class_weight, sample_weight, initial_epoch, steps_per_epoch, validation_steps, validation_freq, max_queue_size, workers, use_multiprocessing, **kwargs)\u001b[0m\n\u001b[0;32m   1237\u001b[0m                                         \u001b[0msteps_per_epoch\u001b[0m\u001b[1;33m=\u001b[0m\u001b[0msteps_per_epoch\u001b[0m\u001b[1;33m,\u001b[0m\u001b[1;33m\u001b[0m\u001b[1;33m\u001b[0m\u001b[0m\n\u001b[0;32m   1238\u001b[0m                                         \u001b[0mvalidation_steps\u001b[0m\u001b[1;33m=\u001b[0m\u001b[0mvalidation_steps\u001b[0m\u001b[1;33m,\u001b[0m\u001b[1;33m\u001b[0m\u001b[1;33m\u001b[0m\u001b[0m\n\u001b[1;32m-> 1239\u001b[1;33m                                         validation_freq=validation_freq)\n\u001b[0m\u001b[0;32m   1240\u001b[0m \u001b[1;33m\u001b[0m\u001b[0m\n\u001b[0;32m   1241\u001b[0m     def evaluate(self,\n",
      "\u001b[1;32mD:\\Program Files\\anaconda3\\envs\\NN\\lib\\site-packages\\keras\\engine\\training_arrays.py\u001b[0m in \u001b[0;36mfit_loop\u001b[1;34m(model, fit_function, fit_inputs, out_labels, batch_size, epochs, verbose, callbacks, val_function, val_inputs, shuffle, initial_epoch, steps_per_epoch, validation_steps, validation_freq)\u001b[0m\n\u001b[0;32m    194\u001b[0m                     \u001b[0mins_batch\u001b[0m\u001b[1;33m[\u001b[0m\u001b[0mi\u001b[0m\u001b[1;33m]\u001b[0m \u001b[1;33m=\u001b[0m \u001b[0mins_batch\u001b[0m\u001b[1;33m[\u001b[0m\u001b[0mi\u001b[0m\u001b[1;33m]\u001b[0m\u001b[1;33m.\u001b[0m\u001b[0mtoarray\u001b[0m\u001b[1;33m(\u001b[0m\u001b[1;33m)\u001b[0m\u001b[1;33m\u001b[0m\u001b[1;33m\u001b[0m\u001b[0m\n\u001b[0;32m    195\u001b[0m \u001b[1;33m\u001b[0m\u001b[0m\n\u001b[1;32m--> 196\u001b[1;33m                 \u001b[0mouts\u001b[0m \u001b[1;33m=\u001b[0m \u001b[0mfit_function\u001b[0m\u001b[1;33m(\u001b[0m\u001b[0mins_batch\u001b[0m\u001b[1;33m)\u001b[0m\u001b[1;33m\u001b[0m\u001b[1;33m\u001b[0m\u001b[0m\n\u001b[0m\u001b[0;32m    197\u001b[0m                 \u001b[0mouts\u001b[0m \u001b[1;33m=\u001b[0m \u001b[0mto_list\u001b[0m\u001b[1;33m(\u001b[0m\u001b[0mouts\u001b[0m\u001b[1;33m)\u001b[0m\u001b[1;33m\u001b[0m\u001b[1;33m\u001b[0m\u001b[0m\n\u001b[0;32m    198\u001b[0m                 \u001b[1;32mfor\u001b[0m \u001b[0ml\u001b[0m\u001b[1;33m,\u001b[0m \u001b[0mo\u001b[0m \u001b[1;32min\u001b[0m \u001b[0mzip\u001b[0m\u001b[1;33m(\u001b[0m\u001b[0mout_labels\u001b[0m\u001b[1;33m,\u001b[0m \u001b[0mouts\u001b[0m\u001b[1;33m)\u001b[0m\u001b[1;33m:\u001b[0m\u001b[1;33m\u001b[0m\u001b[1;33m\u001b[0m\u001b[0m\n",
      "\u001b[1;32mD:\\Program Files\\anaconda3\\envs\\NN\\lib\\site-packages\\tensorflow_core\\python\\keras\\backend.py\u001b[0m in \u001b[0;36m__call__\u001b[1;34m(self, inputs)\u001b[0m\n\u001b[0;32m   3725\u001b[0m         \u001b[0mvalue\u001b[0m \u001b[1;33m=\u001b[0m \u001b[0mmath_ops\u001b[0m\u001b[1;33m.\u001b[0m\u001b[0mcast\u001b[0m\u001b[1;33m(\u001b[0m\u001b[0mvalue\u001b[0m\u001b[1;33m,\u001b[0m \u001b[0mtensor\u001b[0m\u001b[1;33m.\u001b[0m\u001b[0mdtype\u001b[0m\u001b[1;33m)\u001b[0m\u001b[1;33m\u001b[0m\u001b[1;33m\u001b[0m\u001b[0m\n\u001b[0;32m   3726\u001b[0m       \u001b[0mconverted_inputs\u001b[0m\u001b[1;33m.\u001b[0m\u001b[0mappend\u001b[0m\u001b[1;33m(\u001b[0m\u001b[0mvalue\u001b[0m\u001b[1;33m)\u001b[0m\u001b[1;33m\u001b[0m\u001b[1;33m\u001b[0m\u001b[0m\n\u001b[1;32m-> 3727\u001b[1;33m     \u001b[0moutputs\u001b[0m \u001b[1;33m=\u001b[0m \u001b[0mself\u001b[0m\u001b[1;33m.\u001b[0m\u001b[0m_graph_fn\u001b[0m\u001b[1;33m(\u001b[0m\u001b[1;33m*\u001b[0m\u001b[0mconverted_inputs\u001b[0m\u001b[1;33m)\u001b[0m\u001b[1;33m\u001b[0m\u001b[1;33m\u001b[0m\u001b[0m\n\u001b[0m\u001b[0;32m   3728\u001b[0m \u001b[1;33m\u001b[0m\u001b[0m\n\u001b[0;32m   3729\u001b[0m     \u001b[1;31m# EagerTensor.numpy() will often make a copy to ensure memory safety.\u001b[0m\u001b[1;33m\u001b[0m\u001b[1;33m\u001b[0m\u001b[1;33m\u001b[0m\u001b[0m\n",
      "\u001b[1;32mD:\\Program Files\\anaconda3\\envs\\NN\\lib\\site-packages\\tensorflow_core\\python\\eager\\function.py\u001b[0m in \u001b[0;36m__call__\u001b[1;34m(self, *args, **kwargs)\u001b[0m\n\u001b[0;32m   1549\u001b[0m       \u001b[0mTypeError\u001b[0m\u001b[1;33m:\u001b[0m \u001b[0mFor\u001b[0m \u001b[0minvalid\u001b[0m \u001b[0mpositional\u001b[0m\u001b[1;33m/\u001b[0m\u001b[0mkeyword\u001b[0m \u001b[0margument\u001b[0m \u001b[0mcombinations\u001b[0m\u001b[1;33m.\u001b[0m\u001b[1;33m\u001b[0m\u001b[1;33m\u001b[0m\u001b[0m\n\u001b[0;32m   1550\u001b[0m     \"\"\"\n\u001b[1;32m-> 1551\u001b[1;33m     \u001b[1;32mreturn\u001b[0m \u001b[0mself\u001b[0m\u001b[1;33m.\u001b[0m\u001b[0m_call_impl\u001b[0m\u001b[1;33m(\u001b[0m\u001b[0margs\u001b[0m\u001b[1;33m,\u001b[0m \u001b[0mkwargs\u001b[0m\u001b[1;33m)\u001b[0m\u001b[1;33m\u001b[0m\u001b[1;33m\u001b[0m\u001b[0m\n\u001b[0m\u001b[0;32m   1552\u001b[0m \u001b[1;33m\u001b[0m\u001b[0m\n\u001b[0;32m   1553\u001b[0m   \u001b[1;32mdef\u001b[0m \u001b[0m_call_impl\u001b[0m\u001b[1;33m(\u001b[0m\u001b[0mself\u001b[0m\u001b[1;33m,\u001b[0m \u001b[0margs\u001b[0m\u001b[1;33m,\u001b[0m \u001b[0mkwargs\u001b[0m\u001b[1;33m,\u001b[0m \u001b[0mcancellation_manager\u001b[0m\u001b[1;33m=\u001b[0m\u001b[1;32mNone\u001b[0m\u001b[1;33m)\u001b[0m\u001b[1;33m:\u001b[0m\u001b[1;33m\u001b[0m\u001b[1;33m\u001b[0m\u001b[0m\n",
      "\u001b[1;32mD:\\Program Files\\anaconda3\\envs\\NN\\lib\\site-packages\\tensorflow_core\\python\\eager\\function.py\u001b[0m in \u001b[0;36m_call_impl\u001b[1;34m(self, args, kwargs, cancellation_manager)\u001b[0m\n\u001b[0;32m   1589\u001b[0m       raise TypeError(\"Keyword arguments {} unknown. Expected {}.\".format(\n\u001b[0;32m   1590\u001b[0m           list(kwargs.keys()), list(self._arg_keywords)))\n\u001b[1;32m-> 1591\u001b[1;33m     \u001b[1;32mreturn\u001b[0m \u001b[0mself\u001b[0m\u001b[1;33m.\u001b[0m\u001b[0m_call_flat\u001b[0m\u001b[1;33m(\u001b[0m\u001b[0margs\u001b[0m\u001b[1;33m,\u001b[0m \u001b[0mself\u001b[0m\u001b[1;33m.\u001b[0m\u001b[0mcaptured_inputs\u001b[0m\u001b[1;33m,\u001b[0m \u001b[0mcancellation_manager\u001b[0m\u001b[1;33m)\u001b[0m\u001b[1;33m\u001b[0m\u001b[1;33m\u001b[0m\u001b[0m\n\u001b[0m\u001b[0;32m   1592\u001b[0m \u001b[1;33m\u001b[0m\u001b[0m\n\u001b[0;32m   1593\u001b[0m   \u001b[1;32mdef\u001b[0m \u001b[0m_filtered_call\u001b[0m\u001b[1;33m(\u001b[0m\u001b[0mself\u001b[0m\u001b[1;33m,\u001b[0m \u001b[0margs\u001b[0m\u001b[1;33m,\u001b[0m \u001b[0mkwargs\u001b[0m\u001b[1;33m)\u001b[0m\u001b[1;33m:\u001b[0m\u001b[1;33m\u001b[0m\u001b[1;33m\u001b[0m\u001b[0m\n",
      "\u001b[1;32mD:\\Program Files\\anaconda3\\envs\\NN\\lib\\site-packages\\tensorflow_core\\python\\eager\\function.py\u001b[0m in \u001b[0;36m_call_flat\u001b[1;34m(self, args, captured_inputs, cancellation_manager)\u001b[0m\n\u001b[0;32m   1690\u001b[0m       \u001b[1;31m# No tape is watching; skip to running the function.\u001b[0m\u001b[1;33m\u001b[0m\u001b[1;33m\u001b[0m\u001b[1;33m\u001b[0m\u001b[0m\n\u001b[0;32m   1691\u001b[0m       return self._build_call_outputs(self._inference_function.call(\n\u001b[1;32m-> 1692\u001b[1;33m           ctx, args, cancellation_manager=cancellation_manager))\n\u001b[0m\u001b[0;32m   1693\u001b[0m     forward_backward = self._select_forward_and_backward_functions(\n\u001b[0;32m   1694\u001b[0m         \u001b[0margs\u001b[0m\u001b[1;33m,\u001b[0m\u001b[1;33m\u001b[0m\u001b[1;33m\u001b[0m\u001b[0m\n",
      "\u001b[1;32mD:\\Program Files\\anaconda3\\envs\\NN\\lib\\site-packages\\tensorflow_core\\python\\eager\\function.py\u001b[0m in \u001b[0;36mcall\u001b[1;34m(self, ctx, args, cancellation_manager)\u001b[0m\n\u001b[0;32m    543\u001b[0m               \u001b[0minputs\u001b[0m\u001b[1;33m=\u001b[0m\u001b[0margs\u001b[0m\u001b[1;33m,\u001b[0m\u001b[1;33m\u001b[0m\u001b[1;33m\u001b[0m\u001b[0m\n\u001b[0;32m    544\u001b[0m               \u001b[0mattrs\u001b[0m\u001b[1;33m=\u001b[0m\u001b[1;33m(\u001b[0m\u001b[1;34m\"executor_type\"\u001b[0m\u001b[1;33m,\u001b[0m \u001b[0mexecutor_type\u001b[0m\u001b[1;33m,\u001b[0m \u001b[1;34m\"config_proto\"\u001b[0m\u001b[1;33m,\u001b[0m \u001b[0mconfig\u001b[0m\u001b[1;33m)\u001b[0m\u001b[1;33m,\u001b[0m\u001b[1;33m\u001b[0m\u001b[1;33m\u001b[0m\u001b[0m\n\u001b[1;32m--> 545\u001b[1;33m               ctx=ctx)\n\u001b[0m\u001b[0;32m    546\u001b[0m         \u001b[1;32melse\u001b[0m\u001b[1;33m:\u001b[0m\u001b[1;33m\u001b[0m\u001b[1;33m\u001b[0m\u001b[0m\n\u001b[0;32m    547\u001b[0m           outputs = execute.execute_with_cancellation(\n",
      "\u001b[1;32mD:\\Program Files\\anaconda3\\envs\\NN\\lib\\site-packages\\tensorflow_core\\python\\eager\\execute.py\u001b[0m in \u001b[0;36mquick_execute\u001b[1;34m(op_name, num_outputs, inputs, attrs, ctx, name)\u001b[0m\n\u001b[0;32m     65\u001b[0m     \u001b[1;32melse\u001b[0m\u001b[1;33m:\u001b[0m\u001b[1;33m\u001b[0m\u001b[1;33m\u001b[0m\u001b[0m\n\u001b[0;32m     66\u001b[0m       \u001b[0mmessage\u001b[0m \u001b[1;33m=\u001b[0m \u001b[0me\u001b[0m\u001b[1;33m.\u001b[0m\u001b[0mmessage\u001b[0m\u001b[1;33m\u001b[0m\u001b[1;33m\u001b[0m\u001b[0m\n\u001b[1;32m---> 67\u001b[1;33m     \u001b[0msix\u001b[0m\u001b[1;33m.\u001b[0m\u001b[0mraise_from\u001b[0m\u001b[1;33m(\u001b[0m\u001b[0mcore\u001b[0m\u001b[1;33m.\u001b[0m\u001b[0m_status_to_exception\u001b[0m\u001b[1;33m(\u001b[0m\u001b[0me\u001b[0m\u001b[1;33m.\u001b[0m\u001b[0mcode\u001b[0m\u001b[1;33m,\u001b[0m \u001b[0mmessage\u001b[0m\u001b[1;33m)\u001b[0m\u001b[1;33m,\u001b[0m \u001b[1;32mNone\u001b[0m\u001b[1;33m)\u001b[0m\u001b[1;33m\u001b[0m\u001b[1;33m\u001b[0m\u001b[0m\n\u001b[0m\u001b[0;32m     68\u001b[0m   \u001b[1;32mexcept\u001b[0m \u001b[0mTypeError\u001b[0m \u001b[1;32mas\u001b[0m \u001b[0me\u001b[0m\u001b[1;33m:\u001b[0m\u001b[1;33m\u001b[0m\u001b[1;33m\u001b[0m\u001b[0m\n\u001b[0;32m     69\u001b[0m     keras_symbolic_tensors = [\n",
      "\u001b[1;32mD:\\Program Files\\anaconda3\\envs\\NN\\lib\\site-packages\\six.py\u001b[0m in \u001b[0;36mraise_from\u001b[1;34m(value, from_value)\u001b[0m\n",
      "\u001b[1;31mResourceExhaustedError\u001b[0m:  OOM when allocating tensor with shape[244,78,192] and type float on /job:localhost/replica:0/task:0/device:CPU:0 by allocator cpu\n\t [[node gradients/conv1d_2/convolution_grad/Conv2DBackpropInput (defined at D:\\Program Files\\anaconda3\\envs\\NN\\lib\\site-packages\\keras\\backend\\tensorflow_backend.py:3009) ]]\nHint: If you want to see a list of allocated tensors when OOM happens, add report_tensor_allocations_upon_oom to RunOptions for current allocation info.\n [Op:__inference_keras_scratch_graph_2697]\n\nFunction call stack:\nkeras_scratch_graph\n"
     ]
    }
   ],
   "source": [
    "model.fit(X_train, y_train, epochs=15,callbacks=[checkpointer,csv_logger])\n",
    "######\n",
    "#   cnn.fit es la  instruccion con la que se entrena la red neuronal\n",
    "######\n",
    "model.save(\"resultados/cuarto_entrenamiento/DoS/saved_model.hdf5\")"
   ]
  },
  {
   "cell_type": "markdown",
   "metadata": {},
   "source": [
    "# Test"
   ]
  },
  {
   "cell_type": "code",
   "execution_count": 32,
   "metadata": {
    "scrolled": true
   },
   "outputs": [
    {
     "name": "stdout",
     "output_type": "stream",
     "text": [
      "1546762/1546762 [==============================] - 270s 175us/step\n",
      "\n",
      "Loss: 0.13, Accuracy: 95.791%\n"
     ]
    }
   ],
   "source": [
    "#Cargamos los resultados obtenidos en la etapa de train\n",
    "model.load_weights(\"resultados/All/not_sorted/global/no_timestamp/checkpoints/checkpoint-15.hdf5\")\n",
    "\n",
    "#predecimos la naturaleza de los paquetes de test\n",
    "y_pred = model.predict_classes(X_test)\n",
    "\n",
    "np.savetxt('resultados/All/not_sorted/global/no_timestamp/expected.txt', y_test1, fmt='%01d')\n",
    "np.savetxt('resultados/All/not_sorted/global/no_timestamp/predicted.txt', y_pred, fmt='%01d')\n",
    "model.compile(loss='categorical_crossentropy',optimizer='adam',metrics=['accuracy'])\n",
    "loss, accuracy = model.evaluate(X_test, y_test)\n",
    "print(\"\\nLoss: %.2f, Accuracy: %.3f%%\" % (loss, accuracy*100))"
   ]
  },
  {
   "cell_type": "markdown",
   "metadata": {},
   "source": [
    "## Métricas de evaluación"
   ]
  },
  {
   "cell_type": "code",
   "execution_count": 33,
   "metadata": {},
   "outputs": [
    {
     "data": {
      "text/plain": [
       "Benign                      4301758\n",
       "DDOS attack-HOIC             686012\n",
       "DoS attacks-Hulk             461912\n",
       "FTP-BruteForce               193360\n",
       "SSH-Bruteforce               187589\n",
       "Infilteration                161934\n",
       "DoS attacks-SlowHTTPTest     139890\n",
       "DoS attacks-GoldenEye         41508\n",
       "DoS attacks-Slowloris         10990\n",
       "DDOS attack-LOIC-UDP           1730\n",
       "Brute Force -Web                249\n",
       "Brute Force -XSS                 79\n",
       "SQL Injection                    34\n",
       "Name: Label, dtype: int64"
      ]
     },
     "execution_count": 33,
     "metadata": {},
     "output_type": "execute_result"
    }
   ],
   "source": [
    "dataset[\"Label\"].value_counts()"
   ]
  },
  {
   "cell_type": "code",
   "execution_count": 34,
   "metadata": {},
   "outputs": [
    {
     "name": "stderr",
     "output_type": "stream",
     "text": [
      "D:\\Program Files\\anaconda3\\envs\\NN\\lib\\site-packages\\sklearn\\metrics\\_classification.py:1221: UndefinedMetricWarning: Precision and F-score are ill-defined and being set to 0.0 in labels with no predicted samples. Use `zero_division` parameter to control this behavior.\n",
      "  _warn_prf(average, modifier, msg_start, len(result))\n"
     ]
    },
    {
     "name": "stdout",
     "output_type": "stream",
     "text": [
      "                          precision    recall  f1-score   support\n",
      "\n",
      "                  Benign  0.96345179 0.99880854 0.98081163   1075154\n",
      "        Brute Force -Web  0.90909091 0.33898305 0.49382716        59\n",
      "        Brute Force -XSS  0.00000000 0.00000000 0.00000000        17\n",
      "        DDOS attack-HOIC  0.99944571 0.99991828 0.99968194    171310\n",
      "    DDOS attack-LOIC-UDP  1.00000000 1.00000000 1.00000000       444\n",
      "   DoS attacks-GoldenEye  0.95041701 0.99453342 0.97197488     10427\n",
      "        DoS attacks-Hulk  0.99898588 0.99792197 0.99845364    115494\n",
      "DoS attacks-SlowHTTPTest  0.76484591 0.50178896 0.60600137     35216\n",
      "   DoS attacks-Slowloris  0.91492190 0.96970764 0.94151847      2839\n",
      "          FTP-BruteForce  0.70679159 0.88850843 0.78730054     48479\n",
      "           Infilteration  0.45205479 0.00081635 0.00162975     40424\n",
      "           SQL Injection  0.00000000 0.00000000 0.00000000         8\n",
      "          SSH-Bruteforce  0.99974405 0.99959480 0.99966942     46891\n",
      "\n",
      "                accuracy                      0.95791078   1546762\n",
      "               macro avg  0.74305766 0.66850626 0.67545145   1546762\n",
      "            weighted avg  0.94507642 0.95791078 0.94444085   1546762\n",
      "\n"
     ]
    }
   ],
   "source": [
    "from sklearn.metrics import classification_report\n",
    "\n",
    "print(classification_report(y_test1, y_pred,target_names=Labels, digits=8, zero_division= \"warn\"))"
   ]
  },
  {
   "cell_type": "markdown",
   "metadata": {},
   "source": [
    "# Representaciones\n",
    "----\n",
    "## Matriz de confusión"
   ]
  },
  {
   "cell_type": "code",
   "execution_count": 35,
   "metadata": {},
   "outputs": [
    {
     "data": {
      "text/plain": [
       "array([[1073873,       2,       0,      85,       0,     465,     104,\n",
       "             22,     246,     306,      40,       0,      11],\n",
       "       [     39,      20,       0,       0,       0,       0,       0,\n",
       "              0,       0,       0,       0,       0,       0],\n",
       "       [     14,       0,       0,       0,       0,       0,       0,\n",
       "              3,       0,       0,       0,       0,       0],\n",
       "       [     14,       0,       0,  171296,       0,       0,       0,\n",
       "              0,       0,       0,       0,       0,       0],\n",
       "       [      0,       0,       0,       0,     444,       0,       0,\n",
       "              0,       0,       0,       0,       0,       0],\n",
       "       [     49,       0,       0,       0,       0,   10370,       8,\n",
       "              0,       0,       0,       0,       0,       0],\n",
       "       [    191,       0,       0,       3,       0,      45,  115254,\n",
       "              0,       0,       0,       0,       0,       1],\n",
       "       [      0,       0,       0,       0,       0,       0,       0,\n",
       "          17671,       0,   17545,       0,       0,       0],\n",
       "       [     82,       0,       0,       0,       0,       2,       0,\n",
       "              0,    2753,       2,       0,       0,       0],\n",
       "       [      0,       0,       0,       0,       0,       0,       0,\n",
       "           5405,       0,   43074,       0,       0,       0],\n",
       "       [  40331,       0,       0,       7,       0,      27,       2,\n",
       "              0,      10,      14,      33,       0,       0],\n",
       "       [      8,       0,       0,       0,       0,       0,       0,\n",
       "              0,       0,       0,       0,       0,       0],\n",
       "       [      9,       0,       0,       0,       0,       2,       3,\n",
       "              3,       0,       2,       0,       0,   46872]],\n",
       "      dtype=int64)"
      ]
     },
     "execution_count": 35,
     "metadata": {},
     "output_type": "execute_result"
    }
   ],
   "source": [
    "from sklearn.metrics import confusion_matrix\n",
    "confusion_matrix(y_test1, y_pred)"
   ]
  },
  {
   "cell_type": "code",
   "execution_count": 36,
   "metadata": {
    "scrolled": true
   },
   "outputs": [
    {
     "data": {
      "text/plain": [
       "array([[9.98808543e-01, 1.86019863e-06, 0.00000000e+00, 7.90584419e-05,\n",
       "        0.00000000e+00, 4.32496182e-04, 9.67303289e-05, 2.04621850e-05,\n",
       "        2.28804432e-04, 2.84610391e-04, 3.72039726e-05, 0.00000000e+00,\n",
       "        1.02310925e-05],\n",
       "       [6.61016949e-01, 3.38983051e-01, 0.00000000e+00, 0.00000000e+00,\n",
       "        0.00000000e+00, 0.00000000e+00, 0.00000000e+00, 0.00000000e+00,\n",
       "        0.00000000e+00, 0.00000000e+00, 0.00000000e+00, 0.00000000e+00,\n",
       "        0.00000000e+00],\n",
       "       [8.23529412e-01, 0.00000000e+00, 0.00000000e+00, 0.00000000e+00,\n",
       "        0.00000000e+00, 0.00000000e+00, 0.00000000e+00, 1.76470588e-01,\n",
       "        0.00000000e+00, 0.00000000e+00, 0.00000000e+00, 0.00000000e+00,\n",
       "        0.00000000e+00],\n",
       "       [8.17231919e-05, 0.00000000e+00, 0.00000000e+00, 9.99918277e-01,\n",
       "        0.00000000e+00, 0.00000000e+00, 0.00000000e+00, 0.00000000e+00,\n",
       "        0.00000000e+00, 0.00000000e+00, 0.00000000e+00, 0.00000000e+00,\n",
       "        0.00000000e+00],\n",
       "       [0.00000000e+00, 0.00000000e+00, 0.00000000e+00, 0.00000000e+00,\n",
       "        1.00000000e+00, 0.00000000e+00, 0.00000000e+00, 0.00000000e+00,\n",
       "        0.00000000e+00, 0.00000000e+00, 0.00000000e+00, 0.00000000e+00,\n",
       "        0.00000000e+00],\n",
       "       [4.69933826e-03, 0.00000000e+00, 0.00000000e+00, 0.00000000e+00,\n",
       "        0.00000000e+00, 9.94533423e-01, 7.67238899e-04, 0.00000000e+00,\n",
       "        0.00000000e+00, 0.00000000e+00, 0.00000000e+00, 0.00000000e+00,\n",
       "        0.00000000e+00],\n",
       "       [1.65376556e-03, 0.00000000e+00, 0.00000000e+00, 2.59753753e-05,\n",
       "        0.00000000e+00, 3.89630630e-04, 9.97921970e-01, 0.00000000e+00,\n",
       "        0.00000000e+00, 0.00000000e+00, 0.00000000e+00, 0.00000000e+00,\n",
       "        8.65845845e-06],\n",
       "       [0.00000000e+00, 0.00000000e+00, 0.00000000e+00, 0.00000000e+00,\n",
       "        0.00000000e+00, 0.00000000e+00, 0.00000000e+00, 5.01788960e-01,\n",
       "        0.00000000e+00, 4.98211040e-01, 0.00000000e+00, 0.00000000e+00,\n",
       "        0.00000000e+00],\n",
       "       [2.88834097e-02, 0.00000000e+00, 0.00000000e+00, 0.00000000e+00,\n",
       "        0.00000000e+00, 7.04473406e-04, 0.00000000e+00, 0.00000000e+00,\n",
       "        9.69707644e-01, 7.04473406e-04, 0.00000000e+00, 0.00000000e+00,\n",
       "        0.00000000e+00],\n",
       "       [0.00000000e+00, 0.00000000e+00, 0.00000000e+00, 0.00000000e+00,\n",
       "        0.00000000e+00, 0.00000000e+00, 0.00000000e+00, 1.11491574e-01,\n",
       "        0.00000000e+00, 8.88508426e-01, 0.00000000e+00, 0.00000000e+00,\n",
       "        0.00000000e+00],\n",
       "       [9.97699387e-01, 0.00000000e+00, 0.00000000e+00, 1.73164457e-04,\n",
       "        0.00000000e+00, 6.67920047e-04, 4.94755591e-05, 0.00000000e+00,\n",
       "        2.47377795e-04, 3.46328914e-04, 8.16346725e-04, 0.00000000e+00,\n",
       "        0.00000000e+00],\n",
       "       [1.00000000e+00, 0.00000000e+00, 0.00000000e+00, 0.00000000e+00,\n",
       "        0.00000000e+00, 0.00000000e+00, 0.00000000e+00, 0.00000000e+00,\n",
       "        0.00000000e+00, 0.00000000e+00, 0.00000000e+00, 0.00000000e+00,\n",
       "        0.00000000e+00],\n",
       "       [1.91934486e-04, 0.00000000e+00, 0.00000000e+00, 0.00000000e+00,\n",
       "        0.00000000e+00, 4.26521081e-05, 6.39781621e-05, 6.39781621e-05,\n",
       "        0.00000000e+00, 4.26521081e-05, 0.00000000e+00, 0.00000000e+00,\n",
       "        9.99594805e-01]])"
      ]
     },
     "execution_count": 36,
     "metadata": {},
     "output_type": "execute_result"
    }
   ],
   "source": [
    "# Normalized confusion matrix\n",
    "confusion_matrix(y_test1, y_pred, normalize='true')"
   ]
  },
  {
   "cell_type": "code",
   "execution_count": 37,
   "metadata": {},
   "outputs": [],
   "source": [
    "Labels = np.asarray(Labels)"
   ]
  },
  {
   "cell_type": "code",
   "execution_count": 38,
   "metadata": {},
   "outputs": [],
   "source": [
    "y_test1_text = []\n",
    "for i in range(0, y_test1.size):\n",
    "    for j in range(0, Labels.size):\n",
    "        if y_test1[i] == j:\n",
    "            y_test1_text.append(Labels[j])"
   ]
  },
  {
   "cell_type": "code",
   "execution_count": 39,
   "metadata": {},
   "outputs": [],
   "source": [
    "y_pred_text = []\n",
    "for i in range(0, y_pred.size):\n",
    "    for j in range(0, Labels.size):\n",
    "        if y_pred[i] == j:\n",
    "            y_pred_text.append(Labels[j])"
   ]
  },
  {
   "cell_type": "code",
   "execution_count": 40,
   "metadata": {},
   "outputs": [
    {
     "data": {
      "text/plain": [
       "<AxesSubplot:title={'center':'Normalized Confusion Matrix'}, xlabel='Predicted label', ylabel='True label'>"
      ]
     },
     "execution_count": 40,
     "metadata": {},
     "output_type": "execute_result"
    },
    {
     "data": {
      "image/png": "[encoded data removed]",
      "text/plain": [
       "<Figure size 936x936 with 2 Axes>"
      ]
     },
     "metadata": {
      "needs_background": "light"
     },
     "output_type": "display_data"
    },
    {
     "data": {
      "image/png": "[encoded data removed]",
      "text/plain": [
       "<Figure size 936x936 with 2 Axes>"
      ]
     },
     "metadata": {
      "needs_background": "light"
     },
     "output_type": "display_data"
    }
   ],
   "source": [
    "import scikitplot as skplt\n",
    "\n",
    "skplt.metrics.plot_confusion_matrix(y_test1_text, y_pred_text, figsize= (13,13))\n",
    "skplt.metrics.plot_confusion_matrix(y_test1_text, y_pred_text, normalize= True, figsize= (13,13))"
   ]
  }
 ],
 "metadata": {
  "kernelspec": {
   "display_name": "Python 3",
   "language": "python",
   "name": "python3"
  },
  "language_info": {
   "codemirror_mode": {
    "name": "ipython",
    "version": 3
   },
   "file_extension": ".py",
   "mimetype": "text/x-python",
   "name": "python",
   "nbconvert_exporter": "python",
   "pygments_lexer": "ipython3",
   "version": "3.6.12"
  }
 },
 "nbformat": 4,
 "nbformat_minor": 4
}
