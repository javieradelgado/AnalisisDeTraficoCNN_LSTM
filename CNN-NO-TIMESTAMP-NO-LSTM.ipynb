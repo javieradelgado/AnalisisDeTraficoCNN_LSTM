{
 "cells": [
  {
   "cell_type": "code",
   "execution_count": 1,
   "metadata": {
    "scrolled": false
   },
   "outputs": [
    {
     "name": "stderr",
     "output_type": "stream",
     "text": [
      "Using TensorFlow backend.\n"
     ]
    }
   ],
   "source": [
    "from __future__ import print_function\n",
    "import numpy as np # Biblioteca de funciones matematicas de alto nivel\n",
    "np.random.seed(1337)  # for reproducibility\n",
    "import tensorflow as tf\n",
    "import keras\n",
    "import pandas"
   ]
  },
  {
   "cell_type": "code",
   "execution_count": 2,
   "metadata": {},
   "outputs": [],
   "source": [
    "from keras.preprocessing import sequence\n",
    "from keras.models import Sequential # necesario para poder generar la red neuronal\n",
    "from keras.layers import Dense, Dropout, Activation, Lambda # Tipos de capa, hacen lo siguiente:\n",
    "from keras.layers import Embedding\n",
    "from keras.layers import Convolution1D,MaxPooling1D, Flatten, LSTM\n",
    "from keras.callbacks import CSVLogger # para guardar los datos en un excel\n",
    "from keras.callbacks import ModelCheckpoint, EarlyStopping, ReduceLROnPlateau, CSVLogger"
   ]
  },
  {
   "cell_type": "markdown",
   "metadata": {},
   "source": [
    "### ESTAS SON LAS CAPAS MAS IMPORTANTES\n",
    "* **Dense**: La capa que mas se utiliza, de la siguiente manera ::  output = activation(dot(input, kernel)+bias) dot representa la operacion punto a punto de todos los inputs y sus correspondientes pesos\n",
    "* **Dropout**: Se usa para resolver el problema de over-fitting, se intenta eliminar el ruido en esta capa\n",
    "* **Activation**: capa de activacion\n",
    "* **Lambda**: sirve para transformar los datos de entrada usando una expresión o una función\n",
    "* **Embedding**: esta capa sirve para convertir a vectores de tamaño fijo\n",
    "* **Convolution1D**: capa donde se realiza la convolucion\n",
    "* **MaxPooling1D**: capa donde se realiza la operacion de pooling\n",
    "* **Flatten**: capa donde se realiza la operacion de flatten (se puede usar para poner los datos en 1 sola dimension)"
   ]
  },
  {
   "cell_type": "code",
   "execution_count": 3,
   "metadata": {},
   "outputs": [],
   "source": [
    "from keras.datasets import imdb # un dataset incluido en keras\n",
    "from keras import backend as K # importas el backend (Tensorflow, Theano, etc)\n",
    "import pandas as pd # pandas es una libreria extension de numpy usada para manipulacion y analisis de datos, para manipular tablas numericas y series temporales"
   ]
  },
  {
   "cell_type": "code",
   "execution_count": 4,
   "metadata": {},
   "outputs": [],
   "source": [
    "from keras.utils.np_utils import to_categorical # sirve para convertir vectores de enteros a una matriz de clases binaria, por ejemplo:"
   ]
  },
  {
   "cell_type": "markdown",
   "metadata": {},
   "source": [
    " a = tf.keras.utils.to_categorical([0, 1, 2, 3], num_classes=4)\n",
    " \n",
    "                     [1, 0, 0, 0]\n",
    "                     [0, 1, 0, 0]\n",
    "                     [0, 0, 1, 0]\n",
    "                     [0, 0, 0, 1]"
   ]
  },
  {
   "cell_type": "code",
   "execution_count": 5,
   "metadata": {},
   "outputs": [],
   "source": [
    "import h5py # para almacenar un monton de datos numericos y dar facilidades de manipulacion para datos de Numpy"
   ]
  },
  {
   "cell_type": "code",
   "execution_count": 6,
   "metadata": {},
   "outputs": [],
   "source": [
    "from sklearn.preprocessing import Normalizer # Para normalizar los datos\n",
    "from sklearn.model_selection import train_test_split #para hacer la separacion entre datos de test y train\n",
    "from sklearn.preprocessing import OneHotEncoder #para convertir los datos de entrada"
   ]
  },
  {
   "cell_type": "code",
   "execution_count": 8,
   "metadata": {
    "scrolled": true
   },
   "outputs": [],
   "source": [
    "dataset = pd.read_csv('dataset/BruteForce/BruteForce.csv') # lectura de datos"
   ]
  },
  {
   "cell_type": "code",
   "execution_count": 9,
   "metadata": {
    "scrolled": true
   },
   "outputs": [
    {
     "data": {
      "text/plain": [
       "(2097150, 80)"
      ]
     },
     "execution_count": 9,
     "metadata": {},
     "output_type": "execute_result"
    }
   ],
   "source": [
    "dataset.shape #comprobamos el tamaño"
   ]
  },
  {
   "cell_type": "code",
   "execution_count": 10,
   "metadata": {},
   "outputs": [
    {
     "name": "stderr",
     "output_type": "stream",
     "text": [
      "D:\\Program Files\\anaconda3\\envs\\NN\\lib\\site-packages\\pandas\\core\\computation\\expressions.py:68: FutureWarning: elementwise comparison failed; returning scalar instead, but in the future will perform elementwise comparison\n",
      "  return op(a, b)\n"
     ]
    }
   ],
   "source": [
    "#Eliminamos los datos mal introducidos\n",
    "dataset = dataset.drop(dataset[dataset['Dst Port']=='Dst Port'].index)"
   ]
  },
  {
   "cell_type": "markdown",
   "metadata": {},
   "source": [
    "## Eliminamos la columnaTimestamp"
   ]
  },
  {
   "cell_type": "code",
   "execution_count": 11,
   "metadata": {},
   "outputs": [],
   "source": [
    "#Eliminamos la columna\n",
    "dataset = dataset.drop(['Timestamp'], axis=1)"
   ]
  },
  {
   "cell_type": "code",
   "execution_count": 12,
   "metadata": {
    "scrolled": true
   },
   "outputs": [
    {
     "name": "stdout",
     "output_type": "stream",
     "text": [
      "<class 'pandas.core.frame.DataFrame'>\n",
      "Int64Index: 2097150 entries, 0 to 2097149\n",
      "Data columns (total 79 columns):\n",
      " #   Column             Dtype  \n",
      "---  ------             -----  \n",
      " 0   Dst Port           int64  \n",
      " 1   Protocol           int64  \n",
      " 2   Flow Duration      int64  \n",
      " 3   Tot Fwd Pkts       int64  \n",
      " 4   Tot Bwd Pkts       int64  \n",
      " 5   TotLen Fwd Pkts    int64  \n",
      " 6   TotLen Bwd Pkts    int64  \n",
      " 7   Fwd Pkt Len Max    int64  \n",
      " 8   Fwd Pkt Len Min    int64  \n",
      " 9   Fwd Pkt Len Mean   float64\n",
      " 10  Fwd Pkt Len Std    float64\n",
      " 11  Bwd Pkt Len Max    int64  \n",
      " 12  Bwd Pkt Len Min    int64  \n",
      " 13  Bwd Pkt Len Mean   float64\n",
      " 14  Bwd Pkt Len Std    float64\n",
      " 15  Flow Byts/s        float64\n",
      " 16  Flow Pkts/s        float64\n",
      " 17  Flow IAT Mean      float64\n",
      " 18  Flow IAT Std       float64\n",
      " 19  Flow IAT Max       int64  \n",
      " 20  Flow IAT Min       int64  \n",
      " 21  Fwd IAT Tot        int64  \n",
      " 22  Fwd IAT Mean       float64\n",
      " 23  Fwd IAT Std        float64\n",
      " 24  Fwd IAT Max        int64  \n",
      " 25  Fwd IAT Min        int64  \n",
      " 26  Bwd IAT Tot        int64  \n",
      " 27  Bwd IAT Mean       float64\n",
      " 28  Bwd IAT Std        float64\n",
      " 29  Bwd IAT Max        int64  \n",
      " 30  Bwd IAT Min        int64  \n",
      " 31  Fwd PSH Flags      int64  \n",
      " 32  Bwd PSH Flags      int64  \n",
      " 33  Fwd URG Flags      int64  \n",
      " 34  Bwd URG Flags      int64  \n",
      " 35  Fwd Header Len     int64  \n",
      " 36  Bwd Header Len     int64  \n",
      " 37  Fwd Pkts/s         float64\n",
      " 38  Bwd Pkts/s         float64\n",
      " 39  Pkt Len Min        int64  \n",
      " 40  Pkt Len Max        int64  \n",
      " 41  Pkt Len Mean       float64\n",
      " 42  Pkt Len Std        float64\n",
      " 43  Pkt Len Var        float64\n",
      " 44  FIN Flag Cnt       int64  \n",
      " 45  SYN Flag Cnt       int64  \n",
      " 46  RST Flag Cnt       int64  \n",
      " 47  PSH Flag Cnt       int64  \n",
      " 48  ACK Flag Cnt       int64  \n",
      " 49  URG Flag Cnt       int64  \n",
      " 50  CWE Flag Count     int64  \n",
      " 51  ECE Flag Cnt       int64  \n",
      " 52  Down/Up Ratio      int64  \n",
      " 53  Pkt Size Avg       float64\n",
      " 54  Fwd Seg Size Avg   float64\n",
      " 55  Bwd Seg Size Avg   float64\n",
      " 56  Fwd Byts/b Avg     int64  \n",
      " 57  Fwd Pkts/b Avg     int64  \n",
      " 58  Fwd Blk Rate Avg   int64  \n",
      " 59  Bwd Byts/b Avg     int64  \n",
      " 60  Bwd Pkts/b Avg     int64  \n",
      " 61  Bwd Blk Rate Avg   int64  \n",
      " 62  Subflow Fwd Pkts   int64  \n",
      " 63  Subflow Fwd Byts   int64  \n",
      " 64  Subflow Bwd Pkts   int64  \n",
      " 65  Subflow Bwd Byts   int64  \n",
      " 66  Init Fwd Win Byts  int64  \n",
      " 67  Init Bwd Win Byts  int64  \n",
      " 68  Fwd Act Data Pkts  int64  \n",
      " 69  Fwd Seg Size Min   int64  \n",
      " 70  Active Mean        float64\n",
      " 71  Active Std         float64\n",
      " 72  Active Max         int64  \n",
      " 73  Active Min         int64  \n",
      " 74  Idle Mean          float64\n",
      " 75  Idle Std           float64\n",
      " 76  Idle Max           int64  \n",
      " 77  Idle Min           int64  \n",
      " 78  Label              object \n",
      "dtypes: float64(24), int64(54), object(1)\n",
      "memory usage: 1.2+ GB\n"
     ]
    }
   ],
   "source": [
    "dataset.info(verbose=True)"
   ]
  },
  {
   "cell_type": "code",
   "execution_count": 13,
   "metadata": {
    "scrolled": true
   },
   "outputs": [],
   "source": [
    "n=0\n",
    "for column in dataset:\n",
    "    column\n",
    "    if column != 'Label':\n",
    "        dataset[column] = dataset[column].astype(float)"
   ]
  },
  {
   "cell_type": "code",
   "execution_count": 14,
   "metadata": {
    "scrolled": true
   },
   "outputs": [
    {
     "name": "stdout",
     "output_type": "stream",
     "text": [
      "<class 'pandas.core.frame.DataFrame'>\n",
      "Int64Index: 2097150 entries, 0 to 2097149\n",
      "Data columns (total 79 columns):\n",
      " #   Column             Dtype  \n",
      "---  ------             -----  \n",
      " 0   Dst Port           float64\n",
      " 1   Protocol           float64\n",
      " 2   Flow Duration      float64\n",
      " 3   Tot Fwd Pkts       float64\n",
      " 4   Tot Bwd Pkts       float64\n",
      " 5   TotLen Fwd Pkts    float64\n",
      " 6   TotLen Bwd Pkts    float64\n",
      " 7   Fwd Pkt Len Max    float64\n",
      " 8   Fwd Pkt Len Min    float64\n",
      " 9   Fwd Pkt Len Mean   float64\n",
      " 10  Fwd Pkt Len Std    float64\n",
      " 11  Bwd Pkt Len Max    float64\n",
      " 12  Bwd Pkt Len Min    float64\n",
      " 13  Bwd Pkt Len Mean   float64\n",
      " 14  Bwd Pkt Len Std    float64\n",
      " 15  Flow Byts/s        float64\n",
      " 16  Flow Pkts/s        float64\n",
      " 17  Flow IAT Mean      float64\n",
      " 18  Flow IAT Std       float64\n",
      " 19  Flow IAT Max       float64\n",
      " 20  Flow IAT Min       float64\n",
      " 21  Fwd IAT Tot        float64\n",
      " 22  Fwd IAT Mean       float64\n",
      " 23  Fwd IAT Std        float64\n",
      " 24  Fwd IAT Max        float64\n",
      " 25  Fwd IAT Min        float64\n",
      " 26  Bwd IAT Tot        float64\n",
      " 27  Bwd IAT Mean       float64\n",
      " 28  Bwd IAT Std        float64\n",
      " 29  Bwd IAT Max        float64\n",
      " 30  Bwd IAT Min        float64\n",
      " 31  Fwd PSH Flags      float64\n",
      " 32  Bwd PSH Flags      float64\n",
      " 33  Fwd URG Flags      float64\n",
      " 34  Bwd URG Flags      float64\n",
      " 35  Fwd Header Len     float64\n",
      " 36  Bwd Header Len     float64\n",
      " 37  Fwd Pkts/s         float64\n",
      " 38  Bwd Pkts/s         float64\n",
      " 39  Pkt Len Min        float64\n",
      " 40  Pkt Len Max        float64\n",
      " 41  Pkt Len Mean       float64\n",
      " 42  Pkt Len Std        float64\n",
      " 43  Pkt Len Var        float64\n",
      " 44  FIN Flag Cnt       float64\n",
      " 45  SYN Flag Cnt       float64\n",
      " 46  RST Flag Cnt       float64\n",
      " 47  PSH Flag Cnt       float64\n",
      " 48  ACK Flag Cnt       float64\n",
      " 49  URG Flag Cnt       float64\n",
      " 50  CWE Flag Count     float64\n",
      " 51  ECE Flag Cnt       float64\n",
      " 52  Down/Up Ratio      float64\n",
      " 53  Pkt Size Avg       float64\n",
      " 54  Fwd Seg Size Avg   float64\n",
      " 55  Bwd Seg Size Avg   float64\n",
      " 56  Fwd Byts/b Avg     float64\n",
      " 57  Fwd Pkts/b Avg     float64\n",
      " 58  Fwd Blk Rate Avg   float64\n",
      " 59  Bwd Byts/b Avg     float64\n",
      " 60  Bwd Pkts/b Avg     float64\n",
      " 61  Bwd Blk Rate Avg   float64\n",
      " 62  Subflow Fwd Pkts   float64\n",
      " 63  Subflow Fwd Byts   float64\n",
      " 64  Subflow Bwd Pkts   float64\n",
      " 65  Subflow Bwd Byts   float64\n",
      " 66  Init Fwd Win Byts  float64\n",
      " 67  Init Bwd Win Byts  float64\n",
      " 68  Fwd Act Data Pkts  float64\n",
      " 69  Fwd Seg Size Min   float64\n",
      " 70  Active Mean        float64\n",
      " 71  Active Std         float64\n",
      " 72  Active Max         float64\n",
      " 73  Active Min         float64\n",
      " 74  Idle Mean          float64\n",
      " 75  Idle Std           float64\n",
      " 76  Idle Max           float64\n",
      " 77  Idle Min           float64\n",
      " 78  Label              object \n",
      "dtypes: float64(78), object(1)\n",
      "memory usage: 1.2+ GB\n"
     ]
    }
   ],
   "source": [
    "dataset.info(verbose=True)"
   ]
  },
  {
   "cell_type": "code",
   "execution_count": 15,
   "metadata": {},
   "outputs": [],
   "source": [
    "Y = dataset[\"Label\"]"
   ]
  },
  {
   "cell_type": "code",
   "execution_count": 16,
   "metadata": {},
   "outputs": [
    {
     "data": {
      "text/plain": [
       "Benign              1715839\n",
       "FTP-BruteForce       193360\n",
       "SSH-Bruteforce       187589\n",
       "Brute Force -Web        249\n",
       "Brute Force -XSS         79\n",
       "SQL Injection            34\n",
       "Name: Label, dtype: int64"
      ]
     },
     "execution_count": 16,
     "metadata": {},
     "output_type": "execute_result"
    }
   ],
   "source": [
    "dataset[\"Label\"].value_counts()"
   ]
  },
  {
   "cell_type": "code",
   "execution_count": 17,
   "metadata": {
    "scrolled": true
   },
   "outputs": [
    {
     "data": {
      "text/html": [
       "<div>\n",
       "<style scoped>\n",
       "    .dataframe tbody tr th:only-of-type {\n",
       "        vertical-align: middle;\n",
       "    }\n",
       "\n",
       "    .dataframe tbody tr th {\n",
       "        vertical-align: top;\n",
       "    }\n",
       "\n",
       "    .dataframe thead th {\n",
       "        text-align: right;\n",
       "    }\n",
       "</style>\n",
       "<table border=\"1\" class=\"dataframe\">\n",
       "  <thead>\n",
       "    <tr style=\"text-align: right;\">\n",
       "      <th></th>\n",
       "      <th>Dst Port</th>\n",
       "      <th>Protocol</th>\n",
       "      <th>Flow Duration</th>\n",
       "      <th>Tot Fwd Pkts</th>\n",
       "      <th>Tot Bwd Pkts</th>\n",
       "      <th>TotLen Fwd Pkts</th>\n",
       "      <th>TotLen Bwd Pkts</th>\n",
       "      <th>Fwd Pkt Len Max</th>\n",
       "      <th>Fwd Pkt Len Min</th>\n",
       "      <th>Fwd Pkt Len Mean</th>\n",
       "      <th>...</th>\n",
       "      <th>Fwd Seg Size Min</th>\n",
       "      <th>Active Mean</th>\n",
       "      <th>Active Std</th>\n",
       "      <th>Active Max</th>\n",
       "      <th>Active Min</th>\n",
       "      <th>Idle Mean</th>\n",
       "      <th>Idle Std</th>\n",
       "      <th>Idle Max</th>\n",
       "      <th>Idle Min</th>\n",
       "      <th>Label</th>\n",
       "    </tr>\n",
       "  </thead>\n",
       "  <tbody>\n",
       "    <tr>\n",
       "      <th>0</th>\n",
       "      <td>22.0</td>\n",
       "      <td>6.0</td>\n",
       "      <td>20553406.0</td>\n",
       "      <td>10.0</td>\n",
       "      <td>7.0</td>\n",
       "      <td>1063.0</td>\n",
       "      <td>1297.0</td>\n",
       "      <td>744.0</td>\n",
       "      <td>0.0</td>\n",
       "      <td>106.3</td>\n",
       "      <td>...</td>\n",
       "      <td>20.0</td>\n",
       "      <td>1027304.0</td>\n",
       "      <td>0.0</td>\n",
       "      <td>1027304.0</td>\n",
       "      <td>1027304.0</td>\n",
       "      <td>1.952608e+07</td>\n",
       "      <td>0.000000e+00</td>\n",
       "      <td>19526080.0</td>\n",
       "      <td>19526080.0</td>\n",
       "      <td>Benign</td>\n",
       "    </tr>\n",
       "    <tr>\n",
       "      <th>1</th>\n",
       "      <td>34989.0</td>\n",
       "      <td>6.0</td>\n",
       "      <td>790.0</td>\n",
       "      <td>2.0</td>\n",
       "      <td>0.0</td>\n",
       "      <td>848.0</td>\n",
       "      <td>0.0</td>\n",
       "      <td>848.0</td>\n",
       "      <td>0.0</td>\n",
       "      <td>424.0</td>\n",
       "      <td>...</td>\n",
       "      <td>20.0</td>\n",
       "      <td>0.0</td>\n",
       "      <td>0.0</td>\n",
       "      <td>0.0</td>\n",
       "      <td>0.0</td>\n",
       "      <td>0.000000e+00</td>\n",
       "      <td>0.000000e+00</td>\n",
       "      <td>0.0</td>\n",
       "      <td>0.0</td>\n",
       "      <td>Benign</td>\n",
       "    </tr>\n",
       "    <tr>\n",
       "      <th>2</th>\n",
       "      <td>500.0</td>\n",
       "      <td>17.0</td>\n",
       "      <td>99745913.0</td>\n",
       "      <td>5.0</td>\n",
       "      <td>0.0</td>\n",
       "      <td>2500.0</td>\n",
       "      <td>0.0</td>\n",
       "      <td>500.0</td>\n",
       "      <td>500.0</td>\n",
       "      <td>500.0</td>\n",
       "      <td>...</td>\n",
       "      <td>8.0</td>\n",
       "      <td>4000203.0</td>\n",
       "      <td>0.0</td>\n",
       "      <td>4000203.0</td>\n",
       "      <td>4000203.0</td>\n",
       "      <td>3.191524e+07</td>\n",
       "      <td>3.792787e+07</td>\n",
       "      <td>75584115.0</td>\n",
       "      <td>7200679.0</td>\n",
       "      <td>Benign</td>\n",
       "    </tr>\n",
       "    <tr>\n",
       "      <th>3</th>\n",
       "      <td>500.0</td>\n",
       "      <td>17.0</td>\n",
       "      <td>99745913.0</td>\n",
       "      <td>5.0</td>\n",
       "      <td>0.0</td>\n",
       "      <td>2500.0</td>\n",
       "      <td>0.0</td>\n",
       "      <td>500.0</td>\n",
       "      <td>500.0</td>\n",
       "      <td>500.0</td>\n",
       "      <td>...</td>\n",
       "      <td>8.0</td>\n",
       "      <td>4000189.0</td>\n",
       "      <td>0.0</td>\n",
       "      <td>4000189.0</td>\n",
       "      <td>4000189.0</td>\n",
       "      <td>3.191524e+07</td>\n",
       "      <td>3.792788e+07</td>\n",
       "      <td>75584130.0</td>\n",
       "      <td>7200693.0</td>\n",
       "      <td>Benign</td>\n",
       "    </tr>\n",
       "    <tr>\n",
       "      <th>4</th>\n",
       "      <td>500.0</td>\n",
       "      <td>17.0</td>\n",
       "      <td>89481361.0</td>\n",
       "      <td>6.0</td>\n",
       "      <td>0.0</td>\n",
       "      <td>3000.0</td>\n",
       "      <td>0.0</td>\n",
       "      <td>500.0</td>\n",
       "      <td>500.0</td>\n",
       "      <td>500.0</td>\n",
       "      <td>...</td>\n",
       "      <td>8.0</td>\n",
       "      <td>4000554.0</td>\n",
       "      <td>0.0</td>\n",
       "      <td>4000554.0</td>\n",
       "      <td>4000554.0</td>\n",
       "      <td>2.137020e+07</td>\n",
       "      <td>1.528109e+07</td>\n",
       "      <td>41990741.0</td>\n",
       "      <td>7200848.0</td>\n",
       "      <td>Benign</td>\n",
       "    </tr>\n",
       "  </tbody>\n",
       "</table>\n",
       "<p>5 rows × 79 columns</p>\n",
       "</div>"
      ],
      "text/plain": [
       "   Dst Port  Protocol  Flow Duration  Tot Fwd Pkts  Tot Bwd Pkts  \\\n",
       "0      22.0       6.0     20553406.0          10.0           7.0   \n",
       "1   34989.0       6.0          790.0           2.0           0.0   \n",
       "2     500.0      17.0     99745913.0           5.0           0.0   \n",
       "3     500.0      17.0     99745913.0           5.0           0.0   \n",
       "4     500.0      17.0     89481361.0           6.0           0.0   \n",
       "\n",
       "   TotLen Fwd Pkts  TotLen Bwd Pkts  Fwd Pkt Len Max  Fwd Pkt Len Min  \\\n",
       "0           1063.0           1297.0            744.0              0.0   \n",
       "1            848.0              0.0            848.0              0.0   \n",
       "2           2500.0              0.0            500.0            500.0   \n",
       "3           2500.0              0.0            500.0            500.0   \n",
       "4           3000.0              0.0            500.0            500.0   \n",
       "\n",
       "   Fwd Pkt Len Mean  ...  Fwd Seg Size Min  Active Mean  Active Std  \\\n",
       "0             106.3  ...              20.0    1027304.0         0.0   \n",
       "1             424.0  ...              20.0          0.0         0.0   \n",
       "2             500.0  ...               8.0    4000203.0         0.0   \n",
       "3             500.0  ...               8.0    4000189.0         0.0   \n",
       "4             500.0  ...               8.0    4000554.0         0.0   \n",
       "\n",
       "   Active Max  Active Min     Idle Mean      Idle Std    Idle Max    Idle Min  \\\n",
       "0   1027304.0   1027304.0  1.952608e+07  0.000000e+00  19526080.0  19526080.0   \n",
       "1         0.0         0.0  0.000000e+00  0.000000e+00         0.0         0.0   \n",
       "2   4000203.0   4000203.0  3.191524e+07  3.792787e+07  75584115.0   7200679.0   \n",
       "3   4000189.0   4000189.0  3.191524e+07  3.792788e+07  75584130.0   7200693.0   \n",
       "4   4000554.0   4000554.0  2.137020e+07  1.528109e+07  41990741.0   7200848.0   \n",
       "\n",
       "    Label  \n",
       "0  Benign  \n",
       "1  Benign  \n",
       "2  Benign  \n",
       "3  Benign  \n",
       "4  Benign  \n",
       "\n",
       "[5 rows x 79 columns]"
      ]
     },
     "execution_count": 17,
     "metadata": {},
     "output_type": "execute_result"
    }
   ],
   "source": [
    "# Replacing infinite and nan \n",
    "dataset.replace([np.inf, -np.inf], -1, inplace=True) \n",
    "dataset.replace([np.nan, -np.nan], -1, inplace=True)\n",
    "\n",
    "# Printing df \n",
    "dataset.head()"
   ]
  },
  {
   "cell_type": "code",
   "execution_count": 18,
   "metadata": {},
   "outputs": [
    {
     "data": {
      "text/plain": [
       "Benign              1715839\n",
       "FTP-BruteForce       193360\n",
       "SSH-Bruteforce       187589\n",
       "Brute Force -Web        249\n",
       "Brute Force -XSS         79\n",
       "SQL Injection            34\n",
       "Name: Label, dtype: int64"
      ]
     },
     "execution_count": 18,
     "metadata": {},
     "output_type": "execute_result"
    }
   ],
   "source": [
    "dataset[\"Label\"].value_counts()"
   ]
  },
  {
   "cell_type": "code",
   "execution_count": 19,
   "metadata": {
    "scrolled": true
   },
   "outputs": [
    {
     "data": {
      "text/plain": [
       "<bound method NDFrame.head of          Dst Port  Protocol  Flow Duration  Tot Fwd Pkts  Tot Bwd Pkts  \\\n",
       "0            22.0       6.0     20553406.0          10.0           7.0   \n",
       "1         34989.0       6.0          790.0           2.0           0.0   \n",
       "2           500.0      17.0     99745913.0           5.0           0.0   \n",
       "3           500.0      17.0     99745913.0           5.0           0.0   \n",
       "4           500.0      17.0     89481361.0           6.0           0.0   \n",
       "...           ...       ...            ...           ...           ...   \n",
       "2097145      80.0       6.0     10156986.0           5.0           5.0   \n",
       "2097146      80.0       6.0          117.0           2.0           0.0   \n",
       "2097147      80.0       6.0      5095331.0           3.0           1.0   \n",
       "2097148      80.0       6.0      5235511.0           3.0           1.0   \n",
       "2097149     443.0       6.0      5807256.0           6.0           4.0   \n",
       "\n",
       "         TotLen Fwd Pkts  TotLen Bwd Pkts  Fwd Pkt Len Max  Fwd Pkt Len Min  \\\n",
       "0                 1063.0           1297.0            744.0              0.0   \n",
       "1                  848.0              0.0            848.0              0.0   \n",
       "2                 2500.0              0.0            500.0            500.0   \n",
       "3                 2500.0              0.0            500.0            500.0   \n",
       "4                 3000.0              0.0            500.0            500.0   \n",
       "...                  ...              ...              ...              ...   \n",
       "2097145           1089.0           1923.0            587.0              0.0   \n",
       "2097146              0.0              0.0              0.0              0.0   \n",
       "2097147              0.0              0.0              0.0              0.0   \n",
       "2097148              0.0              0.0              0.0              0.0   \n",
       "2097149            327.0            145.0            245.0              0.0   \n",
       "\n",
       "         Fwd Pkt Len Mean  ...  Fwd Seg Size Min  Active Mean  Active Std  \\\n",
       "0                   106.3  ...              20.0    1027304.0         0.0   \n",
       "1                   424.0  ...              20.0          0.0         0.0   \n",
       "2                   500.0  ...               8.0    4000203.0         0.0   \n",
       "3                   500.0  ...               8.0    4000189.0         0.0   \n",
       "4                   500.0  ...               8.0    4000554.0         0.0   \n",
       "...                   ...  ...               ...          ...         ...   \n",
       "2097145             217.8  ...              20.0          0.0         0.0   \n",
       "2097146               0.0  ...              20.0          0.0         0.0   \n",
       "2097147               0.0  ...              20.0          0.0         0.0   \n",
       "2097148               0.0  ...              20.0          0.0         0.0   \n",
       "2097149              54.5  ...              20.0     291569.0         0.0   \n",
       "\n",
       "         Active Max  Active Min     Idle Mean      Idle Std    Idle Max  \\\n",
       "0         1027304.0   1027304.0  1.952608e+07  0.000000e+00  19526080.0   \n",
       "1               0.0         0.0  0.000000e+00  0.000000e+00         0.0   \n",
       "2         4000203.0   4000203.0  3.191524e+07  3.792787e+07  75584115.0   \n",
       "3         4000189.0   4000189.0  3.191524e+07  3.792788e+07  75584130.0   \n",
       "4         4000554.0   4000554.0  2.137020e+07  1.528109e+07  41990741.0   \n",
       "...             ...         ...           ...           ...         ...   \n",
       "2097145         0.0         0.0  0.000000e+00  0.000000e+00         0.0   \n",
       "2097146         0.0         0.0  0.000000e+00  0.000000e+00         0.0   \n",
       "2097147         0.0         0.0  0.000000e+00  0.000000e+00         0.0   \n",
       "2097148         0.0         0.0  0.000000e+00  0.000000e+00         0.0   \n",
       "2097149    291569.0    291569.0  5.515650e+06  0.000000e+00   5515650.0   \n",
       "\n",
       "           Idle Min   Label  \n",
       "0        19526080.0  Benign  \n",
       "1               0.0  Benign  \n",
       "2         7200679.0  Benign  \n",
       "3         7200693.0  Benign  \n",
       "4         7200848.0  Benign  \n",
       "...             ...     ...  \n",
       "2097145         0.0  Benign  \n",
       "2097146         0.0  Benign  \n",
       "2097147         0.0  Benign  \n",
       "2097148         0.0  Benign  \n",
       "2097149   5515650.0  Benign  \n",
       "\n",
       "[2097150 rows x 79 columns]>"
      ]
     },
     "execution_count": 19,
     "metadata": {},
     "output_type": "execute_result"
    }
   ],
   "source": [
    "dataset.head"
   ]
  },
  {
   "cell_type": "code",
   "execution_count": 20,
   "metadata": {
    "scrolled": false
   },
   "outputs": [
    {
     "data": {
      "text/html": [
       "<div>\n",
       "<style scoped>\n",
       "    .dataframe tbody tr th:only-of-type {\n",
       "        vertical-align: middle;\n",
       "    }\n",
       "\n",
       "    .dataframe tbody tr th {\n",
       "        vertical-align: top;\n",
       "    }\n",
       "\n",
       "    .dataframe thead th {\n",
       "        text-align: right;\n",
       "    }\n",
       "</style>\n",
       "<table border=\"1\" class=\"dataframe\">\n",
       "  <thead>\n",
       "    <tr style=\"text-align: right;\">\n",
       "      <th></th>\n",
       "      <th>Dst Port</th>\n",
       "      <th>Protocol</th>\n",
       "      <th>Flow Duration</th>\n",
       "      <th>Tot Fwd Pkts</th>\n",
       "      <th>Tot Bwd Pkts</th>\n",
       "      <th>TotLen Fwd Pkts</th>\n",
       "      <th>TotLen Bwd Pkts</th>\n",
       "      <th>Fwd Pkt Len Max</th>\n",
       "      <th>Fwd Pkt Len Min</th>\n",
       "      <th>Fwd Pkt Len Mean</th>\n",
       "      <th>...</th>\n",
       "      <th>Fwd Act Data Pkts</th>\n",
       "      <th>Fwd Seg Size Min</th>\n",
       "      <th>Active Mean</th>\n",
       "      <th>Active Std</th>\n",
       "      <th>Active Max</th>\n",
       "      <th>Active Min</th>\n",
       "      <th>Idle Mean</th>\n",
       "      <th>Idle Std</th>\n",
       "      <th>Idle Max</th>\n",
       "      <th>Idle Min</th>\n",
       "    </tr>\n",
       "  </thead>\n",
       "  <tbody>\n",
       "    <tr>\n",
       "      <th>0</th>\n",
       "      <td>22.0</td>\n",
       "      <td>6.0</td>\n",
       "      <td>20553406.0</td>\n",
       "      <td>10.0</td>\n",
       "      <td>7.0</td>\n",
       "      <td>1063.0</td>\n",
       "      <td>1297.0</td>\n",
       "      <td>744.0</td>\n",
       "      <td>0.0</td>\n",
       "      <td>106.3</td>\n",
       "      <td>...</td>\n",
       "      <td>4.0</td>\n",
       "      <td>20.0</td>\n",
       "      <td>1027304.0</td>\n",
       "      <td>0.0</td>\n",
       "      <td>1027304.0</td>\n",
       "      <td>1027304.0</td>\n",
       "      <td>1.952608e+07</td>\n",
       "      <td>0.000000e+00</td>\n",
       "      <td>19526080.0</td>\n",
       "      <td>19526080.0</td>\n",
       "    </tr>\n",
       "    <tr>\n",
       "      <th>1</th>\n",
       "      <td>34989.0</td>\n",
       "      <td>6.0</td>\n",
       "      <td>790.0</td>\n",
       "      <td>2.0</td>\n",
       "      <td>0.0</td>\n",
       "      <td>848.0</td>\n",
       "      <td>0.0</td>\n",
       "      <td>848.0</td>\n",
       "      <td>0.0</td>\n",
       "      <td>424.0</td>\n",
       "      <td>...</td>\n",
       "      <td>0.0</td>\n",
       "      <td>20.0</td>\n",
       "      <td>0.0</td>\n",
       "      <td>0.0</td>\n",
       "      <td>0.0</td>\n",
       "      <td>0.0</td>\n",
       "      <td>0.000000e+00</td>\n",
       "      <td>0.000000e+00</td>\n",
       "      <td>0.0</td>\n",
       "      <td>0.0</td>\n",
       "    </tr>\n",
       "    <tr>\n",
       "      <th>2</th>\n",
       "      <td>500.0</td>\n",
       "      <td>17.0</td>\n",
       "      <td>99745913.0</td>\n",
       "      <td>5.0</td>\n",
       "      <td>0.0</td>\n",
       "      <td>2500.0</td>\n",
       "      <td>0.0</td>\n",
       "      <td>500.0</td>\n",
       "      <td>500.0</td>\n",
       "      <td>500.0</td>\n",
       "      <td>...</td>\n",
       "      <td>4.0</td>\n",
       "      <td>8.0</td>\n",
       "      <td>4000203.0</td>\n",
       "      <td>0.0</td>\n",
       "      <td>4000203.0</td>\n",
       "      <td>4000203.0</td>\n",
       "      <td>3.191524e+07</td>\n",
       "      <td>3.792787e+07</td>\n",
       "      <td>75584115.0</td>\n",
       "      <td>7200679.0</td>\n",
       "    </tr>\n",
       "    <tr>\n",
       "      <th>3</th>\n",
       "      <td>500.0</td>\n",
       "      <td>17.0</td>\n",
       "      <td>99745913.0</td>\n",
       "      <td>5.0</td>\n",
       "      <td>0.0</td>\n",
       "      <td>2500.0</td>\n",
       "      <td>0.0</td>\n",
       "      <td>500.0</td>\n",
       "      <td>500.0</td>\n",
       "      <td>500.0</td>\n",
       "      <td>...</td>\n",
       "      <td>4.0</td>\n",
       "      <td>8.0</td>\n",
       "      <td>4000189.0</td>\n",
       "      <td>0.0</td>\n",
       "      <td>4000189.0</td>\n",
       "      <td>4000189.0</td>\n",
       "      <td>3.191524e+07</td>\n",
       "      <td>3.792788e+07</td>\n",
       "      <td>75584130.0</td>\n",
       "      <td>7200693.0</td>\n",
       "    </tr>\n",
       "    <tr>\n",
       "      <th>4</th>\n",
       "      <td>500.0</td>\n",
       "      <td>17.0</td>\n",
       "      <td>89481361.0</td>\n",
       "      <td>6.0</td>\n",
       "      <td>0.0</td>\n",
       "      <td>3000.0</td>\n",
       "      <td>0.0</td>\n",
       "      <td>500.0</td>\n",
       "      <td>500.0</td>\n",
       "      <td>500.0</td>\n",
       "      <td>...</td>\n",
       "      <td>5.0</td>\n",
       "      <td>8.0</td>\n",
       "      <td>4000554.0</td>\n",
       "      <td>0.0</td>\n",
       "      <td>4000554.0</td>\n",
       "      <td>4000554.0</td>\n",
       "      <td>2.137020e+07</td>\n",
       "      <td>1.528109e+07</td>\n",
       "      <td>41990741.0</td>\n",
       "      <td>7200848.0</td>\n",
       "    </tr>\n",
       "  </tbody>\n",
       "</table>\n",
       "<p>5 rows × 78 columns</p>\n",
       "</div>"
      ],
      "text/plain": [
       "   Dst Port  Protocol  Flow Duration  Tot Fwd Pkts  Tot Bwd Pkts  \\\n",
       "0      22.0       6.0     20553406.0          10.0           7.0   \n",
       "1   34989.0       6.0          790.0           2.0           0.0   \n",
       "2     500.0      17.0     99745913.0           5.0           0.0   \n",
       "3     500.0      17.0     99745913.0           5.0           0.0   \n",
       "4     500.0      17.0     89481361.0           6.0           0.0   \n",
       "\n",
       "   TotLen Fwd Pkts  TotLen Bwd Pkts  Fwd Pkt Len Max  Fwd Pkt Len Min  \\\n",
       "0           1063.0           1297.0            744.0              0.0   \n",
       "1            848.0              0.0            848.0              0.0   \n",
       "2           2500.0              0.0            500.0            500.0   \n",
       "3           2500.0              0.0            500.0            500.0   \n",
       "4           3000.0              0.0            500.0            500.0   \n",
       "\n",
       "   Fwd Pkt Len Mean  ...  Fwd Act Data Pkts  Fwd Seg Size Min  Active Mean  \\\n",
       "0             106.3  ...                4.0              20.0    1027304.0   \n",
       "1             424.0  ...                0.0              20.0          0.0   \n",
       "2             500.0  ...                4.0               8.0    4000203.0   \n",
       "3             500.0  ...                4.0               8.0    4000189.0   \n",
       "4             500.0  ...                5.0               8.0    4000554.0   \n",
       "\n",
       "   Active Std  Active Max  Active Min     Idle Mean      Idle Std    Idle Max  \\\n",
       "0         0.0   1027304.0   1027304.0  1.952608e+07  0.000000e+00  19526080.0   \n",
       "1         0.0         0.0         0.0  0.000000e+00  0.000000e+00         0.0   \n",
       "2         0.0   4000203.0   4000203.0  3.191524e+07  3.792787e+07  75584115.0   \n",
       "3         0.0   4000189.0   4000189.0  3.191524e+07  3.792788e+07  75584130.0   \n",
       "4         0.0   4000554.0   4000554.0  2.137020e+07  1.528109e+07  41990741.0   \n",
       "\n",
       "     Idle Min  \n",
       "0  19526080.0  \n",
       "1         0.0  \n",
       "2   7200679.0  \n",
       "3   7200693.0  \n",
       "4   7200848.0  \n",
       "\n",
       "[5 rows x 78 columns]"
      ]
     },
     "execution_count": 20,
     "metadata": {},
     "output_type": "execute_result"
    }
   ],
   "source": [
    "#ahora que hemos conseguido transformar estas columnas a numeros, podemos empezar con la red neuronal\n",
    "#necesitamos un grupo de train y otro de test para la red neuronal, los crearemos con train_test_split\n",
    "X=dataset.iloc[:, 0:78]\n",
    "X.head()"
   ]
  },
  {
   "cell_type": "code",
   "execution_count": 21,
   "metadata": {},
   "outputs": [
    {
     "data": {
      "text/plain": [
       "array([0, 0, 0, ..., 0, 0, 0])"
      ]
     },
     "execution_count": 21,
     "metadata": {},
     "output_type": "execute_result"
    }
   ],
   "source": [
    "from sklearn.preprocessing import LabelEncoder #para pasar a numeros\n",
    "lb_make = LabelEncoder()\n",
    "\n",
    "Y = lb_make.fit_transform(Y)\n",
    "Y"
   ]
  },
  {
   "cell_type": "code",
   "execution_count": 22,
   "metadata": {},
   "outputs": [
    {
     "data": {
      "text/plain": [
       "['Benign',\n",
       " 'Brute Force -Web',\n",
       " 'Brute Force -XSS',\n",
       " 'FTP-BruteForce',\n",
       " 'SQL Injection',\n",
       " 'SSH-Bruteforce']"
      ]
     },
     "execution_count": 22,
     "metadata": {},
     "output_type": "execute_result"
    }
   ],
   "source": [
    "Labels = lb_make.inverse_transform(Y)\n",
    "Labels = list(lb_make.classes_)\n",
    "Labels"
   ]
  },
  {
   "cell_type": "code",
   "execution_count": 23,
   "metadata": {},
   "outputs": [],
   "source": [
    "X_train, X_test, Y_train, Y_test = train_test_split(X, Y)"
   ]
  },
  {
   "cell_type": "code",
   "execution_count": 24,
   "metadata": {},
   "outputs": [],
   "source": [
    "#volvemos a copiar su codigo:\n",
    "scaler = Normalizer().fit(X_train) # Normalizamos los datos\n",
    "trainX = scaler.transform(X_train) # Asi se representan los datos\n",
    "\n",
    "scaler = Normalizer().fit(X_test)\n",
    "testT = scaler.transform(X_test)\n",
    "\n",
    "y_train1 = np.array(Y_train) # sirve para crear un array en numpy\n",
    "y_test1 = np.array(Y_test)\n",
    "\n",
    "\n",
    "y_train= to_categorical(y_train1) # para convertir los datos a clase binaria\n",
    "y_test= to_categorical(y_test1)"
   ]
  },
  {
   "cell_type": "code",
   "execution_count": 25,
   "metadata": {},
   "outputs": [],
   "source": [
    "# reshape input to be [samples, time steps, features]\n",
    "X_train = np.reshape(trainX, (trainX.shape[0],trainX.shape[1],1)) # cambias la forma de X_train para que sea del mismo tamaño que trainX\n",
    "X_test = np.reshape(testT, (testT.shape[0],testT.shape[1],1))"
   ]
  },
  {
   "cell_type": "code",
   "execution_count": 26,
   "metadata": {},
   "outputs": [],
   "source": [
    "#creamos la red neuronal\n",
    "\n",
    "model = Sequential()\n",
    "model.add(Convolution1D(64, 3, activation=\"relu\",input_shape=(78, 1), padding = 'same'))\n",
    "#######\n",
    "#   Añadimos la primera capa de Convolution1D, los diferentes parametros indican lo siguiente:\n",
    "#       64 --> numero de filtros\n",
    "#       3 --> tamaño del filtro (3,1)\n",
    "#       border_mode = \"same\" --> este parametro sirve para que el output sea del mismo tamaño que elinput\n",
    "#       activation = \"relu\" --> Tipo de funcion de activacion de neuronas que vamos a usar\n",
    "#       input_shape = (79, 1) --> tamaño de la entrada, hay 79 features\n",
    "#######\n",
    "model.add(Convolution1D(64, 3, activation=\"relu\", padding = 'same'))\n",
    "model.add(MaxPooling1D(pool_size=(2))) # capa donde se lleva a cabo el pooling, se queda con el maximo de cada 2\n",
    "model.add(Convolution1D(128, 3,  activation=\"relu\", padding = 'same'))\n",
    "model.add(Convolution1D(128, 3,  activation=\"relu\", padding = 'same'))\n",
    "model.add(MaxPooling1D(pool_size=(2)))\n",
    "model.add(Flatten())\n",
    "model.add(Dropout(0.1)) #\n",
    "model.add(Dense(len(Labels), activation=\"softmax\")) # capa fully conected para decision final, usamos softmax porque con ella los valores finales tienen mas relacion con los valores\n",
    "# anteriores y no solo con 1"
   ]
  },
  {
   "cell_type": "code",
   "execution_count": 27,
   "metadata": {},
   "outputs": [
    {
     "name": "stdout",
     "output_type": "stream",
     "text": [
      "Model: \"sequential_1\"\n",
      "_________________________________________________________________\n",
      "Layer (type)                 Output Shape              Param #   \n",
      "=================================================================\n",
      "conv1d_1 (Conv1D)            (None, 78, 64)            256       \n",
      "_________________________________________________________________\n",
      "conv1d_2 (Conv1D)            (None, 78, 64)            12352     \n",
      "_________________________________________________________________\n",
      "max_pooling1d_1 (MaxPooling1 (None, 39, 64)            0         \n",
      "_________________________________________________________________\n",
      "conv1d_3 (Conv1D)            (None, 39, 128)           24704     \n",
      "_________________________________________________________________\n",
      "conv1d_4 (Conv1D)            (None, 39, 128)           49280     \n",
      "_________________________________________________________________\n",
      "max_pooling1d_2 (MaxPooling1 (None, 19, 128)           0         \n",
      "_________________________________________________________________\n",
      "flatten_1 (Flatten)          (None, 2432)              0         \n",
      "_________________________________________________________________\n",
      "dropout_1 (Dropout)          (None, 2432)              0         \n",
      "_________________________________________________________________\n",
      "dense_1 (Dense)              (None, 6)                 14598     \n",
      "=================================================================\n",
      "Total params: 101,190\n",
      "Trainable params: 101,190\n",
      "Non-trainable params: 0\n",
      "_________________________________________________________________\n"
     ]
    }
   ],
   "source": [
    "model.summary()"
   ]
  },
  {
   "cell_type": "code",
   "execution_count": 28,
   "metadata": {},
   "outputs": [
    {
     "data": {
      "image/png": "[encoded data removed]",
      "text/plain": [
       "<PIL.Image.Image image mode=RGBA size=2302x600 at 0x25777FC1550>"
      ]
     },
     "execution_count": 28,
     "metadata": {},
     "output_type": "execute_result"
    }
   ],
   "source": [
    "import visualkeras\n",
    "\n",
    "visualkeras.layered_view(model,legend=True, spacing=200)"
   ]
  },
  {
   "cell_type": "code",
   "execution_count": 29,
   "metadata": {},
   "outputs": [],
   "source": [
    "# define optimizer and objective, compile cnn\n",
    "model.compile(loss=\"categorical_crossentropy\", optimizer=\"adam\",metrics=['accuracy']) # se compila la red neuronal con los siguientes parametros:\n",
    "######\n",
    "#   PARAMETROS:\n",
    "#       loss = \"categorical_crossentropy\" --> esta relacionado con la funcion softmax, se usa para dar una probabilidad sobre unas clases\n",
    "#       optimizer = \"adam\" --> Stochastic gradient descent\n",
    "#       metrics = 'accuracy' --> compara los resultados finales con los reales y de ahi saca las estadisticas\n",
    "######"
   ]
  },
  {
   "cell_type": "markdown",
   "metadata": {},
   "source": [
    "# TRAIN"
   ]
  },
  {
   "cell_type": "code",
   "execution_count": 30,
   "metadata": {},
   "outputs": [],
   "source": [
    "from keras.callbacks import ModelCheckpoint\n",
    "checkpointer = ModelCheckpoint(filepath=\"resultados/noLSTM/BruteForce/checkpoints/checkpoint-{epoch:02d}.hdf5\", verbose=1, save_best_only=True, monitor='accuracy',mode='max')\n",
    "######\n",
    "#   ModelCheckpoint se usa para guardar datos o pesos en algun momento de forma que estos puedan ser cargados o examinados en un futuro\n",
    "#   PARAMETROS:\n",
    "#       filepath --> direccion donde se va a guardar el archivo\n",
    "#       verbose = 1 --> para ver una barra de progreso de la operacion\n",
    "#       save_best_only = True --> se guarda solo si los datos son mejores que los anteriores, en este caso como la metrica de evaluacion de la red es accuracy se mide con eso\n",
    "#       monitor --> lo que hay que monitorear\n",
    "#       mode --> segun este parametro se tomara la decision de cuando sobreescribir y cuando no, en este caso como esta indicado max, se sobreescribe cuando el valor de monitor es mayor\n",
    "######"
   ]
  },
  {
   "cell_type": "code",
   "execution_count": 31,
   "metadata": {},
   "outputs": [],
   "source": [
    "csv_logger = CSVLogger('resultados/noLSTM/BruteForce/modeltrainanalysis15epochs.csv',separator=',', append=False)\n",
    "######\n",
    "#   CSVLogger sirve para guardar los datos en un fichero CSV\n",
    "#   PARAMETROS:\n",
    "#       filename --> nombre y direccion del archivo\n",
    "#       separator --> como se separan los resultados en el csv\n",
    "#       append = false --> con esta opcion se sobreescribe lo que hubiese en el archivo destino, si fuese \"True\" se concatenaria\n",
    "######"
   ]
  },
  {
   "cell_type": "code",
   "execution_count": 32,
   "metadata": {
    "scrolled": true
   },
   "outputs": [
    {
     "name": "stdout",
     "output_type": "stream",
     "text": [
      "Epoch 1/15\n",
      "1572862/1572862 [==============================] - 630s 401us/step - loss: 0.0067 - accuracy: 0.9985\n",
      "\n",
      "Epoch 00001: accuracy improved from -inf to 0.99850, saving model to resultados/noLSTM/BruteForce/checkpoints/checkpoint-01.hdf5\n",
      "Epoch 2/15\n",
      "1572862/1572862 [==============================] - 618s 393us/step - loss: 0.0029 - accuracy: 0.9996\n",
      "\n",
      "Epoch 00002: accuracy improved from 0.99850 to 0.99956, saving model to resultados/noLSTM/BruteForce/checkpoints/checkpoint-02.hdf5\n",
      "Epoch 3/15\n",
      "1572862/1572862 [==============================] - 617s 393us/step - loss: 0.0027 - accuracy: 0.9996\n",
      "\n",
      "Epoch 00003: accuracy improved from 0.99956 to 0.99958, saving model to resultados/noLSTM/BruteForce/checkpoints/checkpoint-03.hdf5\n",
      "Epoch 4/15\n",
      "1572862/1572862 [==============================] - 617s 392us/step - loss: 0.0026 - accuracy: 0.9996\n",
      "\n",
      "Epoch 00004: accuracy improved from 0.99958 to 0.99960, saving model to resultados/noLSTM/BruteForce/checkpoints/checkpoint-04.hdf5\n",
      "Epoch 5/15\n",
      "1572862/1572862 [==============================] - 615s 391us/step - loss: 0.0029 - accuracy: 0.9996\n",
      "\n",
      "Epoch 00005: accuracy improved from 0.99960 to 0.99961, saving model to resultados/noLSTM/BruteForce/checkpoints/checkpoint-05.hdf5\n",
      "Epoch 6/15\n",
      "1572862/1572862 [==============================] - 614s 391us/step - loss: 0.0026 - accuracy: 0.9996\n",
      "\n",
      "Epoch 00006: accuracy improved from 0.99961 to 0.99962, saving model to resultados/noLSTM/BruteForce/checkpoints/checkpoint-06.hdf5\n",
      "Epoch 7/15\n",
      "1572862/1572862 [==============================] - 614s 390us/step - loss: 0.0027 - accuracy: 0.9996\n",
      "\n",
      "Epoch 00007: accuracy did not improve from 0.99962\n",
      "Epoch 8/15\n",
      "1572862/1572862 [==============================] - 614s 391us/step - loss: 0.0025 - accuracy: 0.9996 - loss: 0.0025 - \n",
      "\n",
      "Epoch 00008: accuracy did not improve from 0.99962\n",
      "Epoch 9/15\n",
      "1572862/1572862 [==============================] - 616s 391us/step - loss: 0.0027 - accuracy: 0.9996\n",
      "\n",
      "Epoch 00009: accuracy did not improve from 0.99962\n",
      "Epoch 10/15\n",
      "1572862/1572862 [==============================] - 615s 391us/step - loss: 0.0028 - accuracy: 0.9996\n",
      "\n",
      "Epoch 00010: accuracy did not improve from 0.99962\n",
      "Epoch 11/15\n",
      "1572862/1572862 [==============================] - 614s 391us/step - loss: 0.0027 - accuracy: 0.9996\n",
      "\n",
      "Epoch 00011: accuracy did not improve from 0.99962\n",
      "Epoch 12/15\n",
      "1572862/1572862 [==============================] - 618s 393us/step - loss: 0.0029 - accuracy: 0.9996\n",
      "\n",
      "Epoch 00012: accuracy did not improve from 0.99962\n",
      "Epoch 13/15\n",
      "1572862/1572862 [==============================] - 619s 394us/step - loss: 0.0032 - accuracy: 0.9996\n",
      "\n",
      "Epoch 00013: accuracy did not improve from 0.99962\n",
      "Epoch 14/15\n",
      "1572862/1572862 [==============================] - 621s 395us/step - loss: 0.0030 - accuracy: 0.9996\n",
      "\n",
      "Epoch 00014: accuracy did not improve from 0.99962\n",
      "Epoch 15/15\n",
      "1572862/1572862 [==============================] - 618s 393us/step - loss: 0.0030 - accuracy: 0.9996\n",
      "\n",
      "Epoch 00015: accuracy did not improve from 0.99962\n"
     ]
    }
   ],
   "source": [
    "model.fit(X_train, y_train, epochs=15,callbacks=[checkpointer,csv_logger])\n",
    "######\n",
    "#   cnn.fit es la  instruccion con la que se entrena la red neuronal\n",
    "######\n",
    "model.save(\"resultados/noLSTM/BruteForce/saved_model.hdf5\")"
   ]
  },
  {
   "cell_type": "markdown",
   "metadata": {},
   "source": [
    "# Test"
   ]
  },
  {
   "cell_type": "code",
   "execution_count": 33,
   "metadata": {
    "scrolled": true
   },
   "outputs": [
    {
     "name": "stdout",
     "output_type": "stream",
     "text": [
      "524288/524288 [==============================] - 76s 144us/step\n",
      "\n",
      "Loss: 0.00, Accuracy: 99.964%\n"
     ]
    }
   ],
   "source": [
    "#Cargamos los resultados obtenidos en la etapa de train\n",
    "model.load_weights(\"resultados/noLSTM/BruteForce/checkpoints/checkpoint-06.hdf5\")\n",
    "\n",
    "#predecimos la naturaleza de los paquetes de test\n",
    "y_pred = model.predict_classes(X_test)\n",
    "\n",
    "np.savetxt('resultados/noLSTM/BruteForce/expected.txt', y_test1, fmt='%01d')\n",
    "np.savetxt('resultados/noLSTM/BruteForce/predicted.txt', y_pred, fmt='%01d')\n",
    "model.compile(loss='categorical_crossentropy',optimizer='adam',metrics=['accuracy'])\n",
    "loss, accuracy = model.evaluate(X_test, y_test)\n",
    "print(\"\\nLoss: %.2f, Accuracy: %.3f%%\" % (loss, accuracy*100))"
   ]
  },
  {
   "cell_type": "markdown",
   "metadata": {},
   "source": [
    "## Métricas de evaluación"
   ]
  },
  {
   "cell_type": "code",
   "execution_count": 34,
   "metadata": {},
   "outputs": [
    {
     "data": {
      "text/plain": [
       "Benign              1715839\n",
       "FTP-BruteForce       193360\n",
       "SSH-Bruteforce       187589\n",
       "Brute Force -Web        249\n",
       "Brute Force -XSS         79\n",
       "SQL Injection            34\n",
       "Name: Label, dtype: int64"
      ]
     },
     "execution_count": 34,
     "metadata": {},
     "output_type": "execute_result"
    }
   ],
   "source": [
    "dataset[\"Label\"].value_counts()"
   ]
  },
  {
   "cell_type": "code",
   "execution_count": 35,
   "metadata": {},
   "outputs": [
    {
     "name": "stderr",
     "output_type": "stream",
     "text": [
      "D:\\Program Files\\anaconda3\\envs\\NN\\lib\\site-packages\\sklearn\\metrics\\_classification.py:1221: UndefinedMetricWarning: Precision and F-score are ill-defined and being set to 0.0 in labels with no predicted samples. Use `zero_division` parameter to control this behavior.\n",
      "  _warn_prf(average, modifier, msg_start, len(result))\n"
     ]
    },
    {
     "name": "stdout",
     "output_type": "stream",
     "text": [
      "                  precision    recall  f1-score   support\n",
      "\n",
      "          Benign  0.99979488 0.99977857 0.99978673    429033\n",
      "Brute Force -Web  0.00000000 0.00000000 0.00000000        69\n",
      "Brute Force -XSS  1.00000000 0.83333333 0.90909091        18\n",
      "  FTP-BruteForce  0.99845003 0.99993791 0.99919341     48316\n",
      "   SQL Injection  0.00000000 0.00000000 0.00000000        10\n",
      "  SSH-Bruteforce  0.99946647 0.99980786 0.99963714     46842\n",
      "\n",
      "        accuracy                      0.99963951    524288\n",
      "       macro avg  0.66628523 0.63880961 0.65128470    524288\n",
      "    weighted avg  0.99949096 0.99963951 0.99956492    524288\n",
      "\n"
     ]
    }
   ],
   "source": [
    "from sklearn.metrics import classification_report\n",
    "\n",
    "print(classification_report(y_test1, y_pred,target_names=Labels, digits=8, zero_division= \"warn\"))"
   ]
  },
  {
   "cell_type": "markdown",
   "metadata": {},
   "source": [
    "# Representaciones\n",
    "----\n",
    "## Matriz de confusión"
   ]
  },
  {
   "cell_type": "code",
   "execution_count": 36,
   "metadata": {},
   "outputs": [
    {
     "data": {
      "text/plain": [
       "array([[428938,      1,      0,     70,      0,     24],\n",
       "       [    69,      0,      0,      0,      0,      0],\n",
       "       [     3,      0,     15,      0,      0,      0],\n",
       "       [     2,      0,      0,  48313,      0,      1],\n",
       "       [    10,      0,      0,      0,      0,      0],\n",
       "       [     4,      0,      0,      5,      0,  46833]], dtype=int64)"
      ]
     },
     "execution_count": 36,
     "metadata": {},
     "output_type": "execute_result"
    }
   ],
   "source": [
    "from sklearn.metrics import confusion_matrix\n",
    "confusion_matrix(y_test1, y_pred)"
   ]
  },
  {
   "cell_type": "code",
   "execution_count": 37,
   "metadata": {
    "scrolled": true
   },
   "outputs": [
    {
     "data": {
      "text/plain": [
       "array([[9.99778572e-01, 2.33082304e-06, 0.00000000e+00, 1.63157613e-04,\n",
       "        0.00000000e+00, 5.59397529e-05],\n",
       "       [1.00000000e+00, 0.00000000e+00, 0.00000000e+00, 0.00000000e+00,\n",
       "        0.00000000e+00, 0.00000000e+00],\n",
       "       [1.66666667e-01, 0.00000000e+00, 8.33333333e-01, 0.00000000e+00,\n",
       "        0.00000000e+00, 0.00000000e+00],\n",
       "       [4.13941551e-05, 0.00000000e+00, 0.00000000e+00, 9.99937909e-01,\n",
       "        0.00000000e+00, 2.06970776e-05],\n",
       "       [1.00000000e+00, 0.00000000e+00, 0.00000000e+00, 0.00000000e+00,\n",
       "        0.00000000e+00, 0.00000000e+00],\n",
       "       [8.53934503e-05, 0.00000000e+00, 0.00000000e+00, 1.06741813e-04,\n",
       "        0.00000000e+00, 9.99807865e-01]])"
      ]
     },
     "execution_count": 37,
     "metadata": {},
     "output_type": "execute_result"
    }
   ],
   "source": [
    "# Normalized confusion matrix\n",
    "confusion_matrix(y_test1, y_pred, normalize='true')"
   ]
  },
  {
   "cell_type": "code",
   "execution_count": 38,
   "metadata": {},
   "outputs": [],
   "source": [
    "Labels= np.asarray(Labels)"
   ]
  },
  {
   "cell_type": "code",
   "execution_count": 39,
   "metadata": {},
   "outputs": [],
   "source": [
    "y_test1_text = []\n",
    "for i in range(0, y_test1.size):\n",
    "    for j in range(0, Labels.size):\n",
    "        if y_test1[i] == j:\n",
    "            y_test1_text.append(Labels[j])"
   ]
  },
  {
   "cell_type": "code",
   "execution_count": 40,
   "metadata": {},
   "outputs": [],
   "source": [
    "y_pred_text = []\n",
    "for i in range(0, y_pred.size):\n",
    "    for j in range(0, Labels.size):\n",
    "        if y_pred[i] == j:\n",
    "            y_pred_text.append(Labels[j])"
   ]
  },
  {
   "cell_type": "code",
   "execution_count": 41,
   "metadata": {},
   "outputs": [
    {
     "data": {
      "text/plain": [
       "<AxesSubplot:title={'center':'Normalized Confusion Matrix'}, xlabel='Predicted label', ylabel='True label'>"
      ]
     },
     "execution_count": 41,
     "metadata": {},
     "output_type": "execute_result"
    },
    {
     "data": {
      "image/png": "[encoded data removed]",
      "text/plain": [
       "<Figure size 936x936 with 2 Axes>"
      ]
     },
     "metadata": {
      "needs_background": "light"
     },
     "output_type": "display_data"
    },
    {
     "data": {
      "image/png": "[encoded data removed]",
      "text/plain": [
       "<Figure size 936x936 with 2 Axes>"
      ]
     },
     "metadata": {
      "needs_background": "light"
     },
     "output_type": "display_data"
    }
   ],
   "source": [
    "import scikitplot as skplt\n",
    "\n",
    "skplt.metrics.plot_confusion_matrix(y_test1_text, y_pred_text, figsize= (13,13))\n",
    "skplt.metrics.plot_confusion_matrix(y_test1_text, y_pred_text, normalize= True, figsize= (13,13))"
   ]
  },
  {
   "cell_type": "markdown",
   "metadata": {},
   "source": [
    "## ROC"
   ]
  },
  {
   "cell_type": "code",
   "execution_count": null,
   "metadata": {},
   "outputs": [],
   "source": [
    "from sklearn.metrics import roc_curve\n",
    "import matplotlib as plt\n",
    "fpr_keras, tpr_keras, thresholds_keras = roc_curve(y_test1, y_pred)\n",
    "plt.plot(fpr_keras, tpr_keras, label='CNN + LSTM')\n",
    "plt.title('ROC curve')\n",
    "plt.ylabel('True Positive Rate')\n",
    "plt.xlabel('False Positive Rate')"
   ]
  },
  {
   "cell_type": "code",
   "execution_count": null,
   "metadata": {},
   "outputs": [],
   "source": []
  }
 ],
 "metadata": {
  "kernelspec": {
   "display_name": "Python 3",
   "language": "python",
   "name": "python3"
  },
  "language_info": {
   "codemirror_mode": {
    "name": "ipython",
    "version": 3
   },
   "file_extension": ".py",
   "mimetype": "text/x-python",
   "name": "python",
   "nbconvert_exporter": "python",
   "pygments_lexer": "ipython3",
   "version": "3.6.12"
  }
 },
 "nbformat": 4,
 "nbformat_minor": 4
}
