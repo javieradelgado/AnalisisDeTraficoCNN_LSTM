{
 "cells": [
  {
   "cell_type": "code",
   "execution_count": 1,
   "metadata": {
    "executionInfo": {
     "elapsed": 1212,
     "status": "ok",
     "timestamp": 1617011543819,
     "user": {
      "displayName": "aday delgado",
      "photoUrl": "",
      "userId": "07115409466503129402"
     },
     "user_tz": -120
    },
    "id": "5lUpcre8zXEC"
   },
   "outputs": [],
   "source": [
    "import multiprocessing\n",
    "from multiprocessing import Pool"
   ]
  },
  {
   "cell_type": "code",
   "execution_count": 2,
   "metadata": {
    "colab": {
     "base_uri": "https://localhost:8080/"
    },
    "executionInfo": {
     "elapsed": 1368,
     "status": "ok",
     "timestamp": 1617011546729,
     "user": {
      "displayName": "aday delgado",
      "photoUrl": "",
      "userId": "07115409466503129402"
     },
     "user_tz": -120
    },
    "id": "pg5SMlOHzXEH",
    "outputId": "62239a73-83c2-48b5-d576-e850b67d890f"
   },
   "outputs": [
    {
     "name": "stdout",
     "output_type": "stream",
     "text": [
      "Number of CPUs:  12\n"
     ]
    }
   ],
   "source": [
    "print(\"Number of CPUs: \", multiprocessing.cpu_count())"
   ]
  },
  {
   "cell_type": "code",
   "execution_count": 3,
   "metadata": {
    "executionInfo": {
     "elapsed": 1279,
     "status": "ok",
     "timestamp": 1617011548589,
     "user": {
      "displayName": "aday delgado",
      "photoUrl": "",
      "userId": "07115409466503129402"
     },
     "user_tz": -120
    },
    "id": "eIzToEUgzXEI"
   },
   "outputs": [],
   "source": [
    "def HelloWorld(n, x, y):\n",
    "    print(n)"
   ]
  },
  {
   "cell_type": "code",
   "execution_count": 4,
   "metadata": {
    "executionInfo": {
     "elapsed": 3604,
     "status": "ok",
     "timestamp": 1617011552658,
     "user": {
      "displayName": "aday delgado",
      "photoUrl": "",
      "userId": "07115409466503129402"
     },
     "user_tz": -120
    },
    "id": "Em9b9fk4zXEI",
    "scrolled": true
   },
   "outputs": [
    {
     "name": "stderr",
     "output_type": "stream",
     "text": [
      "Using TensorFlow backend.\n"
     ]
    }
   ],
   "source": [
    "from __future__ import print_function\n",
    "import numpy as np # Biblioteca de funciones matematicas de alto nivel\n",
    "np.random.seed(1337)  # for reproducibility\n",
    "import tensorflow as tf\n",
    "import keras\n",
    "import pandas"
   ]
  },
  {
   "cell_type": "code",
   "execution_count": 5,
   "metadata": {
    "executionInfo": {
     "elapsed": 595,
     "status": "ok",
     "timestamp": 1617011553968,
     "user": {
      "displayName": "aday delgado",
      "photoUrl": "",
      "userId": "07115409466503129402"
     },
     "user_tz": -120
    },
    "id": "GxUEgMsWzXEI"
   },
   "outputs": [],
   "source": [
    "from keras.preprocessing import sequence\n",
    "from keras.models import Sequential # necesario para poder generar la red neuronal\n",
    "from keras.layers import Dense, Dropout, Activation, Lambda # Tipos de capa, hacen lo siguiente:\n",
    "from keras.layers import Embedding\n",
    "from keras.layers import Convolution1D,MaxPooling1D, Flatten, LSTM\n",
    "from keras.callbacks import CSVLogger # para guardar los datos en un excel\n",
    "from keras.callbacks import ModelCheckpoint, EarlyStopping, ReduceLROnPlateau, CSVLogger"
   ]
  },
  {
   "cell_type": "markdown",
   "metadata": {
    "id": "0QwtrUZZzXEJ"
   },
   "source": [
    "### ESTAS SON LAS CAPAS MAS IMPORTANTES\n",
    "* **Dense**: La capa que mas se utiliza, de la siguiente manera ::  output = activation(dot(input, kernel)+bias) dot representa la operacion punto a punto de todos los inputs y sus correspondientes pesos\n",
    "* **Dropout**: Se usa para resolver el problema de over-fitting, se intenta eliminar el ruido en esta capa\n",
    "* **Activation**: capa de activacion\n",
    "* **Lambda**: sirve para transformar los datos de entrada usando una expresión o una función\n",
    "* **Embedding**: esta capa sirve para convertir a vectores de tamaño fijo\n",
    "* **Convolution1D**: capa donde se realiza la convolucion\n",
    "* **MaxPooling1D**: capa donde se realiza la operacion de pooling\n",
    "* **Flatten**: capa donde se realiza la operacion de flatten (se puede usar para poner los datos en 1 sola dimension)"
   ]
  },
  {
   "cell_type": "code",
   "execution_count": 6,
   "metadata": {
    "executionInfo": {
     "elapsed": 765,
     "status": "ok",
     "timestamp": 1617011558009,
     "user": {
      "displayName": "aday delgado",
      "photoUrl": "",
      "userId": "07115409466503129402"
     },
     "user_tz": -120
    },
    "id": "tW7j7u09zXEJ"
   },
   "outputs": [],
   "source": [
    "from keras.datasets import imdb # un dataset incluido en keras\n",
    "from keras import backend as K # importas el backend (Tensorflow, Theano, etc)\n",
    "import pandas as pd # pandas es una libreria extension de numpy usada para manipulacion y analisis de datos, para manipular tablas numericas y series temporales"
   ]
  },
  {
   "cell_type": "code",
   "execution_count": 7,
   "metadata": {
    "executionInfo": {
     "elapsed": 748,
     "status": "ok",
     "timestamp": 1617011559529,
     "user": {
      "displayName": "aday delgado",
      "photoUrl": "",
      "userId": "07115409466503129402"
     },
     "user_tz": -120
    },
    "id": "zg528UxGzXEJ"
   },
   "outputs": [],
   "source": [
    "from keras.utils.np_utils import to_categorical # sirve para convertir vectores de enteros a una matriz de clases binaria, por ejemplo:"
   ]
  },
  {
   "cell_type": "markdown",
   "metadata": {
    "id": "flU8YwoezXEJ"
   },
   "source": [
    " a = tf.keras.utils.to_categorical([0, 1, 2, 3], num_classes=4)\n",
    " \n",
    "                     [1, 0, 0, 0]\n",
    "                     [0, 1, 0, 0]\n",
    "                     [0, 0, 1, 0]\n",
    "                     [0, 0, 0, 1]"
   ]
  },
  {
   "cell_type": "code",
   "execution_count": 8,
   "metadata": {
    "executionInfo": {
     "elapsed": 667,
     "status": "ok",
     "timestamp": 1617011562625,
     "user": {
      "displayName": "aday delgado",
      "photoUrl": "",
      "userId": "07115409466503129402"
     },
     "user_tz": -120
    },
    "id": "4b3gpneFzXEK"
   },
   "outputs": [],
   "source": [
    "import h5py # para almacenar un monton de datos numericos y dar facilidades de manipulacion para datos de Numpy"
   ]
  },
  {
   "cell_type": "code",
   "execution_count": 9,
   "metadata": {
    "executionInfo": {
     "elapsed": 1485,
     "status": "ok",
     "timestamp": 1617011565666,
     "user": {
      "displayName": "aday delgado",
      "photoUrl": "",
      "userId": "07115409466503129402"
     },
     "user_tz": -120
    },
    "id": "dLfrSzKhzXEK"
   },
   "outputs": [],
   "source": [
    "from sklearn.preprocessing import Normalizer # Para normalizar los datos\n",
    "from sklearn.model_selection import train_test_split #para hacer la separacion entre datos de test y train\n",
    "from sklearn.preprocessing import OneHotEncoder #para convertir los datos de entrada"
   ]
  },
  {
   "cell_type": "code",
   "execution_count": 14,
   "metadata": {
    "colab": {
     "base_uri": "https://localhost:8080/"
    },
    "executionInfo": {
     "elapsed": 3767,
     "status": "ok",
     "timestamp": 1617011588783,
     "user": {
      "displayName": "aday delgado",
      "photoUrl": "",
      "userId": "07115409466503129402"
     },
     "user_tz": -120
    },
    "id": "KX5G2fiRzXEK",
    "outputId": "ef8c07e7-6ba2-4cb3-b2af-3554cdba6020",
    "scrolled": false
   },
   "outputs": [],
   "source": [
    "dataset = pd.read_csv('dataset/DoS/DoS_WITHOUT_Thuesday-20-02-2018.csv') # lectura de datos"
   ]
  },
  {
   "cell_type": "code",
   "execution_count": 15,
   "metadata": {},
   "outputs": [
    {
     "data": {
      "text/plain": [
       "array(['Benign', 'DoS attacks-SlowHTTPTest', 'DoS attacks-Hulk', 'Label',\n",
       "       'DoS attacks-GoldenEye', 'DoS attacks-Slowloris',\n",
       "       'DDOS attack-LOIC-UDP', 'DDOS attack-HOIC'], dtype=object)"
      ]
     },
     "execution_count": 15,
     "metadata": {},
     "output_type": "execute_result"
    }
   ],
   "source": [
    "dataset['Label'].unique()"
   ]
  },
  {
   "cell_type": "code",
   "execution_count": 11,
   "metadata": {
    "colab": {
     "base_uri": "https://localhost:8080/"
    },
    "executionInfo": {
     "elapsed": 825,
     "status": "ok",
     "timestamp": 1617011592082,
     "user": {
      "displayName": "aday delgado",
      "photoUrl": "",
      "userId": "07115409466503129402"
     },
     "user_tz": -120
    },
    "id": "Rjywqa7L0eFU",
    "outputId": "aaf1e5c1-f42c-422b-bce4-83273725cc5a"
   },
   "outputs": [
    {
     "data": {
      "text/plain": [
       "Benign           238037\n",
       "Infilteration     93063\n",
       "Label                25\n",
       "Name: Label, dtype: int64"
      ]
     },
     "execution_count": 11,
     "metadata": {},
     "output_type": "execute_result"
    }
   ],
   "source": [
    "dataset[\"Label\"].value_counts()"
   ]
  },
  {
   "cell_type": "code",
   "execution_count": 12,
   "metadata": {
    "colab": {
     "base_uri": "https://localhost:8080/"
    },
    "executionInfo": {
     "elapsed": 550,
     "status": "ok",
     "timestamp": 1617011593750,
     "user": {
      "displayName": "aday delgado",
      "photoUrl": "",
      "userId": "07115409466503129402"
     },
     "user_tz": -120
    },
    "id": "-fj25IdazXEK",
    "outputId": "7ad4c8bf-e42c-4a34-823b-f9c807da8504",
    "scrolled": true
   },
   "outputs": [
    {
     "data": {
      "text/plain": [
       "(331125, 80)"
      ]
     },
     "execution_count": 12,
     "metadata": {},
     "output_type": "execute_result"
    }
   ],
   "source": [
    "dataset.shape #comprobamos el tamaño"
   ]
  },
  {
   "cell_type": "code",
   "execution_count": 13,
   "metadata": {
    "executionInfo": {
     "elapsed": 962,
     "status": "ok",
     "timestamp": 1617011595359,
     "user": {
      "displayName": "aday delgado",
      "photoUrl": "",
      "userId": "07115409466503129402"
     },
     "user_tz": -120
    },
    "id": "C92YhdfVzXEK"
   },
   "outputs": [],
   "source": [
    "#Eliminamos los datos mal introducidos\n",
    "dataset = dataset.drop(dataset[dataset['Dst Port']=='Dst Port'].index)"
   ]
  },
  {
   "cell_type": "markdown",
   "metadata": {
    "id": "knU77CmjzXEL"
   },
   "source": [
    "## Eliminamos la columnaTimestamp"
   ]
  },
  {
   "cell_type": "code",
   "execution_count": 14,
   "metadata": {
    "executionInfo": {
     "elapsed": 1387,
     "status": "ok",
     "timestamp": 1617011597664,
     "user": {
      "displayName": "aday delgado",
      "photoUrl": "",
      "userId": "07115409466503129402"
     },
     "user_tz": -120
    },
    "id": "z1rMZY9ZzXEL"
   },
   "outputs": [],
   "source": [
    "#Eliminamos la columna\n",
    "dataset = dataset.drop(['Timestamp'], axis=1)"
   ]
  },
  {
   "cell_type": "code",
   "execution_count": 15,
   "metadata": {
    "colab": {
     "base_uri": "https://localhost:8080/"
    },
    "executionInfo": {
     "elapsed": 1636,
     "status": "ok",
     "timestamp": 1617011599932,
     "user": {
      "displayName": "aday delgado",
      "photoUrl": "",
      "userId": "07115409466503129402"
     },
     "user_tz": -120
    },
    "id": "lALBE-48zXEL",
    "outputId": "22f729d8-dcb1-4ccc-e480-d116d078b8d3",
    "scrolled": true
   },
   "outputs": [
    {
     "name": "stdout",
     "output_type": "stream",
     "text": [
      "<class 'pandas.core.frame.DataFrame'>\n",
      "Int64Index: 331100 entries, 0 to 331111\n",
      "Data columns (total 79 columns):\n",
      " #   Column             Non-Null Count   Dtype \n",
      "---  ------             --------------   ----- \n",
      " 0   Dst Port           331100 non-null  object\n",
      " 1   Protocol           331100 non-null  object\n",
      " 2   Flow Duration      331100 non-null  object\n",
      " 3   Tot Fwd Pkts       331100 non-null  object\n",
      " 4   Tot Bwd Pkts       331100 non-null  object\n",
      " 5   TotLen Fwd Pkts    331100 non-null  object\n",
      " 6   TotLen Bwd Pkts    331100 non-null  object\n",
      " 7   Fwd Pkt Len Max    331100 non-null  object\n",
      " 8   Fwd Pkt Len Min    331100 non-null  object\n",
      " 9   Fwd Pkt Len Mean   331100 non-null  object\n",
      " 10  Fwd Pkt Len Std    331100 non-null  object\n",
      " 11  Bwd Pkt Len Max    331100 non-null  object\n",
      " 12  Bwd Pkt Len Min    331100 non-null  object\n",
      " 13  Bwd Pkt Len Mean   331100 non-null  object\n",
      " 14  Bwd Pkt Len Std    331100 non-null  object\n",
      " 15  Flow Byts/s        329266 non-null  object\n",
      " 16  Flow Pkts/s        331100 non-null  object\n",
      " 17  Flow IAT Mean      331100 non-null  object\n",
      " 18  Flow IAT Std       331100 non-null  object\n",
      " 19  Flow IAT Max       331100 non-null  object\n",
      " 20  Flow IAT Min       331100 non-null  object\n",
      " 21  Fwd IAT Tot        331100 non-null  object\n",
      " 22  Fwd IAT Mean       331100 non-null  object\n",
      " 23  Fwd IAT Std        331100 non-null  object\n",
      " 24  Fwd IAT Max        331100 non-null  object\n",
      " 25  Fwd IAT Min        331100 non-null  object\n",
      " 26  Bwd IAT Tot        331100 non-null  object\n",
      " 27  Bwd IAT Mean       331100 non-null  object\n",
      " 28  Bwd IAT Std        331100 non-null  object\n",
      " 29  Bwd IAT Max        331100 non-null  object\n",
      " 30  Bwd IAT Min        331100 non-null  object\n",
      " 31  Fwd PSH Flags      331100 non-null  object\n",
      " 32  Bwd PSH Flags      331100 non-null  object\n",
      " 33  Fwd URG Flags      331100 non-null  object\n",
      " 34  Bwd URG Flags      331100 non-null  object\n",
      " 35  Fwd Header Len     331100 non-null  object\n",
      " 36  Bwd Header Len     331100 non-null  object\n",
      " 37  Fwd Pkts/s         331100 non-null  object\n",
      " 38  Bwd Pkts/s         331100 non-null  object\n",
      " 39  Pkt Len Min        331100 non-null  object\n",
      " 40  Pkt Len Max        331100 non-null  object\n",
      " 41  Pkt Len Mean       331100 non-null  object\n",
      " 42  Pkt Len Std        331100 non-null  object\n",
      " 43  Pkt Len Var        331100 non-null  object\n",
      " 44  FIN Flag Cnt       331100 non-null  object\n",
      " 45  SYN Flag Cnt       331100 non-null  object\n",
      " 46  RST Flag Cnt       331100 non-null  object\n",
      " 47  PSH Flag Cnt       331100 non-null  object\n",
      " 48  ACK Flag Cnt       331100 non-null  object\n",
      " 49  URG Flag Cnt       331100 non-null  object\n",
      " 50  CWE Flag Count     331100 non-null  object\n",
      " 51  ECE Flag Cnt       331100 non-null  object\n",
      " 52  Down/Up Ratio      331100 non-null  object\n",
      " 53  Pkt Size Avg       331100 non-null  object\n",
      " 54  Fwd Seg Size Avg   331100 non-null  object\n",
      " 55  Bwd Seg Size Avg   331100 non-null  object\n",
      " 56  Fwd Byts/b Avg     331100 non-null  object\n",
      " 57  Fwd Pkts/b Avg     331100 non-null  object\n",
      " 58  Fwd Blk Rate Avg   331100 non-null  object\n",
      " 59  Bwd Byts/b Avg     331100 non-null  object\n",
      " 60  Bwd Pkts/b Avg     331100 non-null  object\n",
      " 61  Bwd Blk Rate Avg   331100 non-null  object\n",
      " 62  Subflow Fwd Pkts   331100 non-null  object\n",
      " 63  Subflow Fwd Byts   331100 non-null  object\n",
      " 64  Subflow Bwd Pkts   331100 non-null  object\n",
      " 65  Subflow Bwd Byts   331100 non-null  object\n",
      " 66  Init Fwd Win Byts  331100 non-null  object\n",
      " 67  Init Bwd Win Byts  331100 non-null  object\n",
      " 68  Fwd Act Data Pkts  331100 non-null  object\n",
      " 69  Fwd Seg Size Min   331100 non-null  object\n",
      " 70  Active Mean        331100 non-null  object\n",
      " 71  Active Std         331100 non-null  object\n",
      " 72  Active Max         331100 non-null  object\n",
      " 73  Active Min         331100 non-null  object\n",
      " 74  Idle Mean          331100 non-null  object\n",
      " 75  Idle Std           331100 non-null  object\n",
      " 76  Idle Max           331100 non-null  object\n",
      " 77  Idle Min           331100 non-null  object\n",
      " 78  Label              331100 non-null  object\n",
      "dtypes: object(79)\n",
      "memory usage: 202.1+ MB\n"
     ]
    }
   ],
   "source": [
    "dataset.info(verbose=True)"
   ]
  },
  {
   "cell_type": "code",
   "execution_count": 16,
   "metadata": {
    "executionInfo": {
     "elapsed": 8825,
     "status": "ok",
     "timestamp": 1617011611574,
     "user": {
      "displayName": "aday delgado",
      "photoUrl": "",
      "userId": "07115409466503129402"
     },
     "user_tz": -120
    },
    "id": "WC29P5a4zXEL",
    "scrolled": true
   },
   "outputs": [],
   "source": [
    "n=0\n",
    "for column in dataset:\n",
    "    column\n",
    "    if column != 'Label':\n",
    "        dataset[column] = dataset[column].astype(float)"
   ]
  },
  {
   "cell_type": "code",
   "execution_count": 17,
   "metadata": {
    "colab": {
     "base_uri": "https://localhost:8080/"
    },
    "executionInfo": {
     "elapsed": 779,
     "status": "ok",
     "timestamp": 1617011615187,
     "user": {
      "displayName": "aday delgado",
      "photoUrl": "",
      "userId": "07115409466503129402"
     },
     "user_tz": -120
    },
    "id": "02ioBFSazXEL",
    "outputId": "e99640d1-5b57-4f2c-dbcf-32e8b7971070",
    "scrolled": true
   },
   "outputs": [
    {
     "name": "stdout",
     "output_type": "stream",
     "text": [
      "<class 'pandas.core.frame.DataFrame'>\n",
      "Int64Index: 331100 entries, 0 to 331111\n",
      "Data columns (total 79 columns):\n",
      " #   Column             Non-Null Count   Dtype  \n",
      "---  ------             --------------   -----  \n",
      " 0   Dst Port           331100 non-null  float64\n",
      " 1   Protocol           331100 non-null  float64\n",
      " 2   Flow Duration      331100 non-null  float64\n",
      " 3   Tot Fwd Pkts       331100 non-null  float64\n",
      " 4   Tot Bwd Pkts       331100 non-null  float64\n",
      " 5   TotLen Fwd Pkts    331100 non-null  float64\n",
      " 6   TotLen Bwd Pkts    331100 non-null  float64\n",
      " 7   Fwd Pkt Len Max    331100 non-null  float64\n",
      " 8   Fwd Pkt Len Min    331100 non-null  float64\n",
      " 9   Fwd Pkt Len Mean   331100 non-null  float64\n",
      " 10  Fwd Pkt Len Std    331100 non-null  float64\n",
      " 11  Bwd Pkt Len Max    331100 non-null  float64\n",
      " 12  Bwd Pkt Len Min    331100 non-null  float64\n",
      " 13  Bwd Pkt Len Mean   331100 non-null  float64\n",
      " 14  Bwd Pkt Len Std    331100 non-null  float64\n",
      " 15  Flow Byts/s        329266 non-null  float64\n",
      " 16  Flow Pkts/s        331100 non-null  float64\n",
      " 17  Flow IAT Mean      331100 non-null  float64\n",
      " 18  Flow IAT Std       331100 non-null  float64\n",
      " 19  Flow IAT Max       331100 non-null  float64\n",
      " 20  Flow IAT Min       331100 non-null  float64\n",
      " 21  Fwd IAT Tot        331100 non-null  float64\n",
      " 22  Fwd IAT Mean       331100 non-null  float64\n",
      " 23  Fwd IAT Std        331100 non-null  float64\n",
      " 24  Fwd IAT Max        331100 non-null  float64\n",
      " 25  Fwd IAT Min        331100 non-null  float64\n",
      " 26  Bwd IAT Tot        331100 non-null  float64\n",
      " 27  Bwd IAT Mean       331100 non-null  float64\n",
      " 28  Bwd IAT Std        331100 non-null  float64\n",
      " 29  Bwd IAT Max        331100 non-null  float64\n",
      " 30  Bwd IAT Min        331100 non-null  float64\n",
      " 31  Fwd PSH Flags      331100 non-null  float64\n",
      " 32  Bwd PSH Flags      331100 non-null  float64\n",
      " 33  Fwd URG Flags      331100 non-null  float64\n",
      " 34  Bwd URG Flags      331100 non-null  float64\n",
      " 35  Fwd Header Len     331100 non-null  float64\n",
      " 36  Bwd Header Len     331100 non-null  float64\n",
      " 37  Fwd Pkts/s         331100 non-null  float64\n",
      " 38  Bwd Pkts/s         331100 non-null  float64\n",
      " 39  Pkt Len Min        331100 non-null  float64\n",
      " 40  Pkt Len Max        331100 non-null  float64\n",
      " 41  Pkt Len Mean       331100 non-null  float64\n",
      " 42  Pkt Len Std        331100 non-null  float64\n",
      " 43  Pkt Len Var        331100 non-null  float64\n",
      " 44  FIN Flag Cnt       331100 non-null  float64\n",
      " 45  SYN Flag Cnt       331100 non-null  float64\n",
      " 46  RST Flag Cnt       331100 non-null  float64\n",
      " 47  PSH Flag Cnt       331100 non-null  float64\n",
      " 48  ACK Flag Cnt       331100 non-null  float64\n",
      " 49  URG Flag Cnt       331100 non-null  float64\n",
      " 50  CWE Flag Count     331100 non-null  float64\n",
      " 51  ECE Flag Cnt       331100 non-null  float64\n",
      " 52  Down/Up Ratio      331100 non-null  float64\n",
      " 53  Pkt Size Avg       331100 non-null  float64\n",
      " 54  Fwd Seg Size Avg   331100 non-null  float64\n",
      " 55  Bwd Seg Size Avg   331100 non-null  float64\n",
      " 56  Fwd Byts/b Avg     331100 non-null  float64\n",
      " 57  Fwd Pkts/b Avg     331100 non-null  float64\n",
      " 58  Fwd Blk Rate Avg   331100 non-null  float64\n",
      " 59  Bwd Byts/b Avg     331100 non-null  float64\n",
      " 60  Bwd Pkts/b Avg     331100 non-null  float64\n",
      " 61  Bwd Blk Rate Avg   331100 non-null  float64\n",
      " 62  Subflow Fwd Pkts   331100 non-null  float64\n",
      " 63  Subflow Fwd Byts   331100 non-null  float64\n",
      " 64  Subflow Bwd Pkts   331100 non-null  float64\n",
      " 65  Subflow Bwd Byts   331100 non-null  float64\n",
      " 66  Init Fwd Win Byts  331100 non-null  float64\n",
      " 67  Init Bwd Win Byts  331100 non-null  float64\n",
      " 68  Fwd Act Data Pkts  331100 non-null  float64\n",
      " 69  Fwd Seg Size Min   331100 non-null  float64\n",
      " 70  Active Mean        331100 non-null  float64\n",
      " 71  Active Std         331100 non-null  float64\n",
      " 72  Active Max         331100 non-null  float64\n",
      " 73  Active Min         331100 non-null  float64\n",
      " 74  Idle Mean          331100 non-null  float64\n",
      " 75  Idle Std           331100 non-null  float64\n",
      " 76  Idle Max           331100 non-null  float64\n",
      " 77  Idle Min           331100 non-null  float64\n",
      " 78  Label              331100 non-null  object \n",
      "dtypes: float64(78), object(1)\n",
      "memory usage: 202.1+ MB\n"
     ]
    }
   ],
   "source": [
    "dataset.info(verbose=True)"
   ]
  },
  {
   "cell_type": "code",
   "execution_count": 18,
   "metadata": {
    "colab": {
     "base_uri": "https://localhost:8080/"
    },
    "executionInfo": {
     "elapsed": 759,
     "status": "ok",
     "timestamp": 1617011620472,
     "user": {
      "displayName": "aday delgado",
      "photoUrl": "",
      "userId": "07115409466503129402"
     },
     "user_tz": -120
    },
    "id": "1_QLnn1ozXEM",
    "outputId": "e20dd05a-6ccb-4a10-e852-44c7c5d9139c"
   },
   "outputs": [
    {
     "data": {
      "text/plain": [
       "array(['Benign', 'Infilteration'], dtype=object)"
      ]
     },
     "execution_count": 18,
     "metadata": {},
     "output_type": "execute_result"
    }
   ],
   "source": [
    "#revisamos cuantos valores puede tener la ultima columna, osea, los tipos de flujo\n",
    "Labels = dataset['Label'].unique()\n",
    "Labels #para asignar nombres a las diferentes metricas en un futuro"
   ]
  },
  {
   "cell_type": "code",
   "execution_count": 19,
   "metadata": {
    "executionInfo": {
     "elapsed": 539,
     "status": "ok",
     "timestamp": 1617011622496,
     "user": {
      "displayName": "aday delgado",
      "photoUrl": "",
      "userId": "07115409466503129402"
     },
     "user_tz": -120
    },
    "id": "fX6TL3p7zXEM"
   },
   "outputs": [],
   "source": [
    "Y = dataset[\"Label\"]"
   ]
  },
  {
   "cell_type": "code",
   "execution_count": 20,
   "metadata": {
    "colab": {
     "base_uri": "https://localhost:8080/"
    },
    "executionInfo": {
     "elapsed": 774,
     "status": "ok",
     "timestamp": 1617011624388,
     "user": {
      "displayName": "aday delgado",
      "photoUrl": "",
      "userId": "07115409466503129402"
     },
     "user_tz": -120
    },
    "id": "44fHlHo3zXEM",
    "outputId": "88e8650a-4845-4154-d34b-4c1ea21146aa"
   },
   "outputs": [
    {
     "data": {
      "text/plain": [
       "Benign           238037\n",
       "Infilteration     93063\n",
       "Name: Label, dtype: int64"
      ]
     },
     "execution_count": 20,
     "metadata": {},
     "output_type": "execute_result"
    }
   ],
   "source": [
    "dataset[\"Label\"].value_counts()"
   ]
  },
  {
   "cell_type": "code",
   "execution_count": 21,
   "metadata": {
    "colab": {
     "base_uri": "https://localhost:8080/",
     "height": 275
    },
    "executionInfo": {
     "elapsed": 718,
     "status": "ok",
     "timestamp": 1617011627078,
     "user": {
      "displayName": "aday delgado",
      "photoUrl": "",
      "userId": "07115409466503129402"
     },
     "user_tz": -120
    },
    "id": "309RRgMjzXEM",
    "outputId": "0ad1d773-1fc2-4fdc-8df0-0dbcdb27a669",
    "scrolled": true
   },
   "outputs": [
    {
     "data": {
      "text/html": [
       "<div>\n",
       "<style scoped>\n",
       "    .dataframe tbody tr th:only-of-type {\n",
       "        vertical-align: middle;\n",
       "    }\n",
       "\n",
       "    .dataframe tbody tr th {\n",
       "        vertical-align: top;\n",
       "    }\n",
       "\n",
       "    .dataframe thead th {\n",
       "        text-align: right;\n",
       "    }\n",
       "</style>\n",
       "<table border=\"1\" class=\"dataframe\">\n",
       "  <thead>\n",
       "    <tr style=\"text-align: right;\">\n",
       "      <th></th>\n",
       "      <th>Dst Port</th>\n",
       "      <th>Protocol</th>\n",
       "      <th>Flow Duration</th>\n",
       "      <th>Tot Fwd Pkts</th>\n",
       "      <th>Tot Bwd Pkts</th>\n",
       "      <th>TotLen Fwd Pkts</th>\n",
       "      <th>TotLen Bwd Pkts</th>\n",
       "      <th>Fwd Pkt Len Max</th>\n",
       "      <th>Fwd Pkt Len Min</th>\n",
       "      <th>Fwd Pkt Len Mean</th>\n",
       "      <th>...</th>\n",
       "      <th>Fwd Seg Size Min</th>\n",
       "      <th>Active Mean</th>\n",
       "      <th>Active Std</th>\n",
       "      <th>Active Max</th>\n",
       "      <th>Active Min</th>\n",
       "      <th>Idle Mean</th>\n",
       "      <th>Idle Std</th>\n",
       "      <th>Idle Max</th>\n",
       "      <th>Idle Min</th>\n",
       "      <th>Label</th>\n",
       "    </tr>\n",
       "  </thead>\n",
       "  <tbody>\n",
       "    <tr>\n",
       "      <th>0</th>\n",
       "      <td>0.0</td>\n",
       "      <td>0.0</td>\n",
       "      <td>115307855.0</td>\n",
       "      <td>5.0</td>\n",
       "      <td>0.0</td>\n",
       "      <td>0.0</td>\n",
       "      <td>0.0</td>\n",
       "      <td>0.0</td>\n",
       "      <td>0.0</td>\n",
       "      <td>0.0</td>\n",
       "      <td>...</td>\n",
       "      <td>0.0</td>\n",
       "      <td>1812348.0</td>\n",
       "      <td>0.0</td>\n",
       "      <td>1812348.0</td>\n",
       "      <td>1812348.0</td>\n",
       "      <td>56700000.0</td>\n",
       "      <td>6.010058e+06</td>\n",
       "      <td>61000000.0</td>\n",
       "      <td>52500000.0</td>\n",
       "      <td>Benign</td>\n",
       "    </tr>\n",
       "    <tr>\n",
       "      <th>1</th>\n",
       "      <td>0.0</td>\n",
       "      <td>0.0</td>\n",
       "      <td>60997457.0</td>\n",
       "      <td>2.0</td>\n",
       "      <td>0.0</td>\n",
       "      <td>0.0</td>\n",
       "      <td>0.0</td>\n",
       "      <td>0.0</td>\n",
       "      <td>0.0</td>\n",
       "      <td>0.0</td>\n",
       "      <td>...</td>\n",
       "      <td>0.0</td>\n",
       "      <td>0.0</td>\n",
       "      <td>0.0</td>\n",
       "      <td>0.0</td>\n",
       "      <td>0.0</td>\n",
       "      <td>61000000.0</td>\n",
       "      <td>0.000000e+00</td>\n",
       "      <td>61000000.0</td>\n",
       "      <td>61000000.0</td>\n",
       "      <td>Benign</td>\n",
       "    </tr>\n",
       "    <tr>\n",
       "      <th>2</th>\n",
       "      <td>67.0</td>\n",
       "      <td>17.0</td>\n",
       "      <td>61149019.0</td>\n",
       "      <td>5.0</td>\n",
       "      <td>0.0</td>\n",
       "      <td>1500.0</td>\n",
       "      <td>0.0</td>\n",
       "      <td>300.0</td>\n",
       "      <td>300.0</td>\n",
       "      <td>300.0</td>\n",
       "      <td>...</td>\n",
       "      <td>8.0</td>\n",
       "      <td>3530939.0</td>\n",
       "      <td>0.0</td>\n",
       "      <td>3530939.0</td>\n",
       "      <td>3530939.0</td>\n",
       "      <td>19200000.0</td>\n",
       "      <td>1.250000e+07</td>\n",
       "      <td>32600000.0</td>\n",
       "      <td>7999725.0</td>\n",
       "      <td>Benign</td>\n",
       "    </tr>\n",
       "    <tr>\n",
       "      <th>3</th>\n",
       "      <td>0.0</td>\n",
       "      <td>0.0</td>\n",
       "      <td>60997555.0</td>\n",
       "      <td>2.0</td>\n",
       "      <td>0.0</td>\n",
       "      <td>0.0</td>\n",
       "      <td>0.0</td>\n",
       "      <td>0.0</td>\n",
       "      <td>0.0</td>\n",
       "      <td>0.0</td>\n",
       "      <td>...</td>\n",
       "      <td>0.0</td>\n",
       "      <td>0.0</td>\n",
       "      <td>0.0</td>\n",
       "      <td>0.0</td>\n",
       "      <td>0.0</td>\n",
       "      <td>61000000.0</td>\n",
       "      <td>0.000000e+00</td>\n",
       "      <td>61000000.0</td>\n",
       "      <td>61000000.0</td>\n",
       "      <td>Benign</td>\n",
       "    </tr>\n",
       "    <tr>\n",
       "      <th>4</th>\n",
       "      <td>0.0</td>\n",
       "      <td>0.0</td>\n",
       "      <td>61997503.0</td>\n",
       "      <td>3.0</td>\n",
       "      <td>0.0</td>\n",
       "      <td>0.0</td>\n",
       "      <td>0.0</td>\n",
       "      <td>0.0</td>\n",
       "      <td>0.0</td>\n",
       "      <td>0.0</td>\n",
       "      <td>...</td>\n",
       "      <td>0.0</td>\n",
       "      <td>999909.0</td>\n",
       "      <td>0.0</td>\n",
       "      <td>999909.0</td>\n",
       "      <td>999909.0</td>\n",
       "      <td>61000000.0</td>\n",
       "      <td>0.000000e+00</td>\n",
       "      <td>61000000.0</td>\n",
       "      <td>61000000.0</td>\n",
       "      <td>Benign</td>\n",
       "    </tr>\n",
       "  </tbody>\n",
       "</table>\n",
       "<p>5 rows × 79 columns</p>\n",
       "</div>"
      ],
      "text/plain": [
       "   Dst Port  Protocol  Flow Duration  Tot Fwd Pkts  Tot Bwd Pkts  \\\n",
       "0       0.0       0.0    115307855.0           5.0           0.0   \n",
       "1       0.0       0.0     60997457.0           2.0           0.0   \n",
       "2      67.0      17.0     61149019.0           5.0           0.0   \n",
       "3       0.0       0.0     60997555.0           2.0           0.0   \n",
       "4       0.0       0.0     61997503.0           3.0           0.0   \n",
       "\n",
       "   TotLen Fwd Pkts  TotLen Bwd Pkts  Fwd Pkt Len Max  Fwd Pkt Len Min  \\\n",
       "0              0.0              0.0              0.0              0.0   \n",
       "1              0.0              0.0              0.0              0.0   \n",
       "2           1500.0              0.0            300.0            300.0   \n",
       "3              0.0              0.0              0.0              0.0   \n",
       "4              0.0              0.0              0.0              0.0   \n",
       "\n",
       "   Fwd Pkt Len Mean  ...  Fwd Seg Size Min  Active Mean  Active Std  \\\n",
       "0               0.0  ...               0.0    1812348.0         0.0   \n",
       "1               0.0  ...               0.0          0.0         0.0   \n",
       "2             300.0  ...               8.0    3530939.0         0.0   \n",
       "3               0.0  ...               0.0          0.0         0.0   \n",
       "4               0.0  ...               0.0     999909.0         0.0   \n",
       "\n",
       "   Active Max  Active Min   Idle Mean      Idle Std    Idle Max    Idle Min  \\\n",
       "0   1812348.0   1812348.0  56700000.0  6.010058e+06  61000000.0  52500000.0   \n",
       "1         0.0         0.0  61000000.0  0.000000e+00  61000000.0  61000000.0   \n",
       "2   3530939.0   3530939.0  19200000.0  1.250000e+07  32600000.0   7999725.0   \n",
       "3         0.0         0.0  61000000.0  0.000000e+00  61000000.0  61000000.0   \n",
       "4    999909.0    999909.0  61000000.0  0.000000e+00  61000000.0  61000000.0   \n",
       "\n",
       "    Label  \n",
       "0  Benign  \n",
       "1  Benign  \n",
       "2  Benign  \n",
       "3  Benign  \n",
       "4  Benign  \n",
       "\n",
       "[5 rows x 79 columns]"
      ]
     },
     "execution_count": 21,
     "metadata": {},
     "output_type": "execute_result"
    }
   ],
   "source": [
    "# Replacing infinite and nan \n",
    "dataset.replace([np.inf, -np.inf], -1, inplace=True) \n",
    "dataset.replace([np.nan, -np.nan], -1, inplace=True)\n",
    "\n",
    "# Printing df \n",
    "dataset.head()"
   ]
  },
  {
   "cell_type": "code",
   "execution_count": 22,
   "metadata": {
    "colab": {
     "base_uri": "https://localhost:8080/"
    },
    "executionInfo": {
     "elapsed": 729,
     "status": "ok",
     "timestamp": 1617011630529,
     "user": {
      "displayName": "aday delgado",
      "photoUrl": "",
      "userId": "07115409466503129402"
     },
     "user_tz": -120
    },
    "id": "8Mv5OoDYzXEM",
    "outputId": "9f4450ec-dd71-4312-bf5c-75b0de1b43f6"
   },
   "outputs": [
    {
     "data": {
      "text/plain": [
       "Benign           238037\n",
       "Infilteration     93063\n",
       "Name: Label, dtype: int64"
      ]
     },
     "execution_count": 22,
     "metadata": {},
     "output_type": "execute_result"
    }
   ],
   "source": [
    "dataset[\"Label\"].value_counts()"
   ]
  },
  {
   "cell_type": "code",
   "execution_count": 23,
   "metadata": {
    "colab": {
     "base_uri": "https://localhost:8080/"
    },
    "executionInfo": {
     "elapsed": 725,
     "status": "ok",
     "timestamp": 1617011631965,
     "user": {
      "displayName": "aday delgado",
      "photoUrl": "",
      "userId": "07115409466503129402"
     },
     "user_tz": -120
    },
    "id": "E6gr9Wi8zXEM",
    "outputId": "45f1ede9-bbd2-4683-c55f-ed7c558873ad",
    "scrolled": true
   },
   "outputs": [
    {
     "data": {
      "text/plain": [
       "<bound method NDFrame.head of         Dst Port  Protocol  Flow Duration  Tot Fwd Pkts  Tot Bwd Pkts  \\\n",
       "0            0.0       0.0    115307855.0           5.0           0.0   \n",
       "1            0.0       0.0     60997457.0           2.0           0.0   \n",
       "2           67.0      17.0     61149019.0           5.0           0.0   \n",
       "3            0.0       0.0     60997555.0           2.0           0.0   \n",
       "4            0.0       0.0     61997503.0           3.0           0.0   \n",
       "...          ...       ...            ...           ...           ...   \n",
       "331107       0.0       0.0    118494070.0          31.0           0.0   \n",
       "331108    2634.0       6.0       114340.0           2.0           1.0   \n",
       "331109    3389.0       6.0      1404866.0           8.0           7.0   \n",
       "331110    3389.0       6.0      3966663.0          14.0           7.0   \n",
       "331111   53092.0       6.0     86637706.0           2.0           0.0   \n",
       "\n",
       "        TotLen Fwd Pkts  TotLen Bwd Pkts  Fwd Pkt Len Max  Fwd Pkt Len Min  \\\n",
       "0                   0.0              0.0              0.0              0.0   \n",
       "1                   0.0              0.0              0.0              0.0   \n",
       "2                1500.0              0.0            300.0            300.0   \n",
       "3                   0.0              0.0              0.0              0.0   \n",
       "4                   0.0              0.0              0.0              0.0   \n",
       "...                 ...              ...              ...              ...   \n",
       "331107              0.0              0.0              0.0              0.0   \n",
       "331108              0.0              0.0              0.0              0.0   \n",
       "331109           1132.0           1581.0            661.0              0.0   \n",
       "331110           1386.0            392.0            680.0              0.0   \n",
       "331111              0.0              0.0              0.0              0.0   \n",
       "\n",
       "        Fwd Pkt Len Mean  ...  Fwd Seg Size Min  Active Mean  Active Std  \\\n",
       "0                    0.0  ...               0.0    1812348.0         0.0   \n",
       "1                    0.0  ...               0.0          0.0         0.0   \n",
       "2                  300.0  ...               8.0    3530939.0         0.0   \n",
       "3                    0.0  ...               0.0          0.0         0.0   \n",
       "4                    0.0  ...               0.0     999909.0         0.0   \n",
       "...                  ...  ...               ...          ...         ...   \n",
       "331107               0.0  ...               0.0          0.0         0.0   \n",
       "331108               0.0  ...              20.0          0.0         0.0   \n",
       "331109             141.5  ...              20.0          0.0         0.0   \n",
       "331110              99.0  ...              20.0          0.0         0.0   \n",
       "331111               0.0  ...              20.0          0.0         0.0   \n",
       "\n",
       "        Active Max  Active Min   Idle Mean      Idle Std    Idle Max  \\\n",
       "0        1812348.0   1812348.0  56700000.0  6.010058e+06  61000000.0   \n",
       "1              0.0         0.0  61000000.0  0.000000e+00  61000000.0   \n",
       "2        3530939.0   3530939.0  19200000.0  1.250000e+07  32600000.0   \n",
       "3              0.0         0.0  61000000.0  0.000000e+00  61000000.0   \n",
       "4         999909.0    999909.0  61000000.0  0.000000e+00  61000000.0   \n",
       "...            ...         ...         ...           ...         ...   \n",
       "331107         0.0         0.0         0.0  0.000000e+00         0.0   \n",
       "331108         0.0         0.0         0.0  0.000000e+00         0.0   \n",
       "331109         0.0         0.0         0.0  0.000000e+00         0.0   \n",
       "331110         0.0         0.0         0.0  0.000000e+00         0.0   \n",
       "331111         0.0         0.0  86600000.0  0.000000e+00  86600000.0   \n",
       "\n",
       "          Idle Min   Label  \n",
       "0       52500000.0  Benign  \n",
       "1       61000000.0  Benign  \n",
       "2        7999725.0  Benign  \n",
       "3       61000000.0  Benign  \n",
       "4       61000000.0  Benign  \n",
       "...            ...     ...  \n",
       "331107         0.0  Benign  \n",
       "331108         0.0  Benign  \n",
       "331109         0.0  Benign  \n",
       "331110         0.0  Benign  \n",
       "331111  86600000.0  Benign  \n",
       "\n",
       "[331100 rows x 79 columns]>"
      ]
     },
     "execution_count": 23,
     "metadata": {},
     "output_type": "execute_result"
    }
   ],
   "source": [
    "dataset.head"
   ]
  },
  {
   "cell_type": "code",
   "execution_count": 24,
   "metadata": {
    "colab": {
     "base_uri": "https://localhost:8080/",
     "height": 275
    },
    "executionInfo": {
     "elapsed": 686,
     "status": "ok",
     "timestamp": 1617011634966,
     "user": {
      "displayName": "aday delgado",
      "photoUrl": "",
      "userId": "07115409466503129402"
     },
     "user_tz": -120
    },
    "id": "nUHRNWrSzXEN",
    "outputId": "550606dc-dfea-4d74-a4f2-732dfcc28d24",
    "scrolled": false
   },
   "outputs": [
    {
     "data": {
      "text/html": [
       "<div>\n",
       "<style scoped>\n",
       "    .dataframe tbody tr th:only-of-type {\n",
       "        vertical-align: middle;\n",
       "    }\n",
       "\n",
       "    .dataframe tbody tr th {\n",
       "        vertical-align: top;\n",
       "    }\n",
       "\n",
       "    .dataframe thead th {\n",
       "        text-align: right;\n",
       "    }\n",
       "</style>\n",
       "<table border=\"1\" class=\"dataframe\">\n",
       "  <thead>\n",
       "    <tr style=\"text-align: right;\">\n",
       "      <th></th>\n",
       "      <th>Dst Port</th>\n",
       "      <th>Protocol</th>\n",
       "      <th>Flow Duration</th>\n",
       "      <th>Tot Fwd Pkts</th>\n",
       "      <th>Tot Bwd Pkts</th>\n",
       "      <th>TotLen Fwd Pkts</th>\n",
       "      <th>TotLen Bwd Pkts</th>\n",
       "      <th>Fwd Pkt Len Max</th>\n",
       "      <th>Fwd Pkt Len Min</th>\n",
       "      <th>Fwd Pkt Len Mean</th>\n",
       "      <th>...</th>\n",
       "      <th>Fwd Act Data Pkts</th>\n",
       "      <th>Fwd Seg Size Min</th>\n",
       "      <th>Active Mean</th>\n",
       "      <th>Active Std</th>\n",
       "      <th>Active Max</th>\n",
       "      <th>Active Min</th>\n",
       "      <th>Idle Mean</th>\n",
       "      <th>Idle Std</th>\n",
       "      <th>Idle Max</th>\n",
       "      <th>Idle Min</th>\n",
       "    </tr>\n",
       "  </thead>\n",
       "  <tbody>\n",
       "    <tr>\n",
       "      <th>0</th>\n",
       "      <td>0.0</td>\n",
       "      <td>0.0</td>\n",
       "      <td>115307855.0</td>\n",
       "      <td>5.0</td>\n",
       "      <td>0.0</td>\n",
       "      <td>0.0</td>\n",
       "      <td>0.0</td>\n",
       "      <td>0.0</td>\n",
       "      <td>0.0</td>\n",
       "      <td>0.0</td>\n",
       "      <td>...</td>\n",
       "      <td>0.0</td>\n",
       "      <td>0.0</td>\n",
       "      <td>1812348.0</td>\n",
       "      <td>0.0</td>\n",
       "      <td>1812348.0</td>\n",
       "      <td>1812348.0</td>\n",
       "      <td>56700000.0</td>\n",
       "      <td>6.010058e+06</td>\n",
       "      <td>61000000.0</td>\n",
       "      <td>52500000.0</td>\n",
       "    </tr>\n",
       "    <tr>\n",
       "      <th>1</th>\n",
       "      <td>0.0</td>\n",
       "      <td>0.0</td>\n",
       "      <td>60997457.0</td>\n",
       "      <td>2.0</td>\n",
       "      <td>0.0</td>\n",
       "      <td>0.0</td>\n",
       "      <td>0.0</td>\n",
       "      <td>0.0</td>\n",
       "      <td>0.0</td>\n",
       "      <td>0.0</td>\n",
       "      <td>...</td>\n",
       "      <td>0.0</td>\n",
       "      <td>0.0</td>\n",
       "      <td>0.0</td>\n",
       "      <td>0.0</td>\n",
       "      <td>0.0</td>\n",
       "      <td>0.0</td>\n",
       "      <td>61000000.0</td>\n",
       "      <td>0.000000e+00</td>\n",
       "      <td>61000000.0</td>\n",
       "      <td>61000000.0</td>\n",
       "    </tr>\n",
       "    <tr>\n",
       "      <th>2</th>\n",
       "      <td>67.0</td>\n",
       "      <td>17.0</td>\n",
       "      <td>61149019.0</td>\n",
       "      <td>5.0</td>\n",
       "      <td>0.0</td>\n",
       "      <td>1500.0</td>\n",
       "      <td>0.0</td>\n",
       "      <td>300.0</td>\n",
       "      <td>300.0</td>\n",
       "      <td>300.0</td>\n",
       "      <td>...</td>\n",
       "      <td>4.0</td>\n",
       "      <td>8.0</td>\n",
       "      <td>3530939.0</td>\n",
       "      <td>0.0</td>\n",
       "      <td>3530939.0</td>\n",
       "      <td>3530939.0</td>\n",
       "      <td>19200000.0</td>\n",
       "      <td>1.250000e+07</td>\n",
       "      <td>32600000.0</td>\n",
       "      <td>7999725.0</td>\n",
       "    </tr>\n",
       "    <tr>\n",
       "      <th>3</th>\n",
       "      <td>0.0</td>\n",
       "      <td>0.0</td>\n",
       "      <td>60997555.0</td>\n",
       "      <td>2.0</td>\n",
       "      <td>0.0</td>\n",
       "      <td>0.0</td>\n",
       "      <td>0.0</td>\n",
       "      <td>0.0</td>\n",
       "      <td>0.0</td>\n",
       "      <td>0.0</td>\n",
       "      <td>...</td>\n",
       "      <td>0.0</td>\n",
       "      <td>0.0</td>\n",
       "      <td>0.0</td>\n",
       "      <td>0.0</td>\n",
       "      <td>0.0</td>\n",
       "      <td>0.0</td>\n",
       "      <td>61000000.0</td>\n",
       "      <td>0.000000e+00</td>\n",
       "      <td>61000000.0</td>\n",
       "      <td>61000000.0</td>\n",
       "    </tr>\n",
       "    <tr>\n",
       "      <th>4</th>\n",
       "      <td>0.0</td>\n",
       "      <td>0.0</td>\n",
       "      <td>61997503.0</td>\n",
       "      <td>3.0</td>\n",
       "      <td>0.0</td>\n",
       "      <td>0.0</td>\n",
       "      <td>0.0</td>\n",
       "      <td>0.0</td>\n",
       "      <td>0.0</td>\n",
       "      <td>0.0</td>\n",
       "      <td>...</td>\n",
       "      <td>0.0</td>\n",
       "      <td>0.0</td>\n",
       "      <td>999909.0</td>\n",
       "      <td>0.0</td>\n",
       "      <td>999909.0</td>\n",
       "      <td>999909.0</td>\n",
       "      <td>61000000.0</td>\n",
       "      <td>0.000000e+00</td>\n",
       "      <td>61000000.0</td>\n",
       "      <td>61000000.0</td>\n",
       "    </tr>\n",
       "  </tbody>\n",
       "</table>\n",
       "<p>5 rows × 78 columns</p>\n",
       "</div>"
      ],
      "text/plain": [
       "   Dst Port  Protocol  Flow Duration  Tot Fwd Pkts  Tot Bwd Pkts  \\\n",
       "0       0.0       0.0    115307855.0           5.0           0.0   \n",
       "1       0.0       0.0     60997457.0           2.0           0.0   \n",
       "2      67.0      17.0     61149019.0           5.0           0.0   \n",
       "3       0.0       0.0     60997555.0           2.0           0.0   \n",
       "4       0.0       0.0     61997503.0           3.0           0.0   \n",
       "\n",
       "   TotLen Fwd Pkts  TotLen Bwd Pkts  Fwd Pkt Len Max  Fwd Pkt Len Min  \\\n",
       "0              0.0              0.0              0.0              0.0   \n",
       "1              0.0              0.0              0.0              0.0   \n",
       "2           1500.0              0.0            300.0            300.0   \n",
       "3              0.0              0.0              0.0              0.0   \n",
       "4              0.0              0.0              0.0              0.0   \n",
       "\n",
       "   Fwd Pkt Len Mean  ...  Fwd Act Data Pkts  Fwd Seg Size Min  Active Mean  \\\n",
       "0               0.0  ...                0.0               0.0    1812348.0   \n",
       "1               0.0  ...                0.0               0.0          0.0   \n",
       "2             300.0  ...                4.0               8.0    3530939.0   \n",
       "3               0.0  ...                0.0               0.0          0.0   \n",
       "4               0.0  ...                0.0               0.0     999909.0   \n",
       "\n",
       "   Active Std  Active Max  Active Min   Idle Mean      Idle Std    Idle Max  \\\n",
       "0         0.0   1812348.0   1812348.0  56700000.0  6.010058e+06  61000000.0   \n",
       "1         0.0         0.0         0.0  61000000.0  0.000000e+00  61000000.0   \n",
       "2         0.0   3530939.0   3530939.0  19200000.0  1.250000e+07  32600000.0   \n",
       "3         0.0         0.0         0.0  61000000.0  0.000000e+00  61000000.0   \n",
       "4         0.0    999909.0    999909.0  61000000.0  0.000000e+00  61000000.0   \n",
       "\n",
       "     Idle Min  \n",
       "0  52500000.0  \n",
       "1  61000000.0  \n",
       "2   7999725.0  \n",
       "3  61000000.0  \n",
       "4  61000000.0  \n",
       "\n",
       "[5 rows x 78 columns]"
      ]
     },
     "execution_count": 24,
     "metadata": {},
     "output_type": "execute_result"
    }
   ],
   "source": [
    "#ahora que hemos conseguido transformar estas columnas a numeros, podemos empezar con la red neuronal\n",
    "#necesitamos un grupo de train y otro de test para la red neuronal, los crearemos con train_test_split\n",
    "X=dataset.iloc[:, 0:78]\n",
    "X.head()"
   ]
  },
  {
   "cell_type": "code",
   "execution_count": 25,
   "metadata": {
    "executionInfo": {
     "elapsed": 983,
     "status": "ok",
     "timestamp": 1617011637156,
     "user": {
      "displayName": "aday delgado",
      "photoUrl": "",
      "userId": "07115409466503129402"
     },
     "user_tz": -120
    },
    "id": "hC1vrOVqzXEN"
   },
   "outputs": [],
   "source": [
    "y_converted = []\n",
    "y_np= np.array(Y)\n",
    "for n in range(0,y_np.size):\n",
    "    for l in range(0,Labels.size):\n",
    "        if y_np[n] == Labels[l]:\n",
    "            y_converted.append(l)"
   ]
  },
  {
   "cell_type": "code",
   "execution_count": 26,
   "metadata": {
    "executionInfo": {
     "elapsed": 852,
     "status": "ok",
     "timestamp": 1617011639097,
     "user": {
      "displayName": "aday delgado",
      "photoUrl": "",
      "userId": "07115409466503129402"
     },
     "user_tz": -120
    },
    "id": "NQvR6BeDzXEN"
   },
   "outputs": [],
   "source": [
    "X_train, X_test, Y_train, Y_test = train_test_split(X, y_converted)"
   ]
  },
  {
   "cell_type": "code",
   "execution_count": 27,
   "metadata": {
    "executionInfo": {
     "elapsed": 897,
     "status": "ok",
     "timestamp": 1617011640999,
     "user": {
      "displayName": "aday delgado",
      "photoUrl": "",
      "userId": "07115409466503129402"
     },
     "user_tz": -120
    },
    "id": "RVnYDbWYzXEN"
   },
   "outputs": [],
   "source": [
    "#volvemos a copiar su codigo:\n",
    "scaler = Normalizer().fit(X_train) # Normalizamos los datos\n",
    "trainX = scaler.transform(X_train) # Asi se representan los datos\n",
    "\n",
    "scaler = Normalizer().fit(X_test)\n",
    "testT = scaler.transform(X_test)\n",
    "\n",
    "y_train1 = np.array(Y_train) # sirve para crear un array en numpy\n",
    "y_test1 = np.array(Y_test)\n",
    "\n",
    "\n",
    "y_train= to_categorical(y_train1) # para convertir los datos a clase binaria\n",
    "y_test= to_categorical(y_test1)"
   ]
  },
  {
   "cell_type": "code",
   "execution_count": 28,
   "metadata": {
    "executionInfo": {
     "elapsed": 673,
     "status": "ok",
     "timestamp": 1617011643934,
     "user": {
      "displayName": "aday delgado",
      "photoUrl": "",
      "userId": "07115409466503129402"
     },
     "user_tz": -120
    },
    "id": "FinWo4zlzXEN"
   },
   "outputs": [],
   "source": [
    "# reshape input to be [samples, time steps, features]\n",
    "X_train = np.reshape(trainX, (trainX.shape[0],trainX.shape[1],1)) # cambias la forma de X_train para que sea del mismo tamaño que trainX\n",
    "X_test = np.reshape(testT, (testT.shape[0],testT.shape[1],1))"
   ]
  },
  {
   "cell_type": "code",
   "execution_count": 29,
   "metadata": {
    "executionInfo": {
     "elapsed": 1048,
     "status": "ok",
     "timestamp": 1617011649549,
     "user": {
      "displayName": "aday delgado",
      "photoUrl": "",
      "userId": "07115409466503129402"
     },
     "user_tz": -120
    },
    "id": "IYPUXKF4zXEN"
   },
   "outputs": [],
   "source": [
    "#creamos la red neuronal\n",
    "lstm_output_size = 70\n",
    "\n",
    "Infilteration = Sequential()\n",
    "Infilteration.add(Convolution1D(64, 3, activation=\"relu\",input_shape=(78, 1), padding = 'same'))\n",
    "#######\n",
    "#   Añadimos la primera capa de Convolution1D, los diferentes parametros indican lo siguiente:\n",
    "#       64 --> numero de filtros\n",
    "#       3 --> tamaño del filtro (3,1)\n",
    "#       border_mode = \"same\" --> este parametro sirve para que el output sea del mismo tamaño que elinput\n",
    "#       activation = \"relu\" --> Tipo de funcion de activacion de neuronas que vamos a usar\n",
    "#       input_shape = (79, 1) --> tamaño de la entrada, hay 79 features\n",
    "#######\n",
    "Infilteration.add(Convolution1D(64, 3, activation=\"relu\", padding = 'same'))\n",
    "Infilteration.add(MaxPooling1D(pool_size=(2))) # capa donde se lleva a cabo el pooling, se queda con el maximo de cada 2\n",
    "Infilteration.add(Convolution1D(128, 3,  activation=\"relu\", padding = 'same'))\n",
    "Infilteration.add(Convolution1D(128, 3,  activation=\"relu\", padding = 'same'))\n",
    "Infilteration.add(MaxPooling1D(pool_size=(2)))\n",
    "Infilteration.add(LSTM(lstm_output_size)) # Se añade una LSTM como segunda red\n",
    "Infilteration.add(Dropout(0.1)) #\n",
    "Infilteration.add(Dense(2, activation=\"softmax\")) # capa fully conected para decision final, usamos softmax porque con ella los valores finales tienen mas relacion con los valores\n",
    "# anteriores y no solo con 1"
   ]
  },
  {
   "cell_type": "code",
   "execution_count": 30,
   "metadata": {
    "executionInfo": {
     "elapsed": 689,
     "status": "ok",
     "timestamp": 1617011653638,
     "user": {
      "displayName": "aday delgado",
      "photoUrl": "",
      "userId": "07115409466503129402"
     },
     "user_tz": -120
    },
    "id": "o8wEQG_cFdfE"
   },
   "outputs": [],
   "source": [
    "#creamos la red neuronal\n",
    "lstm_output_size = 70\n",
    "\n",
    "Bruteforce = Sequential()\n",
    "Bruteforce.add(Convolution1D(64, 3, activation=\"relu\",input_shape=(78, 1), padding = 'same'))\n",
    "#######\n",
    "#   Añadimos la primera capa de Convolution1D, los diferentes parametros indican lo siguiente:\n",
    "#       64 --> numero de filtros\n",
    "#       3 --> tamaño del filtro (3,1)\n",
    "#       border_mode = \"same\" --> este parametro sirve para que el output sea del mismo tamaño que elinput\n",
    "#       activation = \"relu\" --> Tipo de funcion de activacion de neuronas que vamos a usar\n",
    "#       input_shape = (79, 1) --> tamaño de la entrada, hay 79 features\n",
    "#######\n",
    "Bruteforce.add(Convolution1D(64, 3, activation=\"relu\", padding = 'same'))\n",
    "Bruteforce.add(MaxPooling1D(pool_size=(2))) # capa donde se lleva a cabo el pooling, se queda con el maximo de cada 2\n",
    "Bruteforce.add(Convolution1D(128, 3,  activation=\"relu\", padding = 'same'))\n",
    "Bruteforce.add(Convolution1D(128, 3,  activation=\"relu\", padding = 'same'))\n",
    "Bruteforce.add(MaxPooling1D(pool_size=(2)))\n",
    "Bruteforce.add(LSTM(lstm_output_size)) # Se añade una LSTM como segunda red\n",
    "Bruteforce.add(Dropout(0.1)) #\n",
    "Bruteforce.add(Dense(6, activation=\"softmax\")) # capa fully conected para decision final, usamos softmax porque con ella los valores finales tienen mas relacion con los valores\n",
    "# anteriores y no solo con 1"
   ]
  },
  {
   "cell_type": "code",
   "execution_count": 31,
   "metadata": {
    "colab": {
     "base_uri": "https://localhost:8080/",
     "height": 231
    },
    "executionInfo": {
     "elapsed": 685,
     "status": "error",
     "timestamp": 1617011658073,
     "user": {
      "displayName": "aday delgado",
      "photoUrl": "",
      "userId": "07115409466503129402"
     },
     "user_tz": -120
    },
    "id": "8dWW5iWnzXEP",
    "outputId": "7c23891e-003c-48a7-ae01-861d2485b6da"
   },
   "outputs": [],
   "source": [
    "# define optimizer and objective, compile cnn\n",
    "Infilteration.compile(loss=\"categorical_crossentropy\", optimizer=\"adam\",metrics=['accuracy']) # se compila la red neuronal con los siguientes parametros:\n",
    "Bruteforce.compile(loss=\"categorical_crossentropy\", optimizer=\"adam\",metrics=['accuracy']) # se compila la red neuronal con los siguientes parametros:\n",
    "######\n",
    "#   PARAMETROS:\n",
    "#       loss = \"categorical_crossentropy\" --> esta relacionado con la funcion softmax, se usa para dar una probabilidad sobre unas clases\n",
    "#       optimizer = \"adam\" --> Stochastic gradient descent\n",
    "#       metrics = 'accuracy' --> compara los resultados finales con los reales y de ahi saca las estadisticas\n",
    "######"
   ]
  },
  {
   "cell_type": "markdown",
   "metadata": {
    "id": "gQYGfyTPzXEQ"
   },
   "source": [
    "# TRAIN"
   ]
  },
  {
   "cell_type": "code",
   "execution_count": 35,
   "metadata": {
    "colab": {
     "base_uri": "https://localhost:8080/"
    },
    "executionInfo": {
     "elapsed": 386,
     "status": "ok",
     "timestamp": 1616237927369,
     "user": {
      "displayName": "aday delgado",
      "photoUrl": "",
      "userId": "07115409466503129402"
     },
     "user_tz": -60
    },
    "id": "_yOd-XztFLvE",
    "outputId": "73ae8611-8454-44aa-ea55-e7df0844fb4b"
   },
   "outputs": [
    {
     "name": "stdout",
     "output_type": "stream",
     "text": [
      "__main__\n"
     ]
    }
   ],
   "source": [
    "print(__name__)\n",
    "salidas = []"
   ]
  },
  {
   "cell_type": "code",
   "execution_count": 42,
   "metadata": {
    "executionInfo": {
     "elapsed": 680,
     "status": "ok",
     "timestamp": 1617015321312,
     "user": {
      "displayName": "aday delgado",
      "photoUrl": "",
      "userId": "07115409466503129402"
     },
     "user_tz": -120
    },
    "id": "uc8Rw-J34Nml"
   },
   "outputs": [],
   "source": [
    "def Prediccion(option, input_N, ruta):\n",
    "    print(\"hola\")\n",
    "    if (option==0):\n",
    "        #Cargamos los resultados obtenidos en la etapa de train\n",
    "        print(\"loading Infilteration weigths...\")\n",
    "        Infilteration.load_weights(ruta)    \n",
    "        print(\"Infilteration weigths loaded\") \n",
    "        #predecimos la naturaleza de los paquetes de test\n",
    "        y_pred_infilt = Infilteration.predict_classes(input_N)\n",
    "        print(\"Infilteration prediction: \\n\", y_pred_infilt)\n",
    "\n",
    "    elif(option==1):\n",
    "        #Cargamos los resultados obtenidos en la etapa de train\n",
    "        print(\"loading Bruteforce weigths...\")\n",
    "        Bruteforce.load_weights(ruta)\n",
    "        print(\"Bruteforce weigths loaded\")\n",
    "        #predecimos la naturaleza de los paquetes de test\n",
    "        y_pred_brute = Bruteforce.predict_classes(input_N)\n",
    "        print(\"Bruteforce prediction: \\n\", y_pred_brute)"
   ]
  },
  {
   "cell_type": "code",
   "execution_count": 49,
   "metadata": {
    "colab": {
     "base_uri": "https://localhost:8080/"
    },
    "id": "mF90K8XbNJGm",
    "outputId": "c98b1fdd-2174-45ca-9fbe-a916987752f3"
   },
   "outputs": [],
   "source": [
    "salidas =[]\n",
    "processes = []\n",
    "networks = [\"resultados/cuarto_entrenamiento/Infiteration/checkpoints/checkpoint-12.hdf5\", \"resultados/cuarto_entrenamiento/BruteForce/checkpoints/checkpoint-11.hdf5\"]\n",
    "input_NN= X_test[35:36]\n",
    "\n",
    "if __name__ == '__main__':\n",
    "    for i in range(2):\n",
    "        p = multiprocessing.Process(target=Prediccion,args=(i,input_NN, networks[i]))\n",
    "        p.start()\n",
    "        processes.append(p)\n",
    "\n",
    "    # Now you can wait for the networks to finish training before executing the \n",
    "    # rest of the script\n",
    "    for process in processes:\n",
    "        process.join()"
   ]
  },
  {
   "cell_type": "code",
   "execution_count": 50,
   "metadata": {
    "colab": {
     "base_uri": "https://localhost:8080/"
    },
    "executionInfo": {
     "elapsed": 676,
     "status": "ok",
     "timestamp": 1617014210296,
     "user": {
      "displayName": "aday delgado",
      "photoUrl": "",
      "userId": "07115409466503129402"
     },
     "user_tz": -120
    },
    "id": "qYo4Yg5M4NeG",
    "outputId": "1769ab83-8887-4054-e636-cbf82bca032c"
   },
   "outputs": [
    {
     "name": "stdout",
     "output_type": "stream",
     "text": [
      "[5 5 5 5 5]\n"
     ]
    }
   ],
   "source": [
    "\n",
    "print(y_pred_brute)"
   ]
  },
  {
   "cell_type": "code",
   "execution_count": null,
   "metadata": {
    "id": "R2C_S8VwzXEQ"
   },
   "outputs": [],
   "source": [
    "from keras.callbacks import ModelCheckpoint\n",
    "checkpointer = ModelCheckpoint(filepath=\"resultados/cuarto_entrenamiento/Infilteration/checkpoints/checkpoint-{epoch:02d}.hdf5\", verbose=1, save_best_only=True, monitor='accuracy',mode='max')\n",
    "######\n",
    "#   ModelCheckpoint se usa para guardar datos o pesos en algun momento de forma que estos puedan ser cargados o examinados en un futuro\n",
    "#   PARAMETROS:\n",
    "#       filepath --> direccion donde se va a guardar el archivo\n",
    "#       verbose = 1 --> para ver una barra de progreso de la operacion\n",
    "#       save_best_only = True --> se guarda solo si los datos son mejores que los anteriores, en este caso como la metrica de evaluacion de la red es accuracy se mide con eso\n",
    "#       monitor --> lo que hay que monitorear\n",
    "#       mode --> segun este parametro se tomara la decision de cuando sobreescribir y cuando no, en este caso como esta indicado max, se sobreescribe cuando el valor de monitor es mayor\n",
    "######"
   ]
  },
  {
   "cell_type": "code",
   "execution_count": null,
   "metadata": {
    "id": "IG4waUoyzXEQ"
   },
   "outputs": [],
   "source": [
    "csv_logger = CSVLogger('resultados/cuarto_entrenamiento/Infilteration/modeltrainanalysis15epochs.csv',separator=',', append=False)\n",
    "######\n",
    "#   CSVLogger sirve para guardar los datos en un fichero CSV\n",
    "#   PARAMETROS:\n",
    "#       filename --> nombre y direccion del archivo\n",
    "#       separator --> como se separan los resultados en el csv\n",
    "#       append = false --> con esta opcion se sobreescribe lo que hubiese en el archivo destino, si fuese \"True\" se concatenaria\n",
    "######"
   ]
  },
  {
   "cell_type": "code",
   "execution_count": null,
   "metadata": {
    "id": "-jOxoNthzXER",
    "outputId": "f3821c73-068d-4c5a-d768-21bd0abf1724",
    "scrolled": true
   },
   "outputs": [
    {
     "name": "stdout",
     "output_type": "stream",
     "text": [
      "Epoch 1/15\n",
      "708128/708128 [==============================] - 404s 570us/step - loss: 0.4490 - accuracy: 0.8287\n",
      "\n",
      "Epoch 00001: accuracy improved from -inf to 0.82866, saving model to resultados/cuarto_entrenamiento/Infilteration/checkpoints/checkpoint-01.hdf5\n",
      "Epoch 2/15\n",
      "708128/708128 [==============================] - 404s 571us/step - loss: 0.4437 - accuracy: 0.8287\n",
      "\n",
      "Epoch 00002: accuracy improved from 0.82866 to 0.82871, saving model to resultados/cuarto_entrenamiento/Infilteration/checkpoints/checkpoint-02.hdf5\n",
      "Epoch 3/15\n",
      "708128/708128 [==============================] - 405s 572us/step - loss: 0.4429 - accuracy: 0.8288\n",
      "\n",
      "Epoch 00003: accuracy improved from 0.82871 to 0.82879, saving model to resultados/cuarto_entrenamiento/Infilteration/checkpoints/checkpoint-03.hdf5\n",
      "Epoch 4/15\n",
      "708128/708128 [==============================] - 403s 569us/step - loss: 0.4421 - accuracy: 0.8287\n",
      "\n",
      "Epoch 00004: accuracy did not improve from 0.82879\n",
      "Epoch 5/15\n",
      "708128/708128 [==============================] - 403s 569us/step - loss: 0.4416 - accuracy: 0.8287\n",
      "\n",
      "Epoch 00005: accuracy did not improve from 0.82879\n",
      "Epoch 6/15\n",
      "708128/708128 [==============================] - 401s 567us/step - loss: 0.4414 - accuracy: 0.8288\n",
      "\n",
      "Epoch 00006: accuracy improved from 0.82879 to 0.82881, saving model to resultados/cuarto_entrenamiento/Infilteration/checkpoints/checkpoint-06.hdf5\n",
      "Epoch 7/15\n",
      "708128/708128 [==============================] - 402s 568us/step - loss: 0.4410 - accuracy: 0.8288\n",
      "\n",
      "Epoch 00007: accuracy did not improve from 0.82881\n",
      "Epoch 8/15\n",
      "708128/708128 [==============================] - 402s 567us/step - loss: 0.4406 - accuracy: 0.8287\n",
      "\n",
      "Epoch 00008: accuracy did not improve from 0.82881\n",
      "Epoch 9/15\n",
      "708128/708128 [==============================] - 402s 567us/step - loss: 0.4403 - accuracy: 0.8288\n",
      "\n",
      "Epoch 00009: accuracy improved from 0.82881 to 0.82885, saving model to resultados/cuarto_entrenamiento/Infilteration/checkpoints/checkpoint-09.hdf5\n",
      "Epoch 10/15\n",
      "708128/708128 [==============================] - 402s 567us/step - loss: 0.4402 - accuracy: 0.8288\n",
      "\n",
      "Epoch 00010: accuracy did not improve from 0.82885\n",
      "Epoch 11/15\n",
      "708128/708128 [==============================] - 402s 568us/step - loss: 0.4401 - accuracy: 0.8289\n",
      "\n",
      "Epoch 00011: accuracy improved from 0.82885 to 0.82887, saving model to resultados/cuarto_entrenamiento/Infilteration/checkpoints/checkpoint-11.hdf5\n",
      "Epoch 12/15\n",
      "708128/708128 [==============================] - 402s 567us/step - loss: 0.4399 - accuracy: 0.8289\n",
      "\n",
      "Epoch 00012: accuracy improved from 0.82887 to 0.82888, saving model to resultados/cuarto_entrenamiento/Infilteration/checkpoints/checkpoint-12.hdf5\n",
      "Epoch 13/15\n",
      "708128/708128 [==============================] - 402s 567us/step - loss: 0.4399 - accuracy: 0.8287\n",
      "\n",
      "Epoch 00013: accuracy did not improve from 0.82888\n",
      "Epoch 14/15\n",
      "708128/708128 [==============================] - 395s 558us/step - loss: 0.4397 - accuracy: 0.8288\n",
      "\n",
      "Epoch 00014: accuracy did not improve from 0.82888\n",
      "Epoch 15/15\n",
      "708128/708128 [==============================] - 392s 554us/step - loss: 0.4396 - accuracy: 0.8288\n",
      "\n",
      "Epoch 00015: accuracy did not improve from 0.82888\n"
     ]
    }
   ],
   "source": [
    "model.fit(X_train, y_train, epochs=15,callbacks=[checkpointer,csv_logger])\n",
    "######\n",
    "#   cnn.fit es la  instruccion con la que se entrena la red neuronal\n",
    "######\n",
    "model.save(\"resultados/cuarto_entrenamiento/Infilteration/saved_model.hdf5\")"
   ]
  },
  {
   "cell_type": "markdown",
   "metadata": {
    "id": "toXZqNTFzXER"
   },
   "source": [
    "# Test"
   ]
  },
  {
   "cell_type": "code",
   "execution_count": null,
   "metadata": {
    "colab": {
     "base_uri": "https://localhost:8080/"
    },
    "executionInfo": {
     "elapsed": 420,
     "status": "ok",
     "timestamp": 1616402676849,
     "user": {
      "displayName": "aday delgado",
      "photoUrl": "",
      "userId": "07115409466503129402"
     },
     "user_tz": -60
    },
    "id": "W1pnnJjzGxeD",
    "outputId": "b294f25a-6bff-43eb-fa56-10c96b96f7cf"
   },
   "outputs": [
    {
     "data": {
      "text/plain": [
       "78"
      ]
     },
     "execution_count": 41,
     "metadata": {
      "tags": []
     },
     "output_type": "execute_result"
    }
   ],
   "source": [
    "X_test[0].size"
   ]
  },
  {
   "cell_type": "code",
   "execution_count": null,
   "metadata": {
    "colab": {
     "base_uri": "https://localhost:8080/",
     "height": 748
    },
    "executionInfo": {
     "elapsed": 432,
     "status": "error",
     "timestamp": 1616402968084,
     "user": {
      "displayName": "aday delgado",
      "photoUrl": "",
      "userId": "07115409466503129402"
     },
     "user_tz": -60
    },
    "id": "pNZJAT7uzXER",
    "outputId": "90c492e2-37c6-4f8e-85d7-9dd7c91913d1",
    "scrolled": true
   },
   "outputs": [
    {
     "ename": "ValueError",
     "evalue": "ignored",
     "output_type": "error",
     "traceback": [
      "\u001b[0;31m---------------------------------------------------------------------------\u001b[0m",
      "\u001b[0;31mValueError\u001b[0m                                Traceback (most recent call last)",
      "\u001b[0;32m<ipython-input-43-f23444a13d81>\u001b[0m in \u001b[0;36m<module>\u001b[0;34m()\u001b[0m\n\u001b[1;32m      3\u001b[0m \u001b[0;34m\u001b[0m\u001b[0m\n\u001b[1;32m      4\u001b[0m \u001b[0;31m#predecimos la naturaleza de los paquetes de test\u001b[0m\u001b[0;34m\u001b[0m\u001b[0;34m\u001b[0m\u001b[0;34m\u001b[0m\u001b[0m\n\u001b[0;32m----> 5\u001b[0;31m \u001b[0my_pred\u001b[0m \u001b[0;34m=\u001b[0m \u001b[0mInfilteration\u001b[0m\u001b[0;34m.\u001b[0m\u001b[0mpredict\u001b[0m\u001b[0;34m(\u001b[0m\u001b[0;34m[\u001b[0m\u001b[0mX_test\u001b[0m\u001b[0;34m[\u001b[0m\u001b[0;36m0\u001b[0m\u001b[0;34m]\u001b[0m\u001b[0;34m,\u001b[0m \u001b[0mX_test\u001b[0m\u001b[0;34m[\u001b[0m\u001b[0;36m1\u001b[0m\u001b[0;34m]\u001b[0m\u001b[0;34m]\u001b[0m\u001b[0;34m)\u001b[0m\u001b[0;34m\u001b[0m\u001b[0;34m\u001b[0m\u001b[0m\n\u001b[0m\u001b[1;32m      6\u001b[0m \u001b[0;34m\u001b[0m\u001b[0m\n\u001b[1;32m      7\u001b[0m \u001b[0mprint\u001b[0m\u001b[0;34m(\u001b[0m\u001b[0my_pred\u001b[0m\u001b[0;34m)\u001b[0m\u001b[0;34m\u001b[0m\u001b[0;34m\u001b[0m\u001b[0m\n",
      "\u001b[0;32m/usr/local/lib/python3.7/dist-packages/tensorflow/python/keras/engine/training.py\u001b[0m in \u001b[0;36mpredict\u001b[0;34m(self, x, batch_size, verbose, steps, callbacks, max_queue_size, workers, use_multiprocessing)\u001b[0m\n\u001b[1;32m   1627\u001b[0m           \u001b[0;32mfor\u001b[0m \u001b[0mstep\u001b[0m \u001b[0;32min\u001b[0m \u001b[0mdata_handler\u001b[0m\u001b[0;34m.\u001b[0m\u001b[0msteps\u001b[0m\u001b[0;34m(\u001b[0m\u001b[0;34m)\u001b[0m\u001b[0;34m:\u001b[0m\u001b[0;34m\u001b[0m\u001b[0;34m\u001b[0m\u001b[0m\n\u001b[1;32m   1628\u001b[0m             \u001b[0mcallbacks\u001b[0m\u001b[0;34m.\u001b[0m\u001b[0mon_predict_batch_begin\u001b[0m\u001b[0;34m(\u001b[0m\u001b[0mstep\u001b[0m\u001b[0;34m)\u001b[0m\u001b[0;34m\u001b[0m\u001b[0;34m\u001b[0m\u001b[0m\n\u001b[0;32m-> 1629\u001b[0;31m             \u001b[0mtmp_batch_outputs\u001b[0m \u001b[0;34m=\u001b[0m \u001b[0mself\u001b[0m\u001b[0;34m.\u001b[0m\u001b[0mpredict_function\u001b[0m\u001b[0;34m(\u001b[0m\u001b[0miterator\u001b[0m\u001b[0;34m)\u001b[0m\u001b[0;34m\u001b[0m\u001b[0;34m\u001b[0m\u001b[0m\n\u001b[0m\u001b[1;32m   1630\u001b[0m             \u001b[0;32mif\u001b[0m \u001b[0mdata_handler\u001b[0m\u001b[0;34m.\u001b[0m\u001b[0mshould_sync\u001b[0m\u001b[0;34m:\u001b[0m\u001b[0;34m\u001b[0m\u001b[0;34m\u001b[0m\u001b[0m\n\u001b[1;32m   1631\u001b[0m               \u001b[0mcontext\u001b[0m\u001b[0;34m.\u001b[0m\u001b[0masync_wait\u001b[0m\u001b[0;34m(\u001b[0m\u001b[0;34m)\u001b[0m\u001b[0;34m\u001b[0m\u001b[0;34m\u001b[0m\u001b[0m\n",
      "\u001b[0;32m/usr/local/lib/python3.7/dist-packages/tensorflow/python/eager/def_function.py\u001b[0m in \u001b[0;36m__call__\u001b[0;34m(self, *args, **kwds)\u001b[0m\n\u001b[1;32m    826\u001b[0m     \u001b[0mtracing_count\u001b[0m \u001b[0;34m=\u001b[0m \u001b[0mself\u001b[0m\u001b[0;34m.\u001b[0m\u001b[0mexperimental_get_tracing_count\u001b[0m\u001b[0;34m(\u001b[0m\u001b[0;34m)\u001b[0m\u001b[0;34m\u001b[0m\u001b[0;34m\u001b[0m\u001b[0m\n\u001b[1;32m    827\u001b[0m     \u001b[0;32mwith\u001b[0m \u001b[0mtrace\u001b[0m\u001b[0;34m.\u001b[0m\u001b[0mTrace\u001b[0m\u001b[0;34m(\u001b[0m\u001b[0mself\u001b[0m\u001b[0;34m.\u001b[0m\u001b[0m_name\u001b[0m\u001b[0;34m)\u001b[0m \u001b[0;32mas\u001b[0m \u001b[0mtm\u001b[0m\u001b[0;34m:\u001b[0m\u001b[0;34m\u001b[0m\u001b[0;34m\u001b[0m\u001b[0m\n\u001b[0;32m--> 828\u001b[0;31m       \u001b[0mresult\u001b[0m \u001b[0;34m=\u001b[0m \u001b[0mself\u001b[0m\u001b[0;34m.\u001b[0m\u001b[0m_call\u001b[0m\u001b[0;34m(\u001b[0m\u001b[0;34m*\u001b[0m\u001b[0margs\u001b[0m\u001b[0;34m,\u001b[0m \u001b[0;34m**\u001b[0m\u001b[0mkwds\u001b[0m\u001b[0;34m)\u001b[0m\u001b[0;34m\u001b[0m\u001b[0;34m\u001b[0m\u001b[0m\n\u001b[0m\u001b[1;32m    829\u001b[0m       \u001b[0mcompiler\u001b[0m \u001b[0;34m=\u001b[0m \u001b[0;34m\"xla\"\u001b[0m \u001b[0;32mif\u001b[0m \u001b[0mself\u001b[0m\u001b[0;34m.\u001b[0m\u001b[0m_experimental_compile\u001b[0m \u001b[0;32melse\u001b[0m \u001b[0;34m\"nonXla\"\u001b[0m\u001b[0;34m\u001b[0m\u001b[0;34m\u001b[0m\u001b[0m\n\u001b[1;32m    830\u001b[0m       \u001b[0mnew_tracing_count\u001b[0m \u001b[0;34m=\u001b[0m \u001b[0mself\u001b[0m\u001b[0;34m.\u001b[0m\u001b[0mexperimental_get_tracing_count\u001b[0m\u001b[0;34m(\u001b[0m\u001b[0;34m)\u001b[0m\u001b[0;34m\u001b[0m\u001b[0;34m\u001b[0m\u001b[0m\n",
      "\u001b[0;32m/usr/local/lib/python3.7/dist-packages/tensorflow/python/eager/def_function.py\u001b[0m in \u001b[0;36m_call\u001b[0;34m(self, *args, **kwds)\u001b[0m\n\u001b[1;32m    860\u001b[0m       \u001b[0;31m# In this case we have not created variables on the first call. So we can\u001b[0m\u001b[0;34m\u001b[0m\u001b[0;34m\u001b[0m\u001b[0;34m\u001b[0m\u001b[0m\n\u001b[1;32m    861\u001b[0m       \u001b[0;31m# run the first trace but we should fail if variables are created.\u001b[0m\u001b[0;34m\u001b[0m\u001b[0;34m\u001b[0m\u001b[0;34m\u001b[0m\u001b[0m\n\u001b[0;32m--> 862\u001b[0;31m       \u001b[0mresults\u001b[0m \u001b[0;34m=\u001b[0m \u001b[0mself\u001b[0m\u001b[0;34m.\u001b[0m\u001b[0m_stateful_fn\u001b[0m\u001b[0;34m(\u001b[0m\u001b[0;34m*\u001b[0m\u001b[0margs\u001b[0m\u001b[0;34m,\u001b[0m \u001b[0;34m**\u001b[0m\u001b[0mkwds\u001b[0m\u001b[0;34m)\u001b[0m\u001b[0;34m\u001b[0m\u001b[0;34m\u001b[0m\u001b[0m\n\u001b[0m\u001b[1;32m    863\u001b[0m       \u001b[0;32mif\u001b[0m \u001b[0mself\u001b[0m\u001b[0;34m.\u001b[0m\u001b[0m_created_variables\u001b[0m\u001b[0;34m:\u001b[0m\u001b[0;34m\u001b[0m\u001b[0;34m\u001b[0m\u001b[0m\n\u001b[1;32m    864\u001b[0m         raise ValueError(\"Creating variables on a non-first call to a function\"\n",
      "\u001b[0;32m/usr/local/lib/python3.7/dist-packages/tensorflow/python/eager/function.py\u001b[0m in \u001b[0;36m__call__\u001b[0;34m(self, *args, **kwargs)\u001b[0m\n\u001b[1;32m   2939\u001b[0m     \u001b[0;32mwith\u001b[0m \u001b[0mself\u001b[0m\u001b[0;34m.\u001b[0m\u001b[0m_lock\u001b[0m\u001b[0;34m:\u001b[0m\u001b[0;34m\u001b[0m\u001b[0;34m\u001b[0m\u001b[0m\n\u001b[1;32m   2940\u001b[0m       (graph_function,\n\u001b[0;32m-> 2941\u001b[0;31m        filtered_flat_args) = self._maybe_define_function(args, kwargs)\n\u001b[0m\u001b[1;32m   2942\u001b[0m     return graph_function._call_flat(\n\u001b[1;32m   2943\u001b[0m         filtered_flat_args, captured_inputs=graph_function.captured_inputs)  # pylint: disable=protected-access\n",
      "\u001b[0;32m/usr/local/lib/python3.7/dist-packages/tensorflow/python/eager/function.py\u001b[0m in \u001b[0;36m_maybe_define_function\u001b[0;34m(self, args, kwargs)\u001b[0m\n\u001b[1;32m   3356\u001b[0m               call_context_key in self._function_cache.missed):\n\u001b[1;32m   3357\u001b[0m             return self._define_function_with_shape_relaxation(\n\u001b[0;32m-> 3358\u001b[0;31m                 args, kwargs, flat_args, filtered_flat_args, cache_key_context)\n\u001b[0m\u001b[1;32m   3359\u001b[0m \u001b[0;34m\u001b[0m\u001b[0m\n\u001b[1;32m   3360\u001b[0m           \u001b[0mself\u001b[0m\u001b[0;34m.\u001b[0m\u001b[0m_function_cache\u001b[0m\u001b[0;34m.\u001b[0m\u001b[0mmissed\u001b[0m\u001b[0;34m.\u001b[0m\u001b[0madd\u001b[0m\u001b[0;34m(\u001b[0m\u001b[0mcall_context_key\u001b[0m\u001b[0;34m)\u001b[0m\u001b[0;34m\u001b[0m\u001b[0;34m\u001b[0m\u001b[0m\n",
      "\u001b[0;32m/usr/local/lib/python3.7/dist-packages/tensorflow/python/eager/function.py\u001b[0m in \u001b[0;36m_define_function_with_shape_relaxation\u001b[0;34m(self, args, kwargs, flat_args, filtered_flat_args, cache_key_context)\u001b[0m\n\u001b[1;32m   3278\u001b[0m \u001b[0;34m\u001b[0m\u001b[0m\n\u001b[1;32m   3279\u001b[0m     graph_function = self._create_graph_function(\n\u001b[0;32m-> 3280\u001b[0;31m         args, kwargs, override_flat_arg_shapes=relaxed_arg_shapes)\n\u001b[0m\u001b[1;32m   3281\u001b[0m     \u001b[0mself\u001b[0m\u001b[0;34m.\u001b[0m\u001b[0m_function_cache\u001b[0m\u001b[0;34m.\u001b[0m\u001b[0marg_relaxed\u001b[0m\u001b[0;34m[\u001b[0m\u001b[0mrank_only_cache_key\u001b[0m\u001b[0;34m]\u001b[0m \u001b[0;34m=\u001b[0m \u001b[0mgraph_function\u001b[0m\u001b[0;34m\u001b[0m\u001b[0;34m\u001b[0m\u001b[0m\n\u001b[1;32m   3282\u001b[0m \u001b[0;34m\u001b[0m\u001b[0m\n",
      "\u001b[0;32m/usr/local/lib/python3.7/dist-packages/tensorflow/python/eager/function.py\u001b[0m in \u001b[0;36m_create_graph_function\u001b[0;34m(self, args, kwargs, override_flat_arg_shapes)\u001b[0m\n\u001b[1;32m   3204\u001b[0m             \u001b[0marg_names\u001b[0m\u001b[0;34m=\u001b[0m\u001b[0marg_names\u001b[0m\u001b[0;34m,\u001b[0m\u001b[0;34m\u001b[0m\u001b[0;34m\u001b[0m\u001b[0m\n\u001b[1;32m   3205\u001b[0m             \u001b[0moverride_flat_arg_shapes\u001b[0m\u001b[0;34m=\u001b[0m\u001b[0moverride_flat_arg_shapes\u001b[0m\u001b[0;34m,\u001b[0m\u001b[0;34m\u001b[0m\u001b[0;34m\u001b[0m\u001b[0m\n\u001b[0;32m-> 3206\u001b[0;31m             capture_by_value=self._capture_by_value),\n\u001b[0m\u001b[1;32m   3207\u001b[0m         \u001b[0mself\u001b[0m\u001b[0;34m.\u001b[0m\u001b[0m_function_attributes\u001b[0m\u001b[0;34m,\u001b[0m\u001b[0;34m\u001b[0m\u001b[0;34m\u001b[0m\u001b[0m\n\u001b[1;32m   3208\u001b[0m         \u001b[0mfunction_spec\u001b[0m\u001b[0;34m=\u001b[0m\u001b[0mself\u001b[0m\u001b[0;34m.\u001b[0m\u001b[0mfunction_spec\u001b[0m\u001b[0;34m,\u001b[0m\u001b[0;34m\u001b[0m\u001b[0;34m\u001b[0m\u001b[0m\n",
      "\u001b[0;32m/usr/local/lib/python3.7/dist-packages/tensorflow/python/framework/func_graph.py\u001b[0m in \u001b[0;36mfunc_graph_from_py_func\u001b[0;34m(name, python_func, args, kwargs, signature, func_graph, autograph, autograph_options, add_control_dependencies, arg_names, op_return_value, collections, capture_by_value, override_flat_arg_shapes)\u001b[0m\n\u001b[1;32m    988\u001b[0m         \u001b[0m_\u001b[0m\u001b[0;34m,\u001b[0m \u001b[0moriginal_func\u001b[0m \u001b[0;34m=\u001b[0m \u001b[0mtf_decorator\u001b[0m\u001b[0;34m.\u001b[0m\u001b[0munwrap\u001b[0m\u001b[0;34m(\u001b[0m\u001b[0mpython_func\u001b[0m\u001b[0;34m)\u001b[0m\u001b[0;34m\u001b[0m\u001b[0;34m\u001b[0m\u001b[0m\n\u001b[1;32m    989\u001b[0m \u001b[0;34m\u001b[0m\u001b[0m\n\u001b[0;32m--> 990\u001b[0;31m       \u001b[0mfunc_outputs\u001b[0m \u001b[0;34m=\u001b[0m \u001b[0mpython_func\u001b[0m\u001b[0;34m(\u001b[0m\u001b[0;34m*\u001b[0m\u001b[0mfunc_args\u001b[0m\u001b[0;34m,\u001b[0m \u001b[0;34m**\u001b[0m\u001b[0mfunc_kwargs\u001b[0m\u001b[0;34m)\u001b[0m\u001b[0;34m\u001b[0m\u001b[0;34m\u001b[0m\u001b[0m\n\u001b[0m\u001b[1;32m    991\u001b[0m \u001b[0;34m\u001b[0m\u001b[0m\n\u001b[1;32m    992\u001b[0m       \u001b[0;31m# invariant: `func_outputs` contains only Tensors, CompositeTensors,\u001b[0m\u001b[0;34m\u001b[0m\u001b[0;34m\u001b[0m\u001b[0;34m\u001b[0m\u001b[0m\n",
      "\u001b[0;32m/usr/local/lib/python3.7/dist-packages/tensorflow/python/eager/def_function.py\u001b[0m in \u001b[0;36mwrapped_fn\u001b[0;34m(*args, **kwds)\u001b[0m\n\u001b[1;32m    632\u001b[0m             \u001b[0mxla_context\u001b[0m\u001b[0;34m.\u001b[0m\u001b[0mExit\u001b[0m\u001b[0;34m(\u001b[0m\u001b[0;34m)\u001b[0m\u001b[0;34m\u001b[0m\u001b[0;34m\u001b[0m\u001b[0m\n\u001b[1;32m    633\u001b[0m         \u001b[0;32melse\u001b[0m\u001b[0;34m:\u001b[0m\u001b[0;34m\u001b[0m\u001b[0;34m\u001b[0m\u001b[0m\n\u001b[0;32m--> 634\u001b[0;31m           \u001b[0mout\u001b[0m \u001b[0;34m=\u001b[0m \u001b[0mweak_wrapped_fn\u001b[0m\u001b[0;34m(\u001b[0m\u001b[0;34m)\u001b[0m\u001b[0;34m.\u001b[0m\u001b[0m__wrapped__\u001b[0m\u001b[0;34m(\u001b[0m\u001b[0;34m*\u001b[0m\u001b[0margs\u001b[0m\u001b[0;34m,\u001b[0m \u001b[0;34m**\u001b[0m\u001b[0mkwds\u001b[0m\u001b[0;34m)\u001b[0m\u001b[0;34m\u001b[0m\u001b[0;34m\u001b[0m\u001b[0m\n\u001b[0m\u001b[1;32m    635\u001b[0m         \u001b[0;32mreturn\u001b[0m \u001b[0mout\u001b[0m\u001b[0;34m\u001b[0m\u001b[0;34m\u001b[0m\u001b[0m\n\u001b[1;32m    636\u001b[0m \u001b[0;34m\u001b[0m\u001b[0m\n",
      "\u001b[0;32m/usr/local/lib/python3.7/dist-packages/tensorflow/python/framework/func_graph.py\u001b[0m in \u001b[0;36mwrapper\u001b[0;34m(*args, **kwargs)\u001b[0m\n\u001b[1;32m    975\u001b[0m           \u001b[0;32mexcept\u001b[0m \u001b[0mException\u001b[0m \u001b[0;32mas\u001b[0m \u001b[0me\u001b[0m\u001b[0;34m:\u001b[0m  \u001b[0;31m# pylint:disable=broad-except\u001b[0m\u001b[0;34m\u001b[0m\u001b[0;34m\u001b[0m\u001b[0m\n\u001b[1;32m    976\u001b[0m             \u001b[0;32mif\u001b[0m \u001b[0mhasattr\u001b[0m\u001b[0;34m(\u001b[0m\u001b[0me\u001b[0m\u001b[0;34m,\u001b[0m \u001b[0;34m\"ag_error_metadata\"\u001b[0m\u001b[0;34m)\u001b[0m\u001b[0;34m:\u001b[0m\u001b[0;34m\u001b[0m\u001b[0;34m\u001b[0m\u001b[0m\n\u001b[0;32m--> 977\u001b[0;31m               \u001b[0;32mraise\u001b[0m \u001b[0me\u001b[0m\u001b[0;34m.\u001b[0m\u001b[0mag_error_metadata\u001b[0m\u001b[0;34m.\u001b[0m\u001b[0mto_exception\u001b[0m\u001b[0;34m(\u001b[0m\u001b[0me\u001b[0m\u001b[0;34m)\u001b[0m\u001b[0;34m\u001b[0m\u001b[0;34m\u001b[0m\u001b[0m\n\u001b[0m\u001b[1;32m    978\u001b[0m             \u001b[0;32melse\u001b[0m\u001b[0;34m:\u001b[0m\u001b[0;34m\u001b[0m\u001b[0;34m\u001b[0m\u001b[0m\n\u001b[1;32m    979\u001b[0m               \u001b[0;32mraise\u001b[0m\u001b[0;34m\u001b[0m\u001b[0;34m\u001b[0m\u001b[0m\n",
      "\u001b[0;31mValueError\u001b[0m: in user code:\n\n    /usr/local/lib/python3.7/dist-packages/tensorflow/python/keras/engine/training.py:1478 predict_function  *\n        return step_function(self, iterator)\n    /usr/local/lib/python3.7/dist-packages/tensorflow/python/keras/engine/training.py:1468 step_function  **\n        outputs = model.distribute_strategy.run(run_step, args=(data,))\n    /usr/local/lib/python3.7/dist-packages/tensorflow/python/distribute/distribute_lib.py:1259 run\n        return self._extended.call_for_each_replica(fn, args=args, kwargs=kwargs)\n    /usr/local/lib/python3.7/dist-packages/tensorflow/python/distribute/distribute_lib.py:2730 call_for_each_replica\n        return self._call_for_each_replica(fn, args, kwargs)\n    /usr/local/lib/python3.7/dist-packages/tensorflow/python/distribute/distribute_lib.py:3417 _call_for_each_replica\n        return fn(*args, **kwargs)\n    /usr/local/lib/python3.7/dist-packages/tensorflow/python/keras/engine/training.py:1461 run_step  **\n        outputs = model.predict_step(data)\n    /usr/local/lib/python3.7/dist-packages/tensorflow/python/keras/engine/training.py:1434 predict_step\n        return self(x, training=False)\n    /usr/local/lib/python3.7/dist-packages/tensorflow/python/keras/engine/base_layer.py:998 __call__\n        input_spec.assert_input_compatibility(self.input_spec, inputs, self.name)\n    /usr/local/lib/python3.7/dist-packages/tensorflow/python/keras/engine/input_spec.py:207 assert_input_compatibility\n        ' input tensors. Inputs received: ' + str(inputs))\n\n    ValueError: Layer sequential expects 1 input(s), but it received 2 input tensors. Inputs received: [<tf.Tensor 'IteratorGetNext:0' shape=(None, 1) dtype=float32>, <tf.Tensor 'IteratorGetNext:1' shape=(None, 1) dtype=float32>]\n"
     ]
    }
   ],
   "source": [
    "#Cargamos los resultados obtenidos en la etapa de train\n",
    "Infilteration.load_weights(\"/Infiltracion.hdf5\")\n",
    "\n",
    "#predecimos la naturaleza de los paquetes de test\n",
    "y_pred = Infilteration.predict([X_test[0], X_test[1]])\n",
    "\n",
    "print(y_pred)\n"
   ]
  },
  {
   "cell_type": "markdown",
   "metadata": {
    "id": "bOWjqzKXzXER"
   },
   "source": [
    "## Métricas de evaluación"
   ]
  },
  {
   "cell_type": "code",
   "execution_count": null,
   "metadata": {
    "colab": {
     "base_uri": "https://localhost:8080/"
    },
    "executionInfo": {
     "elapsed": 371,
     "status": "ok",
     "timestamp": 1616232860433,
     "user": {
      "displayName": "aday delgado",
      "photoUrl": "",
      "userId": "07115409466503129402"
     },
     "user_tz": -60
    },
    "id": "ser5qe2VzXER",
    "outputId": "3e3f69a3-23c2-4298-d232-be2fa53ffaf7"
   },
   "outputs": [
    {
     "data": {
      "text/plain": [
       "Benign           238037\n",
       "Infilteration     93063\n",
       "Name: Label, dtype: int64"
      ]
     },
     "execution_count": 57,
     "metadata": {
      "tags": []
     },
     "output_type": "execute_result"
    }
   ],
   "source": [
    "dataset[\"Label\"].value_counts()"
   ]
  },
  {
   "cell_type": "code",
   "execution_count": null,
   "metadata": {
    "colab": {
     "base_uri": "https://localhost:8080/",
     "height": 197
    },
    "executionInfo": {
     "elapsed": 551,
     "status": "error",
     "timestamp": 1616232860618,
     "user": {
      "displayName": "aday delgado",
      "photoUrl": "",
      "userId": "07115409466503129402"
     },
     "user_tz": -60
    },
    "id": "HGQDY-nazXER",
    "outputId": "ce3dc1ca-a592-4245-911b-dd4cc5a3e972"
   },
   "outputs": [
    {
     "ename": "NameError",
     "evalue": "ignored",
     "output_type": "error",
     "traceback": [
      "\u001b[0;31m---------------------------------------------------------------------------\u001b[0m",
      "\u001b[0;31mNameError\u001b[0m                                 Traceback (most recent call last)",
      "\u001b[0;32m<ipython-input-58-8d182f1c4894>\u001b[0m in \u001b[0;36m<module>\u001b[0;34m()\u001b[0m\n\u001b[1;32m      1\u001b[0m \u001b[0;32mfrom\u001b[0m \u001b[0msklearn\u001b[0m\u001b[0;34m.\u001b[0m\u001b[0mmetrics\u001b[0m \u001b[0;32mimport\u001b[0m \u001b[0mclassification_report\u001b[0m\u001b[0;34m\u001b[0m\u001b[0;34m\u001b[0m\u001b[0m\n\u001b[1;32m      2\u001b[0m \u001b[0;34m\u001b[0m\u001b[0m\n\u001b[0;32m----> 3\u001b[0;31m \u001b[0mprint\u001b[0m\u001b[0;34m(\u001b[0m\u001b[0mclassification_report\u001b[0m\u001b[0;34m(\u001b[0m\u001b[0my_test1\u001b[0m\u001b[0;34m,\u001b[0m \u001b[0my_pred\u001b[0m\u001b[0;34m,\u001b[0m\u001b[0mtarget_names\u001b[0m\u001b[0;34m=\u001b[0m\u001b[0mLabels\u001b[0m\u001b[0;34m,\u001b[0m \u001b[0mdigits\u001b[0m\u001b[0;34m=\u001b[0m\u001b[0;36m8\u001b[0m\u001b[0;34m,\u001b[0m \u001b[0mzero_division\u001b[0m\u001b[0;34m=\u001b[0m \u001b[0;34m\"warn\"\u001b[0m\u001b[0;34m)\u001b[0m\u001b[0;34m)\u001b[0m\u001b[0;34m\u001b[0m\u001b[0;34m\u001b[0m\u001b[0m\n\u001b[0m",
      "\u001b[0;31mNameError\u001b[0m: name 'y_pred' is not defined"
     ]
    }
   ],
   "source": [
    "from sklearn.metrics import classification_report\n",
    "\n",
    "print(classification_report(y_test1, y_pred,target_names=Labels, digits=8, zero_division= \"warn\"))"
   ]
  },
  {
   "cell_type": "markdown",
   "metadata": {
    "id": "juS8d3IlzXES"
   },
   "source": [
    "# Representaciones\n",
    "----\n",
    "## Matriz de confusión"
   ]
  },
  {
   "cell_type": "code",
   "execution_count": null,
   "metadata": {
    "id": "fSS1ksH1zXES",
    "outputId": "6a3e5de8-5662-424d-ed53-8bb38257745a"
   },
   "outputs": [
    {
     "data": {
      "text/plain": [
       "array([[194954,    362],\n",
       "       [ 40361,    366]], dtype=int64)"
      ]
     },
     "execution_count": 40,
     "metadata": {
      "tags": []
     },
     "output_type": "execute_result"
    }
   ],
   "source": [
    "from sklearn.metrics import confusion_matrix\n",
    "confusion_matrix(y_test1, y_pred)"
   ]
  },
  {
   "cell_type": "code",
   "execution_count": null,
   "metadata": {
    "id": "hEHiDe2szXES",
    "outputId": "3c59686f-c02b-4065-ace6-c074227bb47f",
    "scrolled": true
   },
   "outputs": [
    {
     "data": {
      "text/plain": [
       "array([[0.99814659, 0.00185341],\n",
       "       [0.99101333, 0.00898667]])"
      ]
     },
     "execution_count": 41,
     "metadata": {
      "tags": []
     },
     "output_type": "execute_result"
    }
   ],
   "source": [
    "# Normalized confusion matrix\n",
    "confusion_matrix(y_test1, y_pred, normalize='true')"
   ]
  },
  {
   "cell_type": "code",
   "execution_count": null,
   "metadata": {
    "id": "v6-l_6PJzXES"
   },
   "outputs": [],
   "source": [
    "y_test1_text = []\n",
    "for i in range(0, y_test1.size):\n",
    "    for j in range(0, Labels.size):\n",
    "        if y_test1[i] == j:\n",
    "            y_test1_text.append(Labels[j])"
   ]
  },
  {
   "cell_type": "code",
   "execution_count": null,
   "metadata": {
    "id": "C0FD7ebZzXES"
   },
   "outputs": [],
   "source": [
    "y_pred_text = []\n",
    "for i in range(0, y_pred.size):\n",
    "    for j in range(0, Labels.size):\n",
    "        if y_pred[i] == j:\n",
    "            y_pred_text.append(Labels[j])"
   ]
  },
  {
   "cell_type": "code",
   "execution_count": null,
   "metadata": {
    "id": "3CsX3mcTzXES",
    "outputId": "16ce3399-009d-40ca-ed47-f9a3e457a537"
   },
   "outputs": [
    {
     "data": {
      "text/plain": [
       "<AxesSubplot:title={'center':'Normalized Confusion Matrix'}, xlabel='Predicted label', ylabel='True label'>"
      ]
     },
     "execution_count": 44,
     "metadata": {
      "tags": []
     },
     "output_type": "execute_result"
    },
    {
     "data": {
      "image/png": "[encoded data removed]",
      "text/plain": [
       "<Figure size 936x936 with 2 Axes>"
      ]
     },
     "metadata": {
      "needs_background": "light",
      "tags": []
     },
     "output_type": "display_data"
    },
    {
     "data": {
      "image/png": "[encoded data removed]",
      "text/plain": [
       "<Figure size 936x936 with 2 Axes>"
      ]
     },
     "metadata": {
      "needs_background": "light",
      "tags": []
     },
     "output_type": "display_data"
    }
   ],
   "source": [
    "import scikitplot as skplt\n",
    "\n",
    "skplt.metrics.plot_confusion_matrix(y_test1_text, y_pred_text, figsize= (13,13))\n",
    "skplt.metrics.plot_confusion_matrix(y_test1_text, y_pred_text, normalize= True, figsize= (13,13))"
   ]
  },
  {
   "cell_type": "markdown",
   "metadata": {
    "id": "a1wPjj5KzXET"
   },
   "source": [
    "## ROC"
   ]
  },
  {
   "cell_type": "code",
   "execution_count": null,
   "metadata": {
    "id": "aJ7GpBA7zXET",
    "outputId": "f52b5ae4-aaa8-49f9-b52c-56ba8000ab0c"
   },
   "outputs": [
    {
     "ename": "AttributeError",
     "evalue": "module 'matplotlib' has no attribute 'plot'",
     "output_type": "error",
     "traceback": [
      "\u001b[1;31m---------------------------------------------------------------------------\u001b[0m",
      "\u001b[1;31mAttributeError\u001b[0m                            Traceback (most recent call last)",
      "\u001b[1;32m<ipython-input-36-6388cfbd7fb4>\u001b[0m in \u001b[0;36m<module>\u001b[1;34m\u001b[0m\n\u001b[0;32m      2\u001b[0m \u001b[1;32mimport\u001b[0m \u001b[0mmatplotlib\u001b[0m \u001b[1;32mas\u001b[0m \u001b[0mplt\u001b[0m\u001b[1;33m\u001b[0m\u001b[1;33m\u001b[0m\u001b[0m\n\u001b[0;32m      3\u001b[0m \u001b[0mfpr_keras\u001b[0m\u001b[1;33m,\u001b[0m \u001b[0mtpr_keras\u001b[0m\u001b[1;33m,\u001b[0m \u001b[0mthresholds_keras\u001b[0m \u001b[1;33m=\u001b[0m \u001b[0mroc_curve\u001b[0m\u001b[1;33m(\u001b[0m\u001b[0my_test1\u001b[0m\u001b[1;33m,\u001b[0m \u001b[0my_pred\u001b[0m\u001b[1;33m)\u001b[0m\u001b[1;33m\u001b[0m\u001b[1;33m\u001b[0m\u001b[0m\n\u001b[1;32m----> 4\u001b[1;33m \u001b[0mplt\u001b[0m\u001b[1;33m.\u001b[0m\u001b[0mplot\u001b[0m\u001b[1;33m(\u001b[0m\u001b[0mfpr_keras\u001b[0m\u001b[1;33m,\u001b[0m \u001b[0mtpr_keras\u001b[0m\u001b[1;33m,\u001b[0m \u001b[0mlabel\u001b[0m\u001b[1;33m=\u001b[0m\u001b[1;34m'CNN + LSTM'\u001b[0m\u001b[1;33m)\u001b[0m\u001b[1;33m\u001b[0m\u001b[1;33m\u001b[0m\u001b[0m\n\u001b[0m\u001b[0;32m      5\u001b[0m \u001b[0mplt\u001b[0m\u001b[1;33m.\u001b[0m\u001b[0mtitle\u001b[0m\u001b[1;33m(\u001b[0m\u001b[1;34m'ROC curve'\u001b[0m\u001b[1;33m)\u001b[0m\u001b[1;33m\u001b[0m\u001b[1;33m\u001b[0m\u001b[0m\n\u001b[0;32m      6\u001b[0m \u001b[0mplt\u001b[0m\u001b[1;33m.\u001b[0m\u001b[0mylabel\u001b[0m\u001b[1;33m(\u001b[0m\u001b[1;34m'True Positive Rate'\u001b[0m\u001b[1;33m)\u001b[0m\u001b[1;33m\u001b[0m\u001b[1;33m\u001b[0m\u001b[0m\n",
      "\u001b[1;31mAttributeError\u001b[0m: module 'matplotlib' has no attribute 'plot'"
     ]
    }
   ],
   "source": [
    "from sklearn.metrics import roc_curve\n",
    "import matplotlib as plt\n",
    "fpr_keras, tpr_keras, thresholds_keras = roc_curve(y_test1, y_pred)\n",
    "plt.plot(fpr_keras, tpr_keras, label='CNN + LSTM')\n",
    "plt.title('ROC curve')\n",
    "plt.ylabel('True Positive Rate')\n",
    "plt.xlabel('False Positive Rate')"
   ]
  },
  {
   "cell_type": "code",
   "execution_count": null,
   "metadata": {
    "id": "zhovA28UzXET"
   },
   "outputs": [],
   "source": []
  }
 ],
 "metadata": {
  "colab": {
   "collapsed_sections": [
    "a1wPjj5KzXET"
   ],
   "name": "CNN+LSTM-NO-TIMESTAMP-Parallel.ipynb",
   "provenance": []
  },
  "kernelspec": {
   "display_name": "Python 3",
   "language": "python",
   "name": "python3"
  },
  "language_info": {
   "codemirror_mode": {
    "name": "ipython",
    "version": 3
   },
   "file_extension": ".py",
   "mimetype": "text/x-python",
   "name": "python",
   "nbconvert_exporter": "python",
   "pygments_lexer": "ipython3",
   "version": "3.6.12"
  }
 },
 "nbformat": 4,
 "nbformat_minor": 1
}
